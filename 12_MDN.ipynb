{
  "nbformat": 4,
  "nbformat_minor": 0,
  "metadata": {
    "kernelspec": {
      "display_name": "Python 3",
      "language": "python",
      "name": "python3"
    },
    "language_info": {
      "codemirror_mode": {
        "name": "ipython",
        "version": 3
      },
      "file_extension": ".py",
      "mimetype": "text/x-python",
      "name": "python",
      "nbconvert_exporter": "python",
      "pygments_lexer": "ipython3",
      "version": "3.8.3"
    },
    "colab": {
      "name": "12_MDN.ipynb",
      "provenance": [],
      "collapsed_sections": [],
      "toc_visible": true
    }
  },
  "cells": [
    {
      "cell_type": "code",
      "metadata": {
        "id": "zUMi0V-eMqld",
        "colab_type": "code",
        "colab": {}
      },
      "source": [
        "# Por si alguien corre en python2\n",
        "from __future__ import division\n",
        "\n",
        "# Preparamos todo para correr\n",
        "import numpy as np\n",
        "from math import *\n",
        "from matplotlib import pylab as plt\n",
        "\n",
        "from tensorflow import keras\n",
        "%matplotlib inline\n",
        "%load_ext tensorboard"
      ],
      "execution_count": 0,
      "outputs": []
    },
    {
      "cell_type": "markdown",
      "metadata": {
        "id": "CRu_u7pQMqli",
        "colab_type": "text"
      },
      "source": [
        "## Mixture Density Networks (MDN)\n",
        "<a id='mixtures'></a>\n",
        "\n",
        "Cuando estudiamos regresión lineal, vimos que el error cuadrático aparecía naturalmente al suponer que la distribución condicional de los labels era normal:\n",
        "\n",
        "$$\n",
        "p(t|x, \\mathbf{w}, \\beta) = \\mathcal{N}(t|y(x,\\mathbf{w}), \\beta^{-1})\\;\\;.\n",
        "$$\n",
        "\n",
        "En ese caso, teníamos que el logaritmo de la versosimilitud de una serie de mediciones, $\\mathbf{X} = \\{\\mathbf{x}_1, \\ldots, \\mathbf{x}_N\\}$, con labels / outputs, $\\mathbf{t} = \\{t_1, \\ldots, t_N\\}$ era:\n",
        "\n",
        "$$\n",
        "\\begin{array}\n",
        "\\ln p(\\mathbf{t}|\\mathbf{w}, \\beta) &=& \\sum_{n=1}^N \\ln\\mathcal{N}(t_n|y(\\mathbf{x},\\mathbf{w}), \\beta^{-1})\\\\\n",
        "&=& \\frac{N}{2}\\ln\\beta - \\frac{N}{2}\\ln(2\\pi) - \\beta E_D(\\mathbf{w})\\;\\;,\n",
        "\\end{array}\n",
        "$$\n",
        "donde \n",
        "$$\n",
        "E_D(\\mathbf{w}) = \\frac{1}{2}\\sum_{n=1}^N\\left\\{t_n - \\mathbf{w}^T\\phi(\\mathbf{x}_n)\\right\\}^2 \\;\\;.\n",
        "$$\n",
        "\n",
        "En el marco de los modelos de redes neuronales, las funciones de base $\\phi$ se parametrizan para darle mayor flexibilidad al modelo, como estuvimos viendo estas semanas. "
      ]
    },
    {
      "cell_type": "markdown",
      "metadata": {
        "id": "n3o3qJ1AMqli",
        "colab_type": "text"
      },
      "source": [
        "Muy bien, veamos entonces que pueden hacer las redes neuronales frente a un problema sencillo de regresión, con un output y un input.\n",
        "\n",
        "Seguimos de cerca a Bishop"
      ]
    },
    {
      "cell_type": "code",
      "metadata": {
        "id": "8K23pR8vMqlj",
        "colab_type": "code",
        "colab": {
          "base_uri": "https://localhost:8080/",
          "height": 282
        },
        "outputId": "8c7c4e5a-3236-4b64-939f-b40037011627"
      },
      "source": [
        "# Fix seed\n",
        "np.random.seed(20200616)\n",
        "\n",
        "# Create dataset\n",
        "x = np.random.rand(600).reshape(-1, 1)\n",
        "t = x + 0.3 * np.sin(2 * np.pi * x)\n",
        "noise = (np.random.rand(x.shape[0]) * 0.2 - 0.1).reshape(-1, 1)\n",
        "\n",
        "t += noise\n",
        "# Separemos en train, test, y validation\n",
        "X_train, X_validation, X_test = x[:500], x[500: 550], x[550:]\n",
        "t_train, t_validation, t_test = t[:500], t[500: 550], t[550:]\n",
        "\n",
        "# Veamos los datos\n",
        "plt.plot(X_train, t_train, '.')"
      ],
      "execution_count": 267,
      "outputs": [
        {
          "output_type": "execute_result",
          "data": {
            "text/plain": [
              "[<matplotlib.lines.Line2D at 0x7f105e4c9da0>]"
            ]
          },
          "metadata": {
            "tags": []
          },
          "execution_count": 267
        },
        {
          "output_type": "display_data",
          "data": {
            "image/png": "[encoded data removed]",
            "text/plain": [
              "<Figure size 432x288 with 1 Axes>"
            ]
          },
          "metadata": {
            "tags": [],
            "needs_background": "light"
          }
        }
      ]
    },
    {
      "cell_type": "code",
      "metadata": {
        "id": "y8OXSm6uMqlm",
        "colab_type": "code",
        "colab": {}
      },
      "source": [
        "#\n",
        "from tensorflow import keras\n",
        "\n",
        "# Build simple DNN\n",
        "modelo = keras.Sequential()\n",
        "#modelo.add(keras.layers.InputLayer(input_shape=X_train.shape[1:]))\n",
        "modelo.add(keras.layers.Dense(6, activation='tanh'))\n",
        "modelo.add(keras.layers.Dense(3, activation='tanh'))\n",
        "modelo.add(keras.layers.Dense(1, activation=None))\n",
        "\n",
        "#keras.utils.plot_model(modelo, show_shapes=True)"
      ],
      "execution_count": 0,
      "outputs": []
    },
    {
      "cell_type": "code",
      "metadata": {
        "id": "AzVIJTNEMqlp",
        "colab_type": "code",
        "colab": {}
      },
      "source": [
        "modelo.compile(loss=\"mse\", optimizer=keras.optimizers.Adam(learning_rate=0.001))"
      ],
      "execution_count": 0,
      "outputs": []
    },
    {
      "cell_type": "code",
      "metadata": {
        "id": "R3KzEoIQMqls",
        "colab_type": "code",
        "colab": {
          "base_uri": "https://localhost:8080/",
          "height": 1000
        },
        "outputId": "21a5880e-e402-4dc8-9007-ba435ab4aac6"
      },
      "source": [
        "#print(X_train.shape, y_train.shape)\n",
        "history = modelo.fit(X_train, t_train, epochs=500, validation_data=(X_validation, t_validation))"
      ],
      "execution_count": 5,
      "outputs": [
        {
          "output_type": "stream",
          "text": [
            "Epoch 1/500\n",
            "7/7 [==============================] - 0s 25ms/step - loss: 0.3006 - val_loss: 0.2320\n",
            "Epoch 2/500\n",
            "7/7 [==============================] - 0s 7ms/step - loss: 0.2343 - val_loss: 0.1794\n",
            "Epoch 3/500\n",
            "7/7 [==============================] - 0s 6ms/step - loss: 0.1804 - val_loss: 0.1363\n",
            "Epoch 4/500\n",
            "7/7 [==============================] - 0s 6ms/step - loss: 0.1367 - val_loss: 0.1023\n",
            "Epoch 5/500\n",
            "7/7 [==============================] - 0s 6ms/step - loss: 0.1018 - val_loss: 0.0766\n",
            "Epoch 6/500\n",
            "7/7 [==============================] - 0s 7ms/step - loss: 0.0766 - val_loss: 0.0579\n",
            "Epoch 7/500\n",
            "7/7 [==============================] - 0s 7ms/step - loss: 0.0574 - val_loss: 0.0448\n",
            "Epoch 8/500\n",
            "7/7 [==============================] - 0s 7ms/step - loss: 0.0444 - val_loss: 0.0359\n",
            "Epoch 9/500\n",
            "7/7 [==============================] - 0s 7ms/step - loss: 0.0356 - val_loss: 0.0300\n",
            "Epoch 10/500\n",
            "7/7 [==============================] - 0s 6ms/step - loss: 0.0303 - val_loss: 0.0264\n",
            "Epoch 11/500\n",
            "7/7 [==============================] - 0s 7ms/step - loss: 0.0265 - val_loss: 0.0244\n",
            "Epoch 12/500\n",
            "7/7 [==============================] - 0s 8ms/step - loss: 0.0246 - val_loss: 0.0233\n",
            "Epoch 13/500\n",
            "7/7 [==============================] - 0s 7ms/step - loss: 0.0235 - val_loss: 0.0228\n",
            "Epoch 14/500\n",
            "7/7 [==============================] - 0s 7ms/step - loss: 0.0229 - val_loss: 0.0225\n",
            "Epoch 15/500\n",
            "7/7 [==============================] - 0s 6ms/step - loss: 0.0227 - val_loss: 0.0223\n",
            "Epoch 16/500\n",
            "7/7 [==============================] - 0s 6ms/step - loss: 0.0224 - val_loss: 0.0223\n",
            "Epoch 17/500\n",
            "7/7 [==============================] - 0s 7ms/step - loss: 0.0223 - val_loss: 0.0222\n",
            "Epoch 18/500\n",
            "7/7 [==============================] - 0s 6ms/step - loss: 0.0223 - val_loss: 0.0222\n",
            "Epoch 19/500\n",
            "7/7 [==============================] - 0s 7ms/step - loss: 0.0222 - val_loss: 0.0222\n",
            "Epoch 20/500\n",
            "7/7 [==============================] - 0s 6ms/step - loss: 0.0221 - val_loss: 0.0222\n",
            "Epoch 21/500\n",
            "7/7 [==============================] - 0s 6ms/step - loss: 0.0221 - val_loss: 0.0221\n",
            "Epoch 22/500\n",
            "7/7 [==============================] - 0s 6ms/step - loss: 0.0220 - val_loss: 0.0221\n",
            "Epoch 23/500\n",
            "7/7 [==============================] - 0s 7ms/step - loss: 0.0220 - val_loss: 0.0221\n",
            "Epoch 24/500\n",
            "7/7 [==============================] - 0s 8ms/step - loss: 0.0219 - val_loss: 0.0220\n",
            "Epoch 25/500\n",
            "7/7 [==============================] - 0s 7ms/step - loss: 0.0219 - val_loss: 0.0220\n",
            "Epoch 26/500\n",
            "7/7 [==============================] - 0s 8ms/step - loss: 0.0218 - val_loss: 0.0220\n",
            "Epoch 27/500\n",
            "7/7 [==============================] - 0s 7ms/step - loss: 0.0218 - val_loss: 0.0219\n",
            "Epoch 28/500\n",
            "7/7 [==============================] - 0s 8ms/step - loss: 0.0217 - val_loss: 0.0219\n",
            "Epoch 29/500\n",
            "7/7 [==============================] - 0s 7ms/step - loss: 0.0217 - val_loss: 0.0219\n",
            "Epoch 30/500\n",
            "7/7 [==============================] - 0s 7ms/step - loss: 0.0216 - val_loss: 0.0219\n",
            "Epoch 31/500\n",
            "7/7 [==============================] - 0s 7ms/step - loss: 0.0216 - val_loss: 0.0219\n",
            "Epoch 32/500\n",
            "7/7 [==============================] - 0s 7ms/step - loss: 0.0215 - val_loss: 0.0218\n",
            "Epoch 33/500\n",
            "7/7 [==============================] - 0s 7ms/step - loss: 0.0215 - val_loss: 0.0218\n",
            "Epoch 34/500\n",
            "7/7 [==============================] - 0s 8ms/step - loss: 0.0214 - val_loss: 0.0218\n",
            "Epoch 35/500\n",
            "7/7 [==============================] - 0s 7ms/step - loss: 0.0214 - val_loss: 0.0218\n",
            "Epoch 36/500\n",
            "7/7 [==============================] - 0s 7ms/step - loss: 0.0214 - val_loss: 0.0218\n",
            "Epoch 37/500\n",
            "7/7 [==============================] - 0s 7ms/step - loss: 0.0213 - val_loss: 0.0218\n",
            "Epoch 38/500\n",
            "7/7 [==============================] - 0s 8ms/step - loss: 0.0213 - val_loss: 0.0218\n",
            "Epoch 39/500\n",
            "7/7 [==============================] - 0s 8ms/step - loss: 0.0213 - val_loss: 0.0218\n",
            "Epoch 40/500\n",
            "7/7 [==============================] - 0s 6ms/step - loss: 0.0212 - val_loss: 0.0218\n",
            "Epoch 41/500\n",
            "7/7 [==============================] - 0s 6ms/step - loss: 0.0212 - val_loss: 0.0217\n",
            "Epoch 42/500\n",
            "7/7 [==============================] - 0s 6ms/step - loss: 0.0212 - val_loss: 0.0217\n",
            "Epoch 43/500\n",
            "7/7 [==============================] - 0s 7ms/step - loss: 0.0212 - val_loss: 0.0217\n",
            "Epoch 44/500\n",
            "7/7 [==============================] - 0s 7ms/step - loss: 0.0212 - val_loss: 0.0217\n",
            "Epoch 45/500\n",
            "7/7 [==============================] - 0s 7ms/step - loss: 0.0211 - val_loss: 0.0217\n",
            "Epoch 46/500\n",
            "7/7 [==============================] - 0s 6ms/step - loss: 0.0211 - val_loss: 0.0217\n",
            "Epoch 47/500\n",
            "7/7 [==============================] - 0s 7ms/step - loss: 0.0211 - val_loss: 0.0217\n",
            "Epoch 48/500\n",
            "7/7 [==============================] - 0s 6ms/step - loss: 0.0211 - val_loss: 0.0218\n",
            "Epoch 49/500\n",
            "7/7 [==============================] - 0s 7ms/step - loss: 0.0211 - val_loss: 0.0218\n",
            "Epoch 50/500\n",
            "7/7 [==============================] - 0s 6ms/step - loss: 0.0210 - val_loss: 0.0218\n",
            "Epoch 51/500\n",
            "7/7 [==============================] - 0s 8ms/step - loss: 0.0210 - val_loss: 0.0218\n",
            "Epoch 52/500\n",
            "7/7 [==============================] - 0s 6ms/step - loss: 0.0210 - val_loss: 0.0218\n",
            "Epoch 53/500\n",
            "7/7 [==============================] - 0s 6ms/step - loss: 0.0210 - val_loss: 0.0218\n",
            "Epoch 54/500\n",
            "7/7 [==============================] - 0s 6ms/step - loss: 0.0210 - val_loss: 0.0218\n",
            "Epoch 55/500\n",
            "7/7 [==============================] - 0s 6ms/step - loss: 0.0210 - val_loss: 0.0218\n",
            "Epoch 56/500\n",
            "7/7 [==============================] - 0s 8ms/step - loss: 0.0210 - val_loss: 0.0218\n",
            "Epoch 57/500\n",
            "7/7 [==============================] - 0s 7ms/step - loss: 0.0209 - val_loss: 0.0218\n",
            "Epoch 58/500\n",
            "7/7 [==============================] - 0s 6ms/step - loss: 0.0209 - val_loss: 0.0218\n",
            "Epoch 59/500\n",
            "7/7 [==============================] - 0s 6ms/step - loss: 0.0209 - val_loss: 0.0218\n",
            "Epoch 60/500\n",
            "7/7 [==============================] - 0s 6ms/step - loss: 0.0209 - val_loss: 0.0218\n",
            "Epoch 61/500\n",
            "7/7 [==============================] - 0s 6ms/step - loss: 0.0209 - val_loss: 0.0218\n",
            "Epoch 62/500\n",
            "7/7 [==============================] - 0s 6ms/step - loss: 0.0209 - val_loss: 0.0218\n",
            "Epoch 63/500\n",
            "7/7 [==============================] - 0s 6ms/step - loss: 0.0209 - val_loss: 0.0218\n",
            "Epoch 64/500\n",
            "7/7 [==============================] - 0s 6ms/step - loss: 0.0209 - val_loss: 0.0218\n",
            "Epoch 65/500\n",
            "7/7 [==============================] - 0s 7ms/step - loss: 0.0209 - val_loss: 0.0218\n",
            "Epoch 66/500\n",
            "7/7 [==============================] - 0s 7ms/step - loss: 0.0209 - val_loss: 0.0219\n",
            "Epoch 67/500\n",
            "7/7 [==============================] - 0s 6ms/step - loss: 0.0209 - val_loss: 0.0219\n",
            "Epoch 68/500\n",
            "7/7 [==============================] - 0s 6ms/step - loss: 0.0209 - val_loss: 0.0219\n",
            "Epoch 69/500\n",
            "7/7 [==============================] - 0s 6ms/step - loss: 0.0209 - val_loss: 0.0219\n",
            "Epoch 70/500\n",
            "7/7 [==============================] - 0s 6ms/step - loss: 0.0209 - val_loss: 0.0219\n",
            "Epoch 71/500\n",
            "7/7 [==============================] - 0s 7ms/step - loss: 0.0209 - val_loss: 0.0220\n",
            "Epoch 72/500\n",
            "7/7 [==============================] - 0s 8ms/step - loss: 0.0209 - val_loss: 0.0219\n",
            "Epoch 73/500\n",
            "7/7 [==============================] - 0s 7ms/step - loss: 0.0209 - val_loss: 0.0219\n",
            "Epoch 74/500\n",
            "7/7 [==============================] - 0s 7ms/step - loss: 0.0209 - val_loss: 0.0219\n",
            "Epoch 75/500\n",
            "7/7 [==============================] - 0s 7ms/step - loss: 0.0209 - val_loss: 0.0219\n",
            "Epoch 76/500\n",
            "7/7 [==============================] - 0s 6ms/step - loss: 0.0209 - val_loss: 0.0219\n",
            "Epoch 77/500\n",
            "7/7 [==============================] - 0s 6ms/step - loss: 0.0209 - val_loss: 0.0219\n",
            "Epoch 78/500\n",
            "7/7 [==============================] - 0s 6ms/step - loss: 0.0209 - val_loss: 0.0219\n",
            "Epoch 79/500\n",
            "7/7 [==============================] - 0s 6ms/step - loss: 0.0209 - val_loss: 0.0219\n",
            "Epoch 80/500\n",
            "7/7 [==============================] - 0s 6ms/step - loss: 0.0209 - val_loss: 0.0219\n",
            "Epoch 81/500\n",
            "7/7 [==============================] - 0s 6ms/step - loss: 0.0209 - val_loss: 0.0219\n",
            "Epoch 82/500\n",
            "7/7 [==============================] - 0s 6ms/step - loss: 0.0209 - val_loss: 0.0220\n",
            "Epoch 83/500\n",
            "7/7 [==============================] - 0s 7ms/step - loss: 0.0209 - val_loss: 0.0219\n",
            "Epoch 84/500\n",
            "7/7 [==============================] - 0s 6ms/step - loss: 0.0209 - val_loss: 0.0219\n",
            "Epoch 85/500\n",
            "7/7 [==============================] - 0s 8ms/step - loss: 0.0209 - val_loss: 0.0219\n",
            "Epoch 86/500\n",
            "7/7 [==============================] - 0s 6ms/step - loss: 0.0209 - val_loss: 0.0219\n",
            "Epoch 87/500\n",
            "7/7 [==============================] - 0s 6ms/step - loss: 0.0209 - val_loss: 0.0219\n",
            "Epoch 88/500\n",
            "7/7 [==============================] - 0s 6ms/step - loss: 0.0209 - val_loss: 0.0219\n",
            "Epoch 89/500\n",
            "7/7 [==============================] - 0s 7ms/step - loss: 0.0209 - val_loss: 0.0219\n",
            "Epoch 90/500\n",
            "7/7 [==============================] - 0s 7ms/step - loss: 0.0209 - val_loss: 0.0219\n",
            "Epoch 91/500\n",
            "7/7 [==============================] - 0s 6ms/step - loss: 0.0209 - val_loss: 0.0219\n",
            "Epoch 92/500\n",
            "7/7 [==============================] - 0s 6ms/step - loss: 0.0208 - val_loss: 0.0219\n",
            "Epoch 93/500\n",
            "7/7 [==============================] - 0s 6ms/step - loss: 0.0209 - val_loss: 0.0219\n",
            "Epoch 94/500\n",
            "7/7 [==============================] - 0s 8ms/step - loss: 0.0209 - val_loss: 0.0219\n",
            "Epoch 95/500\n",
            "7/7 [==============================] - 0s 6ms/step - loss: 0.0209 - val_loss: 0.0219\n",
            "Epoch 96/500\n",
            "7/7 [==============================] - 0s 6ms/step - loss: 0.0209 - val_loss: 0.0219\n",
            "Epoch 97/500\n",
            "7/7 [==============================] - 0s 6ms/step - loss: 0.0209 - val_loss: 0.0219\n",
            "Epoch 98/500\n",
            "7/7 [==============================] - 0s 6ms/step - loss: 0.0209 - val_loss: 0.0220\n",
            "Epoch 99/500\n",
            "7/7 [==============================] - 0s 6ms/step - loss: 0.0209 - val_loss: 0.0219\n",
            "Epoch 100/500\n",
            "7/7 [==============================] - 0s 7ms/step - loss: 0.0208 - val_loss: 0.0219\n",
            "Epoch 101/500\n",
            "7/7 [==============================] - 0s 6ms/step - loss: 0.0208 - val_loss: 0.0220\n",
            "Epoch 102/500\n",
            "7/7 [==============================] - 0s 7ms/step - loss: 0.0208 - val_loss: 0.0220\n",
            "Epoch 103/500\n",
            "7/7 [==============================] - 0s 6ms/step - loss: 0.0208 - val_loss: 0.0220\n",
            "Epoch 104/500\n",
            "7/7 [==============================] - 0s 8ms/step - loss: 0.0209 - val_loss: 0.0219\n",
            "Epoch 105/500\n",
            "7/7 [==============================] - 0s 6ms/step - loss: 0.0209 - val_loss: 0.0220\n",
            "Epoch 106/500\n",
            "7/7 [==============================] - 0s 6ms/step - loss: 0.0209 - val_loss: 0.0220\n",
            "Epoch 107/500\n",
            "7/7 [==============================] - 0s 7ms/step - loss: 0.0209 - val_loss: 0.0220\n",
            "Epoch 108/500\n",
            "7/7 [==============================] - 0s 7ms/step - loss: 0.0208 - val_loss: 0.0220\n",
            "Epoch 109/500\n",
            "7/7 [==============================] - 0s 6ms/step - loss: 0.0208 - val_loss: 0.0220\n",
            "Epoch 110/500\n",
            "7/7 [==============================] - 0s 7ms/step - loss: 0.0208 - val_loss: 0.0219\n",
            "Epoch 111/500\n",
            "7/7 [==============================] - 0s 7ms/step - loss: 0.0208 - val_loss: 0.0220\n",
            "Epoch 112/500\n",
            "7/7 [==============================] - 0s 7ms/step - loss: 0.0208 - val_loss: 0.0220\n",
            "Epoch 113/500\n",
            "7/7 [==============================] - 0s 8ms/step - loss: 0.0208 - val_loss: 0.0220\n",
            "Epoch 114/500\n",
            "7/7 [==============================] - 0s 7ms/step - loss: 0.0209 - val_loss: 0.0220\n",
            "Epoch 115/500\n",
            "7/7 [==============================] - 0s 7ms/step - loss: 0.0208 - val_loss: 0.0220\n",
            "Epoch 116/500\n",
            "7/7 [==============================] - 0s 7ms/step - loss: 0.0208 - val_loss: 0.0220\n",
            "Epoch 117/500\n",
            "7/7 [==============================] - 0s 9ms/step - loss: 0.0208 - val_loss: 0.0220\n",
            "Epoch 118/500\n",
            "7/7 [==============================] - 0s 7ms/step - loss: 0.0209 - val_loss: 0.0220\n",
            "Epoch 119/500\n",
            "7/7 [==============================] - 0s 8ms/step - loss: 0.0208 - val_loss: 0.0220\n",
            "Epoch 120/500\n",
            "7/7 [==============================] - 0s 7ms/step - loss: 0.0208 - val_loss: 0.0220\n",
            "Epoch 121/500\n",
            "7/7 [==============================] - 0s 6ms/step - loss: 0.0209 - val_loss: 0.0220\n",
            "Epoch 122/500\n",
            "7/7 [==============================] - 0s 6ms/step - loss: 0.0209 - val_loss: 0.0220\n",
            "Epoch 123/500\n",
            "7/7 [==============================] - 0s 8ms/step - loss: 0.0208 - val_loss: 0.0219\n",
            "Epoch 124/500\n",
            "7/7 [==============================] - 0s 6ms/step - loss: 0.0208 - val_loss: 0.0219\n",
            "Epoch 125/500\n",
            "7/7 [==============================] - 0s 6ms/step - loss: 0.0208 - val_loss: 0.0219\n",
            "Epoch 126/500\n",
            "7/7 [==============================] - 0s 6ms/step - loss: 0.0208 - val_loss: 0.0220\n",
            "Epoch 127/500\n",
            "7/7 [==============================] - 0s 6ms/step - loss: 0.0209 - val_loss: 0.0220\n",
            "Epoch 128/500\n",
            "7/7 [==============================] - 0s 6ms/step - loss: 0.0208 - val_loss: 0.0220\n",
            "Epoch 129/500\n",
            "7/7 [==============================] - 0s 6ms/step - loss: 0.0208 - val_loss: 0.0220\n",
            "Epoch 130/500\n",
            "7/7 [==============================] - 0s 6ms/step - loss: 0.0208 - val_loss: 0.0219\n",
            "Epoch 131/500\n",
            "7/7 [==============================] - 0s 7ms/step - loss: 0.0208 - val_loss: 0.0219\n",
            "Epoch 132/500\n",
            "7/7 [==============================] - 0s 7ms/step - loss: 0.0209 - val_loss: 0.0219\n",
            "Epoch 133/500\n",
            "7/7 [==============================] - 0s 6ms/step - loss: 0.0208 - val_loss: 0.0219\n",
            "Epoch 134/500\n",
            "7/7 [==============================] - 0s 6ms/step - loss: 0.0208 - val_loss: 0.0220\n",
            "Epoch 135/500\n",
            "7/7 [==============================] - 0s 6ms/step - loss: 0.0209 - val_loss: 0.0222\n",
            "Epoch 136/500\n",
            "7/7 [==============================] - 0s 6ms/step - loss: 0.0210 - val_loss: 0.0221\n",
            "Epoch 137/500\n",
            "7/7 [==============================] - 0s 7ms/step - loss: 0.0209 - val_loss: 0.0219\n",
            "Epoch 138/500\n",
            "7/7 [==============================] - 0s 6ms/step - loss: 0.0208 - val_loss: 0.0219\n",
            "Epoch 139/500\n",
            "7/7 [==============================] - 0s 6ms/step - loss: 0.0209 - val_loss: 0.0219\n",
            "Epoch 140/500\n",
            "7/7 [==============================] - 0s 6ms/step - loss: 0.0209 - val_loss: 0.0219\n",
            "Epoch 141/500\n",
            "7/7 [==============================] - 0s 7ms/step - loss: 0.0208 - val_loss: 0.0219\n",
            "Epoch 142/500\n",
            "7/7 [==============================] - 0s 6ms/step - loss: 0.0208 - val_loss: 0.0220\n",
            "Epoch 143/500\n",
            "7/7 [==============================] - 0s 6ms/step - loss: 0.0208 - val_loss: 0.0221\n",
            "Epoch 144/500\n",
            "7/7 [==============================] - 0s 8ms/step - loss: 0.0209 - val_loss: 0.0221\n",
            "Epoch 145/500\n",
            "7/7 [==============================] - 0s 7ms/step - loss: 0.0209 - val_loss: 0.0221\n",
            "Epoch 146/500\n",
            "7/7 [==============================] - 0s 6ms/step - loss: 0.0208 - val_loss: 0.0220\n",
            "Epoch 147/500\n",
            "7/7 [==============================] - 0s 6ms/step - loss: 0.0208 - val_loss: 0.0219\n",
            "Epoch 148/500\n",
            "7/7 [==============================] - 0s 6ms/step - loss: 0.0208 - val_loss: 0.0219\n",
            "Epoch 149/500\n",
            "7/7 [==============================] - 0s 6ms/step - loss: 0.0208 - val_loss: 0.0219\n",
            "Epoch 150/500\n",
            "7/7 [==============================] - 0s 6ms/step - loss: 0.0208 - val_loss: 0.0219\n",
            "Epoch 151/500\n",
            "7/7 [==============================] - 0s 7ms/step - loss: 0.0208 - val_loss: 0.0219\n",
            "Epoch 152/500\n",
            "7/7 [==============================] - 0s 6ms/step - loss: 0.0208 - val_loss: 0.0219\n",
            "Epoch 153/500\n",
            "7/7 [==============================] - 0s 6ms/step - loss: 0.0208 - val_loss: 0.0219\n",
            "Epoch 154/500\n",
            "7/7 [==============================] - 0s 6ms/step - loss: 0.0208 - val_loss: 0.0220\n",
            "Epoch 155/500\n",
            "7/7 [==============================] - 0s 6ms/step - loss: 0.0208 - val_loss: 0.0219\n",
            "Epoch 156/500\n",
            "7/7 [==============================] - 0s 6ms/step - loss: 0.0208 - val_loss: 0.0219\n",
            "Epoch 157/500\n",
            "7/7 [==============================] - 0s 6ms/step - loss: 0.0208 - val_loss: 0.0220\n",
            "Epoch 158/500\n",
            "7/7 [==============================] - 0s 6ms/step - loss: 0.0208 - val_loss: 0.0220\n",
            "Epoch 159/500\n",
            "7/7 [==============================] - 0s 6ms/step - loss: 0.0209 - val_loss: 0.0221\n",
            "Epoch 160/500\n",
            "7/7 [==============================] - 0s 7ms/step - loss: 0.0209 - val_loss: 0.0221\n",
            "Epoch 161/500\n",
            "7/7 [==============================] - 0s 6ms/step - loss: 0.0208 - val_loss: 0.0219\n",
            "Epoch 162/500\n",
            "7/7 [==============================] - 0s 6ms/step - loss: 0.0208 - val_loss: 0.0219\n",
            "Epoch 163/500\n",
            "7/7 [==============================] - 0s 8ms/step - loss: 0.0208 - val_loss: 0.0219\n",
            "Epoch 164/500\n",
            "7/7 [==============================] - 0s 8ms/step - loss: 0.0208 - val_loss: 0.0219\n",
            "Epoch 165/500\n",
            "7/7 [==============================] - 0s 6ms/step - loss: 0.0209 - val_loss: 0.0219\n",
            "Epoch 166/500\n",
            "7/7 [==============================] - 0s 6ms/step - loss: 0.0208 - val_loss: 0.0219\n",
            "Epoch 167/500\n",
            "7/7 [==============================] - 0s 6ms/step - loss: 0.0208 - val_loss: 0.0220\n",
            "Epoch 168/500\n",
            "7/7 [==============================] - 0s 7ms/step - loss: 0.0208 - val_loss: 0.0219\n",
            "Epoch 169/500\n",
            "7/7 [==============================] - 0s 7ms/step - loss: 0.0208 - val_loss: 0.0220\n",
            "Epoch 170/500\n",
            "7/7 [==============================] - 0s 7ms/step - loss: 0.0208 - val_loss: 0.0220\n",
            "Epoch 171/500\n",
            "7/7 [==============================] - 0s 6ms/step - loss: 0.0209 - val_loss: 0.0220\n",
            "Epoch 172/500\n",
            "7/7 [==============================] - 0s 6ms/step - loss: 0.0208 - val_loss: 0.0220\n",
            "Epoch 173/500\n",
            "7/7 [==============================] - 0s 6ms/step - loss: 0.0208 - val_loss: 0.0220\n",
            "Epoch 174/500\n",
            "7/7 [==============================] - 0s 6ms/step - loss: 0.0208 - val_loss: 0.0220\n",
            "Epoch 175/500\n",
            "7/7 [==============================] - 0s 6ms/step - loss: 0.0208 - val_loss: 0.0219\n",
            "Epoch 176/500\n",
            "7/7 [==============================] - 0s 6ms/step - loss: 0.0208 - val_loss: 0.0220\n",
            "Epoch 177/500\n",
            "7/7 [==============================] - 0s 6ms/step - loss: 0.0208 - val_loss: 0.0219\n",
            "Epoch 178/500\n",
            "7/7 [==============================] - 0s 6ms/step - loss: 0.0208 - val_loss: 0.0219\n",
            "Epoch 179/500\n",
            "7/7 [==============================] - 0s 8ms/step - loss: 0.0208 - val_loss: 0.0219\n",
            "Epoch 180/500\n",
            "7/7 [==============================] - 0s 6ms/step - loss: 0.0208 - val_loss: 0.0219\n",
            "Epoch 181/500\n",
            "7/7 [==============================] - 0s 6ms/step - loss: 0.0208 - val_loss: 0.0219\n",
            "Epoch 182/500\n",
            "7/7 [==============================] - 0s 6ms/step - loss: 0.0208 - val_loss: 0.0220\n",
            "Epoch 183/500\n",
            "7/7 [==============================] - 0s 6ms/step - loss: 0.0209 - val_loss: 0.0221\n",
            "Epoch 184/500\n",
            "7/7 [==============================] - 0s 8ms/step - loss: 0.0208 - val_loss: 0.0220\n",
            "Epoch 185/500\n",
            "7/7 [==============================] - 0s 6ms/step - loss: 0.0208 - val_loss: 0.0220\n",
            "Epoch 186/500\n",
            "7/7 [==============================] - 0s 7ms/step - loss: 0.0209 - val_loss: 0.0219\n",
            "Epoch 187/500\n",
            "7/7 [==============================] - 0s 6ms/step - loss: 0.0208 - val_loss: 0.0220\n",
            "Epoch 188/500\n",
            "7/7 [==============================] - 0s 6ms/step - loss: 0.0208 - val_loss: 0.0220\n",
            "Epoch 189/500\n",
            "7/7 [==============================] - 0s 8ms/step - loss: 0.0208 - val_loss: 0.0220\n",
            "Epoch 190/500\n",
            "7/7 [==============================] - 0s 6ms/step - loss: 0.0208 - val_loss: 0.0219\n",
            "Epoch 191/500\n",
            "7/7 [==============================] - 0s 7ms/step - loss: 0.0208 - val_loss: 0.0219\n",
            "Epoch 192/500\n",
            "7/7 [==============================] - 0s 6ms/step - loss: 0.0208 - val_loss: 0.0219\n",
            "Epoch 193/500\n",
            "7/7 [==============================] - 0s 6ms/step - loss: 0.0208 - val_loss: 0.0219\n",
            "Epoch 194/500\n",
            "7/7 [==============================] - 0s 6ms/step - loss: 0.0208 - val_loss: 0.0219\n",
            "Epoch 195/500\n",
            "7/7 [==============================] - 0s 6ms/step - loss: 0.0209 - val_loss: 0.0220\n",
            "Epoch 196/500\n",
            "7/7 [==============================] - 0s 7ms/step - loss: 0.0208 - val_loss: 0.0220\n",
            "Epoch 197/500\n",
            "7/7 [==============================] - 0s 6ms/step - loss: 0.0208 - val_loss: 0.0219\n",
            "Epoch 198/500\n",
            "7/7 [==============================] - 0s 8ms/step - loss: 0.0208 - val_loss: 0.0219\n",
            "Epoch 199/500\n",
            "7/7 [==============================] - 0s 7ms/step - loss: 0.0208 - val_loss: 0.0219\n",
            "Epoch 200/500\n",
            "7/7 [==============================] - 0s 6ms/step - loss: 0.0208 - val_loss: 0.0219\n",
            "Epoch 201/500\n",
            "7/7 [==============================] - 0s 6ms/step - loss: 0.0209 - val_loss: 0.0220\n",
            "Epoch 202/500\n",
            "7/7 [==============================] - 0s 6ms/step - loss: 0.0208 - val_loss: 0.0219\n",
            "Epoch 203/500\n",
            "7/7 [==============================] - 0s 6ms/step - loss: 0.0208 - val_loss: 0.0219\n",
            "Epoch 204/500\n",
            "7/7 [==============================] - 0s 8ms/step - loss: 0.0208 - val_loss: 0.0220\n",
            "Epoch 205/500\n",
            "7/7 [==============================] - 0s 7ms/step - loss: 0.0208 - val_loss: 0.0220\n",
            "Epoch 206/500\n",
            "7/7 [==============================] - 0s 6ms/step - loss: 0.0208 - val_loss: 0.0220\n",
            "Epoch 207/500\n",
            "7/7 [==============================] - 0s 6ms/step - loss: 0.0208 - val_loss: 0.0219\n",
            "Epoch 208/500\n",
            "7/7 [==============================] - 0s 7ms/step - loss: 0.0208 - val_loss: 0.0219\n",
            "Epoch 209/500\n",
            "7/7 [==============================] - 0s 6ms/step - loss: 0.0207 - val_loss: 0.0219\n",
            "Epoch 210/500\n",
            "7/7 [==============================] - 0s 6ms/step - loss: 0.0208 - val_loss: 0.0219\n",
            "Epoch 211/500\n",
            "7/7 [==============================] - 0s 6ms/step - loss: 0.0208 - val_loss: 0.0219\n",
            "Epoch 212/500\n",
            "7/7 [==============================] - 0s 6ms/step - loss: 0.0208 - val_loss: 0.0219\n",
            "Epoch 213/500\n",
            "7/7 [==============================] - 0s 6ms/step - loss: 0.0208 - val_loss: 0.0219\n",
            "Epoch 214/500\n",
            "7/7 [==============================] - 0s 6ms/step - loss: 0.0208 - val_loss: 0.0218\n",
            "Epoch 215/500\n",
            "7/7 [==============================] - 0s 6ms/step - loss: 0.0209 - val_loss: 0.0219\n",
            "Epoch 216/500\n",
            "7/7 [==============================] - 0s 6ms/step - loss: 0.0208 - val_loss: 0.0221\n",
            "Epoch 217/500\n",
            "7/7 [==============================] - 0s 7ms/step - loss: 0.0209 - val_loss: 0.0221\n",
            "Epoch 218/500\n",
            "7/7 [==============================] - 0s 6ms/step - loss: 0.0209 - val_loss: 0.0221\n",
            "Epoch 219/500\n",
            "7/7 [==============================] - 0s 6ms/step - loss: 0.0208 - val_loss: 0.0219\n",
            "Epoch 220/500\n",
            "7/7 [==============================] - 0s 6ms/step - loss: 0.0208 - val_loss: 0.0219\n",
            "Epoch 221/500\n",
            "7/7 [==============================] - 0s 6ms/step - loss: 0.0208 - val_loss: 0.0219\n",
            "Epoch 222/500\n",
            "7/7 [==============================] - 0s 6ms/step - loss: 0.0208 - val_loss: 0.0219\n",
            "Epoch 223/500\n",
            "7/7 [==============================] - 0s 6ms/step - loss: 0.0207 - val_loss: 0.0219\n",
            "Epoch 224/500\n",
            "7/7 [==============================] - 0s 7ms/step - loss: 0.0210 - val_loss: 0.0221\n",
            "Epoch 225/500\n",
            "7/7 [==============================] - 0s 6ms/step - loss: 0.0208 - val_loss: 0.0220\n",
            "Epoch 226/500\n",
            "7/7 [==============================] - 0s 6ms/step - loss: 0.0208 - val_loss: 0.0220\n",
            "Epoch 227/500\n",
            "7/7 [==============================] - 0s 7ms/step - loss: 0.0208 - val_loss: 0.0220\n",
            "Epoch 228/500\n",
            "7/7 [==============================] - 0s 6ms/step - loss: 0.0208 - val_loss: 0.0219\n",
            "Epoch 229/500\n",
            "7/7 [==============================] - 0s 7ms/step - loss: 0.0208 - val_loss: 0.0219\n",
            "Epoch 230/500\n",
            "7/7 [==============================] - 0s 7ms/step - loss: 0.0208 - val_loss: 0.0219\n",
            "Epoch 231/500\n",
            "7/7 [==============================] - 0s 7ms/step - loss: 0.0208 - val_loss: 0.0219\n",
            "Epoch 232/500\n",
            "7/7 [==============================] - 0s 7ms/step - loss: 0.0208 - val_loss: 0.0219\n",
            "Epoch 233/500\n",
            "7/7 [==============================] - 0s 7ms/step - loss: 0.0208 - val_loss: 0.0219\n",
            "Epoch 234/500\n",
            "7/7 [==============================] - 0s 6ms/step - loss: 0.0208 - val_loss: 0.0220\n",
            "Epoch 235/500\n",
            "7/7 [==============================] - 0s 6ms/step - loss: 0.0208 - val_loss: 0.0221\n",
            "Epoch 236/500\n",
            "7/7 [==============================] - 0s 8ms/step - loss: 0.0208 - val_loss: 0.0220\n",
            "Epoch 237/500\n",
            "7/7 [==============================] - 0s 6ms/step - loss: 0.0208 - val_loss: 0.0219\n",
            "Epoch 238/500\n",
            "7/7 [==============================] - 0s 7ms/step - loss: 0.0208 - val_loss: 0.0220\n",
            "Epoch 239/500\n",
            "7/7 [==============================] - 0s 6ms/step - loss: 0.0208 - val_loss: 0.0220\n",
            "Epoch 240/500\n",
            "7/7 [==============================] - 0s 6ms/step - loss: 0.0208 - val_loss: 0.0220\n",
            "Epoch 241/500\n",
            "7/7 [==============================] - 0s 6ms/step - loss: 0.0207 - val_loss: 0.0220\n",
            "Epoch 242/500\n",
            "7/7 [==============================] - 0s 6ms/step - loss: 0.0208 - val_loss: 0.0220\n",
            "Epoch 243/500\n",
            "7/7 [==============================] - 0s 6ms/step - loss: 0.0208 - val_loss: 0.0220\n",
            "Epoch 244/500\n",
            "7/7 [==============================] - 0s 7ms/step - loss: 0.0208 - val_loss: 0.0219\n",
            "Epoch 245/500\n",
            "7/7 [==============================] - 0s 6ms/step - loss: 0.0208 - val_loss: 0.0219\n",
            "Epoch 246/500\n",
            "7/7 [==============================] - 0s 8ms/step - loss: 0.0208 - val_loss: 0.0219\n",
            "Epoch 247/500\n",
            "7/7 [==============================] - 0s 8ms/step - loss: 0.0207 - val_loss: 0.0220\n",
            "Epoch 248/500\n",
            "7/7 [==============================] - 0s 6ms/step - loss: 0.0207 - val_loss: 0.0220\n",
            "Epoch 249/500\n",
            "7/7 [==============================] - 0s 6ms/step - loss: 0.0208 - val_loss: 0.0221\n",
            "Epoch 250/500\n",
            "7/7 [==============================] - 0s 6ms/step - loss: 0.0208 - val_loss: 0.0222\n",
            "Epoch 251/500\n",
            "7/7 [==============================] - 0s 6ms/step - loss: 0.0208 - val_loss: 0.0220\n",
            "Epoch 252/500\n",
            "7/7 [==============================] - 0s 6ms/step - loss: 0.0207 - val_loss: 0.0220\n",
            "Epoch 253/500\n",
            "7/7 [==============================] - 0s 6ms/step - loss: 0.0207 - val_loss: 0.0219\n",
            "Epoch 254/500\n",
            "7/7 [==============================] - 0s 6ms/step - loss: 0.0208 - val_loss: 0.0220\n",
            "Epoch 255/500\n",
            "7/7 [==============================] - 0s 8ms/step - loss: 0.0209 - val_loss: 0.0219\n",
            "Epoch 256/500\n",
            "7/7 [==============================] - 0s 6ms/step - loss: 0.0209 - val_loss: 0.0219\n",
            "Epoch 257/500\n",
            "7/7 [==============================] - 0s 6ms/step - loss: 0.0209 - val_loss: 0.0221\n",
            "Epoch 258/500\n",
            "7/7 [==============================] - 0s 6ms/step - loss: 0.0208 - val_loss: 0.0220\n",
            "Epoch 259/500\n",
            "7/7 [==============================] - 0s 6ms/step - loss: 0.0207 - val_loss: 0.0220\n",
            "Epoch 260/500\n",
            "7/7 [==============================] - 0s 7ms/step - loss: 0.0208 - val_loss: 0.0219\n",
            "Epoch 261/500\n",
            "7/7 [==============================] - 0s 7ms/step - loss: 0.0208 - val_loss: 0.0219\n",
            "Epoch 262/500\n",
            "7/7 [==============================] - 0s 6ms/step - loss: 0.0208 - val_loss: 0.0219\n",
            "Epoch 263/500\n",
            "7/7 [==============================] - 0s 6ms/step - loss: 0.0207 - val_loss: 0.0219\n",
            "Epoch 264/500\n",
            "7/7 [==============================] - 0s 7ms/step - loss: 0.0207 - val_loss: 0.0220\n",
            "Epoch 265/500\n",
            "7/7 [==============================] - 0s 7ms/step - loss: 0.0208 - val_loss: 0.0220\n",
            "Epoch 266/500\n",
            "7/7 [==============================] - 0s 6ms/step - loss: 0.0208 - val_loss: 0.0221\n",
            "Epoch 267/500\n",
            "7/7 [==============================] - 0s 6ms/step - loss: 0.0208 - val_loss: 0.0221\n",
            "Epoch 268/500\n",
            "7/7 [==============================] - 0s 6ms/step - loss: 0.0208 - val_loss: 0.0222\n",
            "Epoch 269/500\n",
            "7/7 [==============================] - 0s 6ms/step - loss: 0.0208 - val_loss: 0.0221\n",
            "Epoch 270/500\n",
            "7/7 [==============================] - 0s 6ms/step - loss: 0.0208 - val_loss: 0.0220\n",
            "Epoch 271/500\n",
            "7/7 [==============================] - 0s 6ms/step - loss: 0.0207 - val_loss: 0.0220\n",
            "Epoch 272/500\n",
            "7/7 [==============================] - 0s 6ms/step - loss: 0.0207 - val_loss: 0.0220\n",
            "Epoch 273/500\n",
            "7/7 [==============================] - 0s 6ms/step - loss: 0.0207 - val_loss: 0.0220\n",
            "Epoch 274/500\n",
            "7/7 [==============================] - 0s 7ms/step - loss: 0.0207 - val_loss: 0.0220\n",
            "Epoch 275/500\n",
            "7/7 [==============================] - 0s 9ms/step - loss: 0.0208 - val_loss: 0.0221\n",
            "Epoch 276/500\n",
            "7/7 [==============================] - 0s 6ms/step - loss: 0.0208 - val_loss: 0.0220\n",
            "Epoch 277/500\n",
            "7/7 [==============================] - 0s 6ms/step - loss: 0.0208 - val_loss: 0.0221\n",
            "Epoch 278/500\n",
            "7/7 [==============================] - 0s 6ms/step - loss: 0.0208 - val_loss: 0.0220\n",
            "Epoch 279/500\n",
            "7/7 [==============================] - 0s 6ms/step - loss: 0.0207 - val_loss: 0.0218\n",
            "Epoch 280/500\n",
            "7/7 [==============================] - 0s 6ms/step - loss: 0.0208 - val_loss: 0.0218\n",
            "Epoch 281/500\n",
            "7/7 [==============================] - 0s 6ms/step - loss: 0.0208 - val_loss: 0.0219\n",
            "Epoch 282/500\n",
            "7/7 [==============================] - 0s 6ms/step - loss: 0.0207 - val_loss: 0.0219\n",
            "Epoch 283/500\n",
            "7/7 [==============================] - 0s 7ms/step - loss: 0.0208 - val_loss: 0.0219\n",
            "Epoch 284/500\n",
            "7/7 [==============================] - 0s 9ms/step - loss: 0.0207 - val_loss: 0.0219\n",
            "Epoch 285/500\n",
            "7/7 [==============================] - 0s 7ms/step - loss: 0.0207 - val_loss: 0.0218\n",
            "Epoch 286/500\n",
            "7/7 [==============================] - 0s 6ms/step - loss: 0.0208 - val_loss: 0.0218\n",
            "Epoch 287/500\n",
            "7/7 [==============================] - 0s 6ms/step - loss: 0.0208 - val_loss: 0.0218\n",
            "Epoch 288/500\n",
            "7/7 [==============================] - 0s 6ms/step - loss: 0.0207 - val_loss: 0.0219\n",
            "Epoch 289/500\n",
            "7/7 [==============================] - 0s 6ms/step - loss: 0.0207 - val_loss: 0.0218\n",
            "Epoch 290/500\n",
            "7/7 [==============================] - 0s 6ms/step - loss: 0.0207 - val_loss: 0.0218\n",
            "Epoch 291/500\n",
            "7/7 [==============================] - 0s 6ms/step - loss: 0.0207 - val_loss: 0.0218\n",
            "Epoch 292/500\n",
            "7/7 [==============================] - 0s 6ms/step - loss: 0.0207 - val_loss: 0.0218\n",
            "Epoch 293/500\n",
            "7/7 [==============================] - 0s 7ms/step - loss: 0.0207 - val_loss: 0.0218\n",
            "Epoch 294/500\n",
            "7/7 [==============================] - 0s 6ms/step - loss: 0.0207 - val_loss: 0.0218\n",
            "Epoch 295/500\n",
            "7/7 [==============================] - 0s 7ms/step - loss: 0.0207 - val_loss: 0.0218\n",
            "Epoch 296/500\n",
            "7/7 [==============================] - 0s 6ms/step - loss: 0.0207 - val_loss: 0.0219\n",
            "Epoch 297/500\n",
            "7/7 [==============================] - 0s 6ms/step - loss: 0.0207 - val_loss: 0.0221\n",
            "Epoch 298/500\n",
            "7/7 [==============================] - 0s 6ms/step - loss: 0.0209 - val_loss: 0.0222\n",
            "Epoch 299/500\n",
            "7/7 [==============================] - 0s 6ms/step - loss: 0.0209 - val_loss: 0.0220\n",
            "Epoch 300/500\n",
            "7/7 [==============================] - 0s 7ms/step - loss: 0.0207 - val_loss: 0.0219\n",
            "Epoch 301/500\n",
            "7/7 [==============================] - 0s 6ms/step - loss: 0.0208 - val_loss: 0.0219\n",
            "Epoch 302/500\n",
            "7/7 [==============================] - 0s 6ms/step - loss: 0.0208 - val_loss: 0.0220\n",
            "Epoch 303/500\n",
            "7/7 [==============================] - 0s 7ms/step - loss: 0.0207 - val_loss: 0.0220\n",
            "Epoch 304/500\n",
            "7/7 [==============================] - 0s 7ms/step - loss: 0.0208 - val_loss: 0.0222\n",
            "Epoch 305/500\n",
            "7/7 [==============================] - 0s 6ms/step - loss: 0.0208 - val_loss: 0.0222\n",
            "Epoch 306/500\n",
            "7/7 [==============================] - 0s 7ms/step - loss: 0.0207 - val_loss: 0.0220\n",
            "Epoch 307/500\n",
            "7/7 [==============================] - 0s 6ms/step - loss: 0.0206 - val_loss: 0.0219\n",
            "Epoch 308/500\n",
            "7/7 [==============================] - 0s 7ms/step - loss: 0.0207 - val_loss: 0.0219\n",
            "Epoch 309/500\n",
            "7/7 [==============================] - 0s 6ms/step - loss: 0.0209 - val_loss: 0.0219\n",
            "Epoch 310/500\n",
            "7/7 [==============================] - 0s 6ms/step - loss: 0.0207 - val_loss: 0.0219\n",
            "Epoch 311/500\n",
            "7/7 [==============================] - 0s 7ms/step - loss: 0.0207 - val_loss: 0.0222\n",
            "Epoch 312/500\n",
            "7/7 [==============================] - 0s 7ms/step - loss: 0.0208 - val_loss: 0.0222\n",
            "Epoch 313/500\n",
            "7/7 [==============================] - 0s 6ms/step - loss: 0.0208 - val_loss: 0.0220\n",
            "Epoch 314/500\n",
            "7/7 [==============================] - 0s 6ms/step - loss: 0.0208 - val_loss: 0.0219\n",
            "Epoch 315/500\n",
            "7/7 [==============================] - 0s 6ms/step - loss: 0.0209 - val_loss: 0.0219\n",
            "Epoch 316/500\n",
            "7/7 [==============================] - 0s 7ms/step - loss: 0.0209 - val_loss: 0.0219\n",
            "Epoch 317/500\n",
            "7/7 [==============================] - 0s 6ms/step - loss: 0.0208 - val_loss: 0.0219\n",
            "Epoch 318/500\n",
            "7/7 [==============================] - 0s 7ms/step - loss: 0.0206 - val_loss: 0.0220\n",
            "Epoch 319/500\n",
            "7/7 [==============================] - 0s 7ms/step - loss: 0.0207 - val_loss: 0.0220\n",
            "Epoch 320/500\n",
            "7/7 [==============================] - 0s 7ms/step - loss: 0.0207 - val_loss: 0.0219\n",
            "Epoch 321/500\n",
            "7/7 [==============================] - 0s 8ms/step - loss: 0.0207 - val_loss: 0.0219\n",
            "Epoch 322/500\n",
            "7/7 [==============================] - 0s 7ms/step - loss: 0.0207 - val_loss: 0.0219\n",
            "Epoch 323/500\n",
            "7/7 [==============================] - 0s 6ms/step - loss: 0.0208 - val_loss: 0.0219\n",
            "Epoch 324/500\n",
            "7/7 [==============================] - 0s 8ms/step - loss: 0.0207 - val_loss: 0.0219\n",
            "Epoch 325/500\n",
            "7/7 [==============================] - 0s 6ms/step - loss: 0.0207 - val_loss: 0.0220\n",
            "Epoch 326/500\n",
            "7/7 [==============================] - 0s 6ms/step - loss: 0.0207 - val_loss: 0.0220\n",
            "Epoch 327/500\n",
            "7/7 [==============================] - 0s 7ms/step - loss: 0.0208 - val_loss: 0.0219\n",
            "Epoch 328/500\n",
            "7/7 [==============================] - 0s 6ms/step - loss: 0.0207 - val_loss: 0.0218\n",
            "Epoch 329/500\n",
            "7/7 [==============================] - 0s 6ms/step - loss: 0.0207 - val_loss: 0.0218\n",
            "Epoch 330/500\n",
            "7/7 [==============================] - 0s 6ms/step - loss: 0.0208 - val_loss: 0.0218\n",
            "Epoch 331/500\n",
            "7/7 [==============================] - 0s 6ms/step - loss: 0.0207 - val_loss: 0.0219\n",
            "Epoch 332/500\n",
            "7/7 [==============================] - 0s 8ms/step - loss: 0.0208 - val_loss: 0.0221\n",
            "Epoch 333/500\n",
            "7/7 [==============================] - 0s 6ms/step - loss: 0.0207 - val_loss: 0.0219\n",
            "Epoch 334/500\n",
            "7/7 [==============================] - 0s 6ms/step - loss: 0.0207 - val_loss: 0.0218\n",
            "Epoch 335/500\n",
            "7/7 [==============================] - 0s 6ms/step - loss: 0.0207 - val_loss: 0.0218\n",
            "Epoch 336/500\n",
            "7/7 [==============================] - 0s 6ms/step - loss: 0.0207 - val_loss: 0.0218\n",
            "Epoch 337/500\n",
            "7/7 [==============================] - 0s 6ms/step - loss: 0.0207 - val_loss: 0.0218\n",
            "Epoch 338/500\n",
            "7/7 [==============================] - 0s 6ms/step - loss: 0.0207 - val_loss: 0.0218\n",
            "Epoch 339/500\n",
            "7/7 [==============================] - 0s 7ms/step - loss: 0.0207 - val_loss: 0.0218\n",
            "Epoch 340/500\n",
            "7/7 [==============================] - 0s 6ms/step - loss: 0.0208 - val_loss: 0.0219\n",
            "Epoch 341/500\n",
            "7/7 [==============================] - 0s 7ms/step - loss: 0.0207 - val_loss: 0.0219\n",
            "Epoch 342/500\n",
            "7/7 [==============================] - 0s 6ms/step - loss: 0.0207 - val_loss: 0.0218\n",
            "Epoch 343/500\n",
            "7/7 [==============================] - 0s 6ms/step - loss: 0.0207 - val_loss: 0.0218\n",
            "Epoch 344/500\n",
            "7/7 [==============================] - 0s 7ms/step - loss: 0.0207 - val_loss: 0.0218\n",
            "Epoch 345/500\n",
            "7/7 [==============================] - 0s 8ms/step - loss: 0.0207 - val_loss: 0.0218\n",
            "Epoch 346/500\n",
            "7/7 [==============================] - 0s 6ms/step - loss: 0.0207 - val_loss: 0.0219\n",
            "Epoch 347/500\n",
            "7/7 [==============================] - 0s 6ms/step - loss: 0.0207 - val_loss: 0.0220\n",
            "Epoch 348/500\n",
            "7/7 [==============================] - 0s 6ms/step - loss: 0.0207 - val_loss: 0.0222\n",
            "Epoch 349/500\n",
            "7/7 [==============================] - 0s 6ms/step - loss: 0.0207 - val_loss: 0.0220\n",
            "Epoch 350/500\n",
            "7/7 [==============================] - 0s 6ms/step - loss: 0.0207 - val_loss: 0.0219\n",
            "Epoch 351/500\n",
            "7/7 [==============================] - 0s 8ms/step - loss: 0.0206 - val_loss: 0.0219\n",
            "Epoch 352/500\n",
            "7/7 [==============================] - 0s 7ms/step - loss: 0.0206 - val_loss: 0.0219\n",
            "Epoch 353/500\n",
            "7/7 [==============================] - 0s 6ms/step - loss: 0.0206 - val_loss: 0.0220\n",
            "Epoch 354/500\n",
            "7/7 [==============================] - 0s 6ms/step - loss: 0.0207 - val_loss: 0.0220\n",
            "Epoch 355/500\n",
            "7/7 [==============================] - 0s 6ms/step - loss: 0.0207 - val_loss: 0.0219\n",
            "Epoch 356/500\n",
            "7/7 [==============================] - 0s 7ms/step - loss: 0.0207 - val_loss: 0.0220\n",
            "Epoch 357/500\n",
            "7/7 [==============================] - 0s 7ms/step - loss: 0.0207 - val_loss: 0.0220\n",
            "Epoch 358/500\n",
            "7/7 [==============================] - 0s 6ms/step - loss: 0.0206 - val_loss: 0.0219\n",
            "Epoch 359/500\n",
            "7/7 [==============================] - 0s 6ms/step - loss: 0.0206 - val_loss: 0.0219\n",
            "Epoch 360/500\n",
            "7/7 [==============================] - 0s 7ms/step - loss: 0.0206 - val_loss: 0.0219\n",
            "Epoch 361/500\n",
            "7/7 [==============================] - 0s 6ms/step - loss: 0.0207 - val_loss: 0.0218\n",
            "Epoch 362/500\n",
            "7/7 [==============================] - 0s 6ms/step - loss: 0.0207 - val_loss: 0.0219\n",
            "Epoch 363/500\n",
            "7/7 [==============================] - 0s 8ms/step - loss: 0.0207 - val_loss: 0.0220\n",
            "Epoch 364/500\n",
            "7/7 [==============================] - 0s 7ms/step - loss: 0.0207 - val_loss: 0.0220\n",
            "Epoch 365/500\n",
            "7/7 [==============================] - 0s 6ms/step - loss: 0.0207 - val_loss: 0.0219\n",
            "Epoch 366/500\n",
            "7/7 [==============================] - 0s 6ms/step - loss: 0.0207 - val_loss: 0.0218\n",
            "Epoch 367/500\n",
            "7/7 [==============================] - 0s 6ms/step - loss: 0.0206 - val_loss: 0.0219\n",
            "Epoch 368/500\n",
            "7/7 [==============================] - 0s 6ms/step - loss: 0.0206 - val_loss: 0.0219\n",
            "Epoch 369/500\n",
            "7/7 [==============================] - 0s 6ms/step - loss: 0.0207 - val_loss: 0.0219\n",
            "Epoch 370/500\n",
            "7/7 [==============================] - 0s 7ms/step - loss: 0.0206 - val_loss: 0.0219\n",
            "Epoch 371/500\n",
            "7/7 [==============================] - 0s 6ms/step - loss: 0.0207 - val_loss: 0.0218\n",
            "Epoch 372/500\n",
            "7/7 [==============================] - 0s 6ms/step - loss: 0.0206 - val_loss: 0.0219\n",
            "Epoch 373/500\n",
            "7/7 [==============================] - 0s 6ms/step - loss: 0.0207 - val_loss: 0.0219\n",
            "Epoch 374/500\n",
            "7/7 [==============================] - 0s 6ms/step - loss: 0.0207 - val_loss: 0.0219\n",
            "Epoch 375/500\n",
            "7/7 [==============================] - 0s 6ms/step - loss: 0.0207 - val_loss: 0.0219\n",
            "Epoch 376/500\n",
            "7/7 [==============================] - 0s 6ms/step - loss: 0.0206 - val_loss: 0.0219\n",
            "Epoch 377/500\n",
            "7/7 [==============================] - 0s 6ms/step - loss: 0.0206 - val_loss: 0.0219\n",
            "Epoch 378/500\n",
            "7/7 [==============================] - 0s 6ms/step - loss: 0.0207 - val_loss: 0.0219\n",
            "Epoch 379/500\n",
            "7/7 [==============================] - 0s 8ms/step - loss: 0.0207 - val_loss: 0.0220\n",
            "Epoch 380/500\n",
            "7/7 [==============================] - 0s 7ms/step - loss: 0.0207 - val_loss: 0.0219\n",
            "Epoch 381/500\n",
            "7/7 [==============================] - 0s 6ms/step - loss: 0.0206 - val_loss: 0.0218\n",
            "Epoch 382/500\n",
            "7/7 [==============================] - 0s 6ms/step - loss: 0.0206 - val_loss: 0.0218\n",
            "Epoch 383/500\n",
            "7/7 [==============================] - 0s 7ms/step - loss: 0.0206 - val_loss: 0.0219\n",
            "Epoch 384/500\n",
            "7/7 [==============================] - 0s 6ms/step - loss: 0.0206 - val_loss: 0.0219\n",
            "Epoch 385/500\n",
            "7/7 [==============================] - 0s 7ms/step - loss: 0.0207 - val_loss: 0.0219\n",
            "Epoch 386/500\n",
            "7/7 [==============================] - 0s 6ms/step - loss: 0.0206 - val_loss: 0.0218\n",
            "Epoch 387/500\n",
            "7/7 [==============================] - 0s 6ms/step - loss: 0.0208 - val_loss: 0.0218\n",
            "Epoch 388/500\n",
            "7/7 [==============================] - 0s 8ms/step - loss: 0.0208 - val_loss: 0.0218\n",
            "Epoch 389/500\n",
            "7/7 [==============================] - 0s 6ms/step - loss: 0.0207 - val_loss: 0.0219\n",
            "Epoch 390/500\n",
            "7/7 [==============================] - 0s 6ms/step - loss: 0.0207 - val_loss: 0.0218\n",
            "Epoch 391/500\n",
            "7/7 [==============================] - 0s 6ms/step - loss: 0.0207 - val_loss: 0.0218\n",
            "Epoch 392/500\n",
            "7/7 [==============================] - 0s 6ms/step - loss: 0.0207 - val_loss: 0.0218\n",
            "Epoch 393/500\n",
            "7/7 [==============================] - 0s 6ms/step - loss: 0.0207 - val_loss: 0.0218\n",
            "Epoch 394/500\n",
            "7/7 [==============================] - 0s 6ms/step - loss: 0.0206 - val_loss: 0.0219\n",
            "Epoch 395/500\n",
            "7/7 [==============================] - 0s 6ms/step - loss: 0.0207 - val_loss: 0.0220\n",
            "Epoch 396/500\n",
            "7/7 [==============================] - 0s 6ms/step - loss: 0.0207 - val_loss: 0.0219\n",
            "Epoch 397/500\n",
            "7/7 [==============================] - 0s 7ms/step - loss: 0.0207 - val_loss: 0.0220\n",
            "Epoch 398/500\n",
            "7/7 [==============================] - 0s 9ms/step - loss: 0.0206 - val_loss: 0.0219\n",
            "Epoch 399/500\n",
            "7/7 [==============================] - 0s 6ms/step - loss: 0.0206 - val_loss: 0.0218\n",
            "Epoch 400/500\n",
            "7/7 [==============================] - 0s 6ms/step - loss: 0.0206 - val_loss: 0.0218\n",
            "Epoch 401/500\n",
            "7/7 [==============================] - 0s 6ms/step - loss: 0.0206 - val_loss: 0.0218\n",
            "Epoch 402/500\n",
            "7/7 [==============================] - 0s 6ms/step - loss: 0.0206 - val_loss: 0.0219\n",
            "Epoch 403/500\n",
            "7/7 [==============================] - 0s 6ms/step - loss: 0.0206 - val_loss: 0.0218\n",
            "Epoch 404/500\n",
            "7/7 [==============================] - 0s 6ms/step - loss: 0.0207 - val_loss: 0.0218\n",
            "Epoch 405/500\n",
            "7/7 [==============================] - 0s 6ms/step - loss: 0.0208 - val_loss: 0.0218\n",
            "Epoch 406/500\n",
            "7/7 [==============================] - 0s 6ms/step - loss: 0.0206 - val_loss: 0.0220\n",
            "Epoch 407/500\n",
            "7/7 [==============================] - 0s 7ms/step - loss: 0.0207 - val_loss: 0.0222\n",
            "Epoch 408/500\n",
            "7/7 [==============================] - 0s 6ms/step - loss: 0.0207 - val_loss: 0.0220\n",
            "Epoch 409/500\n",
            "7/7 [==============================] - 0s 6ms/step - loss: 0.0206 - val_loss: 0.0219\n",
            "Epoch 410/500\n",
            "7/7 [==============================] - 0s 7ms/step - loss: 0.0207 - val_loss: 0.0219\n",
            "Epoch 411/500\n",
            "7/7 [==============================] - 0s 6ms/step - loss: 0.0206 - val_loss: 0.0218\n",
            "Epoch 412/500\n",
            "7/7 [==============================] - 0s 6ms/step - loss: 0.0206 - val_loss: 0.0218\n",
            "Epoch 413/500\n",
            "7/7 [==============================] - 0s 6ms/step - loss: 0.0206 - val_loss: 0.0218\n",
            "Epoch 414/500\n",
            "7/7 [==============================] - 0s 6ms/step - loss: 0.0206 - val_loss: 0.0219\n",
            "Epoch 415/500\n",
            "7/7 [==============================] - 0s 7ms/step - loss: 0.0207 - val_loss: 0.0218\n",
            "Epoch 416/500\n",
            "7/7 [==============================] - 0s 7ms/step - loss: 0.0208 - val_loss: 0.0220\n",
            "Epoch 417/500\n",
            "7/7 [==============================] - 0s 7ms/step - loss: 0.0207 - val_loss: 0.0218\n",
            "Epoch 418/500\n",
            "7/7 [==============================] - 0s 6ms/step - loss: 0.0207 - val_loss: 0.0219\n",
            "Epoch 419/500\n",
            "7/7 [==============================] - 0s 6ms/step - loss: 0.0206 - val_loss: 0.0218\n",
            "Epoch 420/500\n",
            "7/7 [==============================] - 0s 6ms/step - loss: 0.0206 - val_loss: 0.0218\n",
            "Epoch 421/500\n",
            "7/7 [==============================] - 0s 6ms/step - loss: 0.0206 - val_loss: 0.0218\n",
            "Epoch 422/500\n",
            "7/7 [==============================] - 0s 7ms/step - loss: 0.0207 - val_loss: 0.0218\n",
            "Epoch 423/500\n",
            "7/7 [==============================] - 0s 6ms/step - loss: 0.0207 - val_loss: 0.0218\n",
            "Epoch 424/500\n",
            "7/7 [==============================] - 0s 7ms/step - loss: 0.0206 - val_loss: 0.0218\n",
            "Epoch 425/500\n",
            "7/7 [==============================] - 0s 6ms/step - loss: 0.0207 - val_loss: 0.0218\n",
            "Epoch 426/500\n",
            "7/7 [==============================] - 0s 7ms/step - loss: 0.0206 - val_loss: 0.0218\n",
            "Epoch 427/500\n",
            "7/7 [==============================] - 0s 6ms/step - loss: 0.0207 - val_loss: 0.0219\n",
            "Epoch 428/500\n",
            "7/7 [==============================] - 0s 7ms/step - loss: 0.0206 - val_loss: 0.0218\n",
            "Epoch 429/500\n",
            "7/7 [==============================] - 0s 6ms/step - loss: 0.0206 - val_loss: 0.0218\n",
            "Epoch 430/500\n",
            "7/7 [==============================] - 0s 6ms/step - loss: 0.0207 - val_loss: 0.0218\n",
            "Epoch 431/500\n",
            "7/7 [==============================] - 0s 6ms/step - loss: 0.0206 - val_loss: 0.0218\n",
            "Epoch 432/500\n",
            "7/7 [==============================] - 0s 6ms/step - loss: 0.0205 - val_loss: 0.0219\n",
            "Epoch 433/500\n",
            "7/7 [==============================] - 0s 6ms/step - loss: 0.0206 - val_loss: 0.0220\n",
            "Epoch 434/500\n",
            "7/7 [==============================] - 0s 6ms/step - loss: 0.0207 - val_loss: 0.0220\n",
            "Epoch 435/500\n",
            "7/7 [==============================] - 0s 6ms/step - loss: 0.0207 - val_loss: 0.0219\n",
            "Epoch 436/500\n",
            "7/7 [==============================] - 0s 7ms/step - loss: 0.0207 - val_loss: 0.0219\n",
            "Epoch 437/500\n",
            "7/7 [==============================] - 0s 6ms/step - loss: 0.0206 - val_loss: 0.0218\n",
            "Epoch 438/500\n",
            "7/7 [==============================] - 0s 6ms/step - loss: 0.0206 - val_loss: 0.0217\n",
            "Epoch 439/500\n",
            "7/7 [==============================] - 0s 8ms/step - loss: 0.0206 - val_loss: 0.0217\n",
            "Epoch 440/500\n",
            "7/7 [==============================] - 0s 7ms/step - loss: 0.0205 - val_loss: 0.0219\n",
            "Epoch 441/500\n",
            "7/7 [==============================] - 0s 6ms/step - loss: 0.0206 - val_loss: 0.0220\n",
            "Epoch 442/500\n",
            "7/7 [==============================] - 0s 6ms/step - loss: 0.0207 - val_loss: 0.0218\n",
            "Epoch 443/500\n",
            "7/7 [==============================] - 0s 6ms/step - loss: 0.0207 - val_loss: 0.0217\n",
            "Epoch 444/500\n",
            "7/7 [==============================] - 0s 7ms/step - loss: 0.0206 - val_loss: 0.0218\n",
            "Epoch 445/500\n",
            "7/7 [==============================] - 0s 8ms/step - loss: 0.0206 - val_loss: 0.0219\n",
            "Epoch 446/500\n",
            "7/7 [==============================] - 0s 29ms/step - loss: 0.0206 - val_loss: 0.0218\n",
            "Epoch 447/500\n",
            "7/7 [==============================] - 0s 6ms/step - loss: 0.0206 - val_loss: 0.0218\n",
            "Epoch 448/500\n",
            "7/7 [==============================] - 0s 6ms/step - loss: 0.0206 - val_loss: 0.0218\n",
            "Epoch 449/500\n",
            "7/7 [==============================] - 0s 6ms/step - loss: 0.0206 - val_loss: 0.0218\n",
            "Epoch 450/500\n",
            "7/7 [==============================] - 0s 6ms/step - loss: 0.0205 - val_loss: 0.0217\n",
            "Epoch 451/500\n",
            "7/7 [==============================] - 0s 6ms/step - loss: 0.0207 - val_loss: 0.0218\n",
            "Epoch 452/500\n",
            "7/7 [==============================] - 0s 6ms/step - loss: 0.0207 - val_loss: 0.0218\n",
            "Epoch 453/500\n",
            "7/7 [==============================] - 0s 6ms/step - loss: 0.0205 - val_loss: 0.0218\n",
            "Epoch 454/500\n",
            "7/7 [==============================] - 0s 7ms/step - loss: 0.0206 - val_loss: 0.0221\n",
            "Epoch 455/500\n",
            "7/7 [==============================] - 0s 7ms/step - loss: 0.0207 - val_loss: 0.0220\n",
            "Epoch 456/500\n",
            "7/7 [==============================] - 0s 6ms/step - loss: 0.0206 - val_loss: 0.0218\n",
            "Epoch 457/500\n",
            "7/7 [==============================] - 0s 6ms/step - loss: 0.0206 - val_loss: 0.0218\n",
            "Epoch 458/500\n",
            "7/7 [==============================] - 0s 6ms/step - loss: 0.0209 - val_loss: 0.0218\n",
            "Epoch 459/500\n",
            "7/7 [==============================] - 0s 6ms/step - loss: 0.0207 - val_loss: 0.0218\n",
            "Epoch 460/500\n",
            "7/7 [==============================] - 0s 7ms/step - loss: 0.0206 - val_loss: 0.0218\n",
            "Epoch 461/500\n",
            "7/7 [==============================] - 0s 7ms/step - loss: 0.0206 - val_loss: 0.0218\n",
            "Epoch 462/500\n",
            "7/7 [==============================] - 0s 6ms/step - loss: 0.0206 - val_loss: 0.0218\n",
            "Epoch 463/500\n",
            "7/7 [==============================] - 0s 6ms/step - loss: 0.0206 - val_loss: 0.0218\n",
            "Epoch 464/500\n",
            "7/7 [==============================] - 0s 6ms/step - loss: 0.0206 - val_loss: 0.0218\n",
            "Epoch 465/500\n",
            "7/7 [==============================] - 0s 7ms/step - loss: 0.0206 - val_loss: 0.0219\n",
            "Epoch 466/500\n",
            "7/7 [==============================] - 0s 7ms/step - loss: 0.0206 - val_loss: 0.0219\n",
            "Epoch 467/500\n",
            "7/7 [==============================] - 0s 6ms/step - loss: 0.0205 - val_loss: 0.0218\n",
            "Epoch 468/500\n",
            "7/7 [==============================] - 0s 6ms/step - loss: 0.0206 - val_loss: 0.0218\n",
            "Epoch 469/500\n",
            "7/7 [==============================] - 0s 6ms/step - loss: 0.0206 - val_loss: 0.0218\n",
            "Epoch 470/500\n",
            "7/7 [==============================] - 0s 6ms/step - loss: 0.0205 - val_loss: 0.0219\n",
            "Epoch 471/500\n",
            "7/7 [==============================] - 0s 6ms/step - loss: 0.0206 - val_loss: 0.0219\n",
            "Epoch 472/500\n",
            "7/7 [==============================] - 0s 6ms/step - loss: 0.0205 - val_loss: 0.0220\n",
            "Epoch 473/500\n",
            "7/7 [==============================] - 0s 6ms/step - loss: 0.0207 - val_loss: 0.0220\n",
            "Epoch 474/500\n",
            "7/7 [==============================] - 0s 7ms/step - loss: 0.0205 - val_loss: 0.0218\n",
            "Epoch 475/500\n",
            "7/7 [==============================] - 0s 6ms/step - loss: 0.0206 - val_loss: 0.0218\n",
            "Epoch 476/500\n",
            "7/7 [==============================] - 0s 6ms/step - loss: 0.0206 - val_loss: 0.0218\n",
            "Epoch 477/500\n",
            "7/7 [==============================] - 0s 6ms/step - loss: 0.0206 - val_loss: 0.0219\n",
            "Epoch 478/500\n",
            "7/7 [==============================] - 0s 9ms/step - loss: 0.0205 - val_loss: 0.0218\n",
            "Epoch 479/500\n",
            "7/7 [==============================] - 0s 7ms/step - loss: 0.0205 - val_loss: 0.0217\n",
            "Epoch 480/500\n",
            "7/7 [==============================] - 0s 8ms/step - loss: 0.0207 - val_loss: 0.0217\n",
            "Epoch 481/500\n",
            "7/7 [==============================] - 0s 6ms/step - loss: 0.0206 - val_loss: 0.0217\n",
            "Epoch 482/500\n",
            "7/7 [==============================] - 0s 6ms/step - loss: 0.0206 - val_loss: 0.0219\n",
            "Epoch 483/500\n",
            "7/7 [==============================] - 0s 8ms/step - loss: 0.0206 - val_loss: 0.0219\n",
            "Epoch 484/500\n",
            "7/7 [==============================] - 0s 7ms/step - loss: 0.0206 - val_loss: 0.0220\n",
            "Epoch 485/500\n",
            "7/7 [==============================] - 0s 7ms/step - loss: 0.0206 - val_loss: 0.0219\n",
            "Epoch 486/500\n",
            "7/7 [==============================] - 0s 7ms/step - loss: 0.0205 - val_loss: 0.0218\n",
            "Epoch 487/500\n",
            "7/7 [==============================] - 0s 7ms/step - loss: 0.0206 - val_loss: 0.0218\n",
            "Epoch 488/500\n",
            "7/7 [==============================] - 0s 7ms/step - loss: 0.0207 - val_loss: 0.0218\n",
            "Epoch 489/500\n",
            "7/7 [==============================] - 0s 8ms/step - loss: 0.0206 - val_loss: 0.0218\n",
            "Epoch 490/500\n",
            "7/7 [==============================] - 0s 6ms/step - loss: 0.0206 - val_loss: 0.0219\n",
            "Epoch 491/500\n",
            "7/7 [==============================] - 0s 7ms/step - loss: 0.0205 - val_loss: 0.0219\n",
            "Epoch 492/500\n",
            "7/7 [==============================] - 0s 6ms/step - loss: 0.0207 - val_loss: 0.0218\n",
            "Epoch 493/500\n",
            "7/7 [==============================] - 0s 7ms/step - loss: 0.0206 - val_loss: 0.0217\n",
            "Epoch 494/500\n",
            "7/7 [==============================] - 0s 7ms/step - loss: 0.0206 - val_loss: 0.0217\n",
            "Epoch 495/500\n",
            "7/7 [==============================] - 0s 7ms/step - loss: 0.0206 - val_loss: 0.0218\n",
            "Epoch 496/500\n",
            "7/7 [==============================] - 0s 6ms/step - loss: 0.0206 - val_loss: 0.0217\n",
            "Epoch 497/500\n",
            "7/7 [==============================] - 0s 6ms/step - loss: 0.0205 - val_loss: 0.0217\n",
            "Epoch 498/500\n",
            "7/7 [==============================] - 0s 6ms/step - loss: 0.0205 - val_loss: 0.0217\n",
            "Epoch 499/500\n",
            "7/7 [==============================] - 0s 7ms/step - loss: 0.0205 - val_loss: 0.0218\n",
            "Epoch 500/500\n",
            "7/7 [==============================] - 0s 7ms/step - loss: 0.0206 - val_loss: 0.0218\n"
          ],
          "name": "stdout"
        }
      ]
    },
    {
      "cell_type": "code",
      "metadata": {
        "id": "EOgz6qVdMqlv",
        "colab_type": "code",
        "colab": {
          "base_uri": "https://localhost:8080/",
          "height": 282
        },
        "outputId": "4c85bc16-e2fb-49de-88e9-a5ee9738864c"
      },
      "source": [
        "import pandas as pd\n",
        "\n",
        "df = pd.DataFrame(history.history)\n",
        "df.plot()"
      ],
      "execution_count": 6,
      "outputs": [
        {
          "output_type": "execute_result",
          "data": {
            "text/plain": [
              "<matplotlib.axes._subplots.AxesSubplot at 0x7f107efda940>"
            ]
          },
          "metadata": {
            "tags": []
          },
          "execution_count": 6
        },
        {
          "output_type": "display_data",
          "data": {
            "image/png": "[encoded data removed]",
            "text/plain": [
              "<Figure size 432x288 with 1 Axes>"
            ]
          },
          "metadata": {
            "tags": [],
            "needs_background": "light"
          }
        }
      ]
    },
    {
      "cell_type": "code",
      "metadata": {
        "id": "pXMDx8w5Mqlz",
        "colab_type": "code",
        "colab": {
          "base_uri": "https://localhost:8080/",
          "height": 282
        },
        "outputId": "3899959d-b72b-4fa5-b3bd-b32e9523165e"
      },
      "source": [
        "# Veamos los datos\n",
        "plt.plot(X_train, t_train, '.')\n",
        "\n",
        "xx = np.linspace(0, 1, 1000)\n",
        "plt.plot(xx, modelo.predict(xx), '-r')"
      ],
      "execution_count": 7,
      "outputs": [
        {
          "output_type": "execute_result",
          "data": {
            "text/plain": [
              "[<matplotlib.lines.Line2D at 0x7f1080ea7cc0>]"
            ]
          },
          "metadata": {
            "tags": []
          },
          "execution_count": 7
        },
        {
          "output_type": "display_data",
          "data": {
            "image/png": "[encoded data removed]",
            "text/plain": [
              "<Figure size 432x288 with 1 Axes>"
            ]
          },
          "metadata": {
            "tags": [],
            "needs_background": "light"
          }
        }
      ]
    },
    {
      "cell_type": "markdown",
      "metadata": {
        "id": "xh9PtNSKMql3",
        "colab_type": "text"
      },
      "source": [
        "Vemos que el modelo funciona bastante bien (después de tweakearlo un poco).\n",
        "\n",
        "Ahora veamos qué pasa si invertimos el rol de las variables, de manera que los datos que queremos ajustar son diferentes."
      ]
    },
    {
      "cell_type": "code",
      "metadata": {
        "id": "GDjnNDglMql4",
        "colab_type": "code",
        "colab": {},
        "outputId": "3db34660-7dae-4480-c9e6-a7635dd9be8d"
      },
      "source": [
        "# Veamos los datos\n",
        "plt.plot(t_train, X_train, '.')"
      ],
      "execution_count": 0,
      "outputs": [
        {
          "output_type": "execute_result",
          "data": {
            "text/plain": [
              "[<matplotlib.lines.Line2D at 0x14ce1ed30>]"
            ]
          },
          "metadata": {
            "tags": []
          },
          "execution_count": 189
        },
        {
          "output_type": "display_data",
          "data": {
            "image/png": "[encoded data removed]",
            "text/plain": [
              "<Figure size 432x288 with 1 Axes>"
            ]
          },
          "metadata": {
            "tags": [],
            "needs_background": "light"
          }
        }
      ]
    },
    {
      "cell_type": "code",
      "metadata": {
        "id": "fVRkb5amMql6",
        "colab_type": "code",
        "colab": {}
      },
      "source": [
        "# Build simple DNN\n",
        "modelo2 = keras.Sequential()\n",
        "#modelo.add(keras.layers.InputLayer(input_shape=X_train.shape[1:]))\n",
        "modelo2.add(keras.layers.Dense(100, activation='tanh'))\n",
        "modelo2.add(keras.layers.Dense(100, activation='tanh'))\n",
        "modelo2.add(keras.layers.Dense(1, activation=None))"
      ],
      "execution_count": 0,
      "outputs": []
    },
    {
      "cell_type": "code",
      "metadata": {
        "id": "TEag19y3Mql8",
        "colab_type": "code",
        "colab": {}
      },
      "source": [
        "modelo2.compile(loss=\"mse\", optimizer=keras.optimizers.Adam(learning_rate=0.01))"
      ],
      "execution_count": 0,
      "outputs": []
    },
    {
      "cell_type": "code",
      "metadata": {
        "id": "qcKpaAM-MqmA",
        "colab_type": "code",
        "colab": {}
      },
      "source": [
        "history2 = modelo2.fit(t_train, X_train, epochs=500, validation_data=(t_validation, X_validation), verbose=False)"
      ],
      "execution_count": 0,
      "outputs": []
    },
    {
      "cell_type": "code",
      "metadata": {
        "id": "mlxZQcvRMqmD",
        "colab_type": "code",
        "colab": {},
        "outputId": "aaa73803-40da-4709-80c5-c5bd29794623"
      },
      "source": [
        "pd.DataFrame(history.history).plot()"
      ],
      "execution_count": 0,
      "outputs": [
        {
          "output_type": "execute_result",
          "data": {
            "text/plain": [
              "<matplotlib.axes._subplots.AxesSubplot at 0x14fc0abe0>"
            ]
          },
          "metadata": {
            "tags": []
          },
          "execution_count": 230
        },
        {
          "output_type": "display_data",
          "data": {
            "image/png": "[encoded data removed]",
            "text/plain": [
              "<Figure size 432x288 with 1 Axes>"
            ]
          },
          "metadata": {
            "tags": [],
            "needs_background": "light"
          }
        }
      ]
    },
    {
      "cell_type": "code",
      "metadata": {
        "id": "gF079F3HMqmF",
        "colab_type": "code",
        "colab": {},
        "outputId": "667449ff-d042-47f0-9a83-7a2759c8cee6"
      },
      "source": [
        "# Veamos los datos\n",
        "plt.plot(t_train, X_train, '.')\n",
        "\n",
        "xx = np.linspace(0, 1, 1000)\n",
        "plt.plot(xx, modelo2.predict(xx), '-r')"
      ],
      "execution_count": 0,
      "outputs": [
        {
          "output_type": "execute_result",
          "data": {
            "text/plain": [
              "[<matplotlib.lines.Line2D at 0x14cde9af0>]"
            ]
          },
          "metadata": {
            "tags": []
          },
          "execution_count": 231
        },
        {
          "output_type": "display_data",
          "data": {
            "image/png": "[encoded data removed]",
            "text/plain": [
              "<Figure size 432x288 with 1 Axes>"
            ]
          },
          "metadata": {
            "tags": [],
            "needs_background": "light"
          }
        }
      ]
    },
    {
      "cell_type": "markdown",
      "metadata": {
        "id": "yD7vjuW5MqmH",
        "colab_type": "text"
      },
      "source": [
        "Por más que intentemos, la red no va a poder ajustar los datos. \n",
        "\n",
        "El uso del error cuadrático implica, como vimos arriba que la distribución condicionada de las variables target $p(t | x)$ es una normal. Sin embargo, para valores como $x=0.6$ la distribución es bien multimodal, y por lo tanto no puede ser representada por una normal."
      ]
    },
    {
      "cell_type": "code",
      "metadata": {
        "id": "H_KD_bAkMqmI",
        "colab_type": "code",
        "colab": {},
        "outputId": "df5addc3-8030-4f77-af7d-dce40f87aab5"
      },
      "source": [
        "# Veamos un entorno de x = 0.6\n",
        "epsilon = 0.05\n",
        "cond = np.abs(t_train - 0.6) < epsilon\n",
        "\n",
        "fig = plt.figure(figsize=(16, 6))\n",
        "ax = fig.add_subplot(121)\n",
        "ax2 = fig.add_subplot(122)\n",
        "ax.plot(t_train, X_train, '.k')\n",
        "ax.axvline(0.6, color='r', ls='-')\n",
        "for sign in (-1, 1):\n",
        "    ax.axvline(0.6 + sign * epsilon, color='r', ls=':')\n",
        "ax2.hist(X_train[cond], 25)\n",
        "\n",
        "ax.set_xlabel('nuevo X')\n",
        "ax.set_ylabel('nuevo T')\n",
        "ax2.set_xlabel('nuevo X')\n"
      ],
      "execution_count": 0,
      "outputs": [
        {
          "output_type": "execute_result",
          "data": {
            "text/plain": [
              "Text(0.5, 0, 'nuevo X')"
            ]
          },
          "metadata": {
            "tags": []
          },
          "execution_count": 243
        },
        {
          "output_type": "display_data",
          "data": {
            "image/png": "[encoded data removed]",
            "text/plain": [
              "<Figure size 1152x432 with 2 Axes>"
            ]
          },
          "metadata": {
            "tags": [],
            "needs_background": "light"
          }
        }
      ]
    },
    {
      "cell_type": "markdown",
      "metadata": {
        "id": "wOofYLeKMqmK",
        "colab_type": "text"
      },
      "source": [
        "Claramente, no podremos ajustar esto con una normal. ¿Alguna idea?\n",
        "\n",
        "...\n",
        "\n",
        "...\n",
        "\n",
        "...\n",
        "\n",
        "¡Sí! ¡Mixturas de Gaussianas! El favorito de todxs.\n",
        "\n",
        "Repasemos..."
      ]
    },
    {
      "cell_type": "markdown",
      "metadata": {
        "id": "OKbTKTlBMqmK",
        "colab_type": "text"
      },
      "source": [
        "***\n",
        "### Presentación del modelo\n",
        "\n",
        "Este ejemplo muestra una de las limitaciones de un modelo normal: solo puede captar distribuciones con un único modo. Una forma de sobreponerse a este problema es usar un modelo que consista en una superposición de $K$ distribuciones normales.\n",
        "\n",
        "$$\n",
        "p(\\mathbf{x}) = \\sum_{k=1}^K \\pi_k{\\mathcal{N}(\\mathbf{x} \\:|\\: \\boldsymbol{\\mu}_k, \\boldsymbol{\\Sigma}_k)}\\;\\;,\n",
        "$$\n",
        "donde cada densidad $\\mathcal{N}(\\mathbf{x} \\:|\\: \\boldsymbol{\\mu}_k, \\boldsymbol{\\Sigma}_k)$ se conoce como una *componente* de la mixtura, y tiene su propio valor medio y matriz de covarianza. Los $\\pi_k$ son los *coeficientes* de mezcla."
      ]
    },
    {
      "cell_type": "markdown",
      "metadata": {
        "id": "HOjgEu2PMqmL",
        "colab_type": "text"
      },
      "source": [
        "__Los coeficientes como probabilidades__\n",
        "\n",
        "Integrando a ambos lados de la igualdad sobre todos los valore de $\\mathbf{x}$ y viendo que tanto $p(\\mathbf{x})$ como las componentes normales son funciones de distribución de probabilidad, llegamos a que\n",
        "\n",
        "$$\n",
        "\\sum_{k=1}^K \\pi_k = 1\\;\\;.\n",
        "$$\n",
        "\n",
        "Además, como $p(\\mathbf{x})$ tienen que ser positiva, encontramos que una forma de garantizar eso de manera general es definir que los coeficientes sean positivos. Por lo tanto, $0 \\leq \\pi_k \\leq 1$, y los coeficientes satisfacen los requerimientos para ser probabilidades.\n",
        "\n",
        "Podemos, entonces, asignar una función de distribución de masa, $p(k)$, que describe la probabilidad (prior) de que se elija la compoenente $k$, y $p(k) = \\pi_k$. Entonces, distribución sobre $\\mathbf{x}$ queda:\n",
        "\n",
        "$$\n",
        "p(\\mathbf{x}) = \\sum_{k=1}^K p(\\mathbf{x}, k) = \\sum_{k=1}^K p(k) p(\\mathbf{x} | k)\\;\\;,\n",
        "$$\n",
        "\n",
        "donde la probabilidad condicionada $p(\\mathbf{x} | k) = \\mathcal{N}(\\mathbf{x} \\:|\\: \\boldsymbol{\\mu}_k, \\boldsymbol{\\Sigma}_k)$."
      ]
    },
    {
      "cell_type": "code",
      "metadata": {
        "id": "z-H2CjfRMqmL",
        "colab_type": "code",
        "colab": {},
        "outputId": "a05e5369-8483-439a-9cd3-7befe26e445e"
      },
      "source": [
        "import scipy.stats as st\n",
        "\n",
        "# Supongamos una distribución unidimensional de dos modos, con los siguientes parámetros\n",
        "mu1 = [0.0,]\n",
        "sigma1 = [2.0,]\n",
        "mu2 = [5.0,]\n",
        "sigma2 = [1.5,]\n",
        "\n",
        "# Generemos las dos distris\n",
        "n1 = st.norm(mu1, sigma1)\n",
        "n2 = st.norm(mu2, sigma2)\n",
        "\n",
        "# Ahora pensemos que tenemos una distribución prior p(k) con las siguientes elementos\n",
        "p1 = 0.65\n",
        "p2 = 0.35\n",
        "\n",
        "# Veamos como podemos generar, fácilmente, muestras de la mixtura:\n",
        "# p1 * N1 + p2 * N2\n",
        "# Primero muestreo p(k)\n",
        "N = 5000\n",
        "k = np.where(np.random.rand(N) < p1, 1, 2)\n",
        "\n",
        "# Y ahora lo combino con las mixturas\n",
        "\n",
        "# Modo 1 (estricto)\n",
        "# x1 = n1.rvs(sum(k==1), 1)\n",
        "# x2 = n2.rvs(sum(k==2), 1)\n",
        "\n",
        "# x = np.hstack([x1, x2])\n",
        "\n",
        "# Modo 2 (generando de más)\n",
        "x1 = n1.rvs(N, 1)\n",
        "x2 = n2.rvs(N, 1)\n",
        "\n",
        "x = np.where(k==1, x1, x2).reshape((-1, 1))\n",
        "\n",
        "h = plt.hist(x, 50, histtype='step', density=True)\n",
        "\n",
        "# Combinemos esto con la pdf del modelo\n",
        "xx = np.linspace(x.min(), x.max(), 400)\n",
        "plt.plot(xx, p1 * n1.pdf(xx) + p2 * n2.pdf(xx), 'r-')"
      ],
      "execution_count": 0,
      "outputs": [
        {
          "output_type": "execute_result",
          "data": {
            "text/plain": [
              "[<matplotlib.lines.Line2D at 0x14bb2a640>]"
            ]
          },
          "metadata": {
            "tags": []
          },
          "execution_count": 246
        },
        {
          "output_type": "display_data",
          "data": {
            "image/png": "[encoded data removed]",
            "text/plain": [
              "<Figure size 432x288 with 1 Axes>"
            ]
          },
          "metadata": {
            "tags": [],
            "needs_background": "light"
          }
        }
      ]
    },
    {
      "cell_type": "markdown",
      "metadata": {
        "id": "qOtk3DTyMqmN",
        "colab_type": "text"
      },
      "source": [
        "__Responsabilidades__\n",
        "\n",
        "Un rol crucial lo van a jugar las posteriores de la probabilidad de cada modo $p(k \\:|\\: \\mathbf{x})$, que se conocen como *responsabilidades* (¡cuánta seriedad!)\n",
        "\n",
        "$$\n",
        "\\gamma_k(\\mathbf{x}) \\equiv p(k \\:|\\: \\mathbf{x})\\;\\;.\n",
        "$$\n",
        "\n",
        "Como es de esperar, podemos calcular la punta que tienen las responsabilidades a partir del teorema de Bayes:\n",
        "\n",
        "$$\n",
        "\\begin{eqnarray}\n",
        "\\gamma_k(\\mathbf{x}) &=& \\frac{p(k) p(\\mathbf{x}\\:|\\:k)}{\\sum_i p(i) p(\\mathbf{x}\\:|\\:i)}\\\\\n",
        "   &=&\\frac{\\pi_k{\\mathcal{N}(\\mathbf{x} \\:|\\: \\boldsymbol{\\mu}_k, \\boldsymbol{\\Sigma}_k)}}{\\sum_i{\\pi_i{\\mathcal{N}(\\mathbf{x} \\:|\\: \\boldsymbol{\\mu}_i, \\boldsymbol{\\Sigma}_i)}}}\\;\\;,\n",
        "\\end{eqnarray}\n",
        "$$\n",
        "donde usamos la definición de arriba\n",
        "$$\n",
        "p(\\mathbf{x}) = \\sum_{k=1}^K \\pi_k{\\mathcal{N}(\\mathbf{x} \\:|\\: \\boldsymbol{\\mu}_k, \\boldsymbol{\\Sigma}_k)}\\;\\;.\n",
        "$$"
      ]
    },
    {
      "cell_type": "markdown",
      "metadata": {
        "id": "r7a3vUQiMqmO",
        "colab_type": "text"
      },
      "source": [
        "__Verosimilitud__ (o Donde arrancan los líos)\n",
        "\n",
        "Naturalmente, necesitaremos poder escribir la verosimilitud para un modelo de este tipo. Como vimos arriba, el problema con las exponenciales de la normal, es que muchas veces generan problemas numéricos.\n",
        "\n",
        "Vamos entonces a escribir el logaritmo de la verosimilitud, como ya hicimos un montón de veces.\n",
        "\n",
        "$$\n",
        "\\ln p(\\mathbf{X} \\:|\\: \\boldsymbol{\\mu}, \\boldsymbol{\\Sigma}, \\boldsymbol{\\pi}) = \\sum_{n=1}^N \\ln \\left\\{\\sum_{k=1}^K \\pi_k{\\mathcal{N}(\\mathbf{x}_n \\:|\\: \\boldsymbol{\\mu}_k, \\boldsymbol{\\Sigma}_k)}\\right\\}\\;\\;,\n",
        "$$\n",
        "donde estamos usando esta notación: $\\boldsymbol{\\mu} \\equiv \\left\\{\\boldsymbol{\\mu}_1, \\ldots, \\boldsymbol{\\mu}_K\\right\\}$, y lo mismo para $\\boldsymbol{\\Sigma}$ y para $\\boldsymbol{\\pi}$. Y como siempre $\\mathbf{X} = \\left\\{\\mathbf{x}_1, \\ldots, \\mathbf{x}_N\\right\\}$.\n",
        "\n",
        "Vemos que el logaritmo actúa sobre la sumatoria y no sobre cada normal de manera individual. Esto hace que sea complicado obtener una forma cerrada para los parámetros que maximizan la verosimilitud. Tenemos que usar un procedimiento iterativo, conocido como el algoritmo de maximización de la expectación, o *expectation maximisation* (EM).\n"
      ]
    },
    {
      "cell_type": "markdown",
      "metadata": {
        "id": "BmU4U_KiMqmO",
        "colab_type": "text"
      },
      "source": [
        "__Un paso más__\n",
        "\n",
        "En el contexto de las redes neuronales, vamos a dar un paso más y permitir a los parámetros de cada componente que cambien con la variable del input, $\\mathbf{x}$.\n",
        "\n",
        "Así, tanto los coeficientes de mezcla, como los vectores $\\boldsymbol{\\mu}$, como la varianza de cada normal (que consideraremos isotrópica para cada $\\mathbf{x}$, se convierten en funciones del input.\n",
        "\n",
        "El modelo pasa de ser una normal con covarianza general:\n",
        "\n",
        "$$\n",
        "p(t|\\mathbf{x}) = \\mathcal{N}(t|y(\\mathbf{x},\\mathbf{w}), \\beta^{-1})\\;\\;.\n",
        "$$\n",
        "\n",
        "a ser una mixtura de normales isotrópicas (si bien la extensión a covarianzas generales es posible):\n",
        "\n",
        "$$\n",
        "p(t | \\mathbf{x}) = \\sum_{k=1}^K \\pi_k(\\mathbf{x}){\\mathcal{N}(t \\:|\\: \\boldsymbol{\\mu}_k(\\mathbf{x}), \\sigma^2_k(\\mathbf{x}))}\\;\\;.\n",
        "$$\n",
        "\n",
        "Esta formulación es un ejemplo de un modelo heterocedastico (wow!); es decir, que la varianza cambia con la variable $x$. "
      ]
    },
    {
      "cell_type": "markdown",
      "metadata": {
        "id": "tR7kjDWnMqmP",
        "colab_type": "text"
      },
      "source": [
        "### Implementación\n",
        "\n",
        "Todo esto es muy lindo, pero ¿cómo se implementa en un modelo de redes neuronales?\n",
        "\n",
        "La idea es generar una red cuyos outputs sean las parámetros del modelo:\n",
        "\n",
        "**Nota**: Nos inspiramos en el código de https://github.com/oborchers/Medium_Repo"
      ]
    },
    {
      "cell_type": "code",
      "metadata": {
        "id": "lfkG2zljMqmQ",
        "colab_type": "code",
        "colab": {}
      },
      "source": [
        "from tensorflow.keras.layers import Input, Dense, Concatenate\n",
        "\n",
        "neurons = 500     # Neurons of the DNN hidden layers\n",
        "components = 3    # Number of components in the mixture\n",
        "no_parameters = 3 # Paramters of the mixture (pi, mu, sigma)\n",
        "\n",
        "input_ = Input(shape=(t_train.shape[1],))\n",
        "h1 = Dense(neurons, activation=\"relu\")(input_)\n",
        "h2 = Dense(neurons, activation=\"relu\")(h1)\n",
        "\n",
        "alphas = Dense(components, activation=\"softmax\", name=\"pi\")(h2)   # Create vector for alpha (softmax constrained)\n",
        "mus = Dense(components, name=\"mu\")(h2)                               # Create vector for mus\n",
        "sigmas = Dense(components, activation=\"exponential\", name=\"sigma\")(h2)     # Create vector sigmas (nnelu constrained)\n",
        "pvector = Concatenate(name=\"output\")([alphas, mus, sigmas])           # Concatenate (required for model compilation)\n",
        "\n",
        "modelMDN = keras.Model(inputs=[input_], outputs=[pvector])"
      ],
      "execution_count": 0,
      "outputs": []
    },
    {
      "cell_type": "code",
      "metadata": {
        "id": "xazyWLQXMqmT",
        "colab_type": "code",
        "colab": {}
      },
      "source": [
        "# Si quisieramos, podemos hacer un subclase de los modelos de Keras\n",
        "class MDN(keras.Model):\n",
        "\n",
        "    def __init__(self, neurons=100, components = 2):\n",
        "        super(MDN, self).__init__(name=\"MDN\")\n",
        "        self.neurons = neurons\n",
        "        self.components = components\n",
        "        \n",
        "        self.h1 = Dense(neurons, activation=\"relu\", name=\"h1\")\n",
        "        self.h2 = Dense(neurons, activation=\"relu\", name=\"h2\")\n",
        "        \n",
        "        self.alphas = Dense(components, activation=\"softmax\", name=\"alphas\")\n",
        "        self.mus = Dense(components, name=\"mus\")\n",
        "        self.sigmas = Dense(components, activation=\"exponential\", name=\"sigmas\")\n",
        "        self.pvec = Concatenate(name=\"pvec\")\n",
        "        \n",
        "    def call(self, inputs):\n",
        "        x = self.h1(inputs)\n",
        "        x = self.h2(x)\n",
        "        \n",
        "        alpha_v = self.alphas(x)\n",
        "        mu_v = self.mus(x)\n",
        "        sigma_v = self.sigmas(x)\n",
        "        \n",
        "        return self.pvec([alpha_v, mu_v, sigma_v])"
      ],
      "execution_count": 0,
      "outputs": []
    },
    {
      "cell_type": "code",
      "metadata": {
        "id": "yE78wKwTMqmW",
        "colab_type": "code",
        "colab": {}
      },
      "source": [
        "import tensorflow as tf\n",
        "from tensorflow_probability import distributions as tfd\n",
        "\n",
        "def slice_parameter_vectors(parameter_vector):\n",
        "    \"\"\" Returns an unpacked list of paramter vectors.\n",
        "    \"\"\"\n",
        "    return [parameter_vector[:,i*components:(i+1)*components] for i in range(no_parameters)]\n",
        "\n",
        "def gnll_loss(y, parameter_vector):\n",
        "    \"\"\" Computes the mean negative log-likelihood loss of y given the mixture parameters.\n",
        "    \"\"\"\n",
        "    pi, mu, sigma = slice_parameter_vectors(parameter_vector)  # Unpack parameter vectors\n",
        "    \n",
        "    gm = tfd.MixtureSameFamily(\n",
        "        mixture_distribution=tfd.Categorical(probs=pi),\n",
        "        components_distribution=tfd.Normal(\n",
        "            loc=mu,       \n",
        "            scale=sigma))\n",
        "    \n",
        "    log_likelihood = gm.log_prob(tf.transpose(y))                 # Evaluate log-probability of y\n",
        "    \n",
        "    return -tf.reduce_mean(log_likelihood, axis=-1)"
      ],
      "execution_count": 0,
      "outputs": []
    },
    {
      "cell_type": "markdown",
      "metadata": {
        "id": "bOlqVwg2MqmV",
        "colab_type": "text"
      },
      "source": [
        "Ahora que tenemos el modelo, faltaría crear la función de pérdida correspondiente."
      ]
    },
    {
      "cell_type": "markdown",
      "metadata": {
        "id": "ZoV-V-hRMqmY",
        "colab_type": "text"
      },
      "source": [
        "Ahora podemos compilar el código y ajustarlo."
      ]
    },
    {
      "cell_type": "code",
      "metadata": {
        "id": "8RwcyA3VMqmY",
        "colab_type": "code",
        "colab": {
          "base_uri": "https://localhost:8080/",
          "height": 425
        },
        "outputId": "373a5ef3-e4f9-4829-ef7e-f6535b9cb6cd"
      },
      "source": [
        "modelMDN.compile(loss=gnll_loss, optimizer=keras.optimizers.Adam(lr=0.002))\n",
        "# modelMDN.compile(loss='mse', optimizer=keras.optimizers.Adam(lr=0.002))\n",
        "modelMDN.summary()"
      ],
      "execution_count": 270,
      "outputs": [
        {
          "output_type": "stream",
          "text": [
            "Model: \"model_12\"\n",
            "__________________________________________________________________________________________________\n",
            "Layer (type)                    Output Shape         Param #     Connected to                     \n",
            "==================================================================================================\n",
            "input_13 (InputLayer)           [(None, 1)]          0                                            \n",
            "__________________________________________________________________________________________________\n",
            "dense_27 (Dense)                (None, 500)          1000        input_13[0][0]                   \n",
            "__________________________________________________________________________________________________\n",
            "dense_28 (Dense)                (None, 500)          250500      dense_27[0][0]                   \n",
            "__________________________________________________________________________________________________\n",
            "pi (Dense)                      (None, 3)            1503        dense_28[0][0]                   \n",
            "__________________________________________________________________________________________________\n",
            "mu (Dense)                      (None, 3)            1503        dense_28[0][0]                   \n",
            "__________________________________________________________________________________________________\n",
            "sigma (Dense)                   (None, 3)            1503        dense_28[0][0]                   \n",
            "__________________________________________________________________________________________________\n",
            "output (Concatenate)            (None, 9)            0           pi[0][0]                         \n",
            "                                                                 mu[0][0]                         \n",
            "                                                                 sigma[0][0]                      \n",
            "==================================================================================================\n",
            "Total params: 256,009\n",
            "Trainable params: 256,009\n",
            "Non-trainable params: 0\n",
            "__________________________________________________________________________________________________\n"
          ],
          "name": "stdout"
        }
      ]
    },
    {
      "cell_type": "code",
      "metadata": {
        "id": "CVd18HKRMqma",
        "colab_type": "code",
        "colab": {
          "base_uri": "https://localhost:8080/",
          "height": 466
        },
        "outputId": "8d0836d2-7988-4a1d-ff04-7683b8ec6e0f"
      },
      "source": [
        "keras.utils.plot_model(modelMDN)"
      ],
      "execution_count": 259,
      "outputs": [
        {
          "output_type": "execute_result",
          "data": {
            "image/png": "[encoded data removed]",
            "text/plain": [
              "<IPython.core.display.Image object>"
            ]
          },
          "metadata": {
            "tags": []
          },
          "execution_count": 259
        }
      ]
    },
    {
      "cell_type": "code",
      "metadata": {
        "id": "2IlHlGMPa0rX",
        "colab_type": "code",
        "colab": {}
      },
      "source": [
        "from tensorflow.keras.callbacks import EarlyStopping\n",
        "\n",
        "# Set up early stopping\n",
        "mon = EarlyStopping(monitor='val_loss', min_delta=0.0, patience=50, verbose=0, \n",
        "                    mode='auto')"
      ],
      "execution_count": 0,
      "outputs": []
    },
    {
      "cell_type": "code",
      "metadata": {
        "id": "iuqTmehXMqmc",
        "colab_type": "code",
        "colab": {
          "base_uri": "https://localhost:8080/",
          "height": 1000
        },
        "outputId": "b72a1f5a-74dc-4029-ff0c-66315732d59c"
      },
      "source": [
        "historyNEW = modelMDN.fit(t_train, X_train, epochs=1000, \n",
        "                          validation_data=(t_validation, X_validation), \n",
        "                          verbose=True, batch_size=16, callbacks=[mon,])"
      ],
      "execution_count": 272,
      "outputs": [
        {
          "output_type": "stream",
          "text": [
            "Epoch 1/1000\n",
            "32/32 [==============================] - 0s 9ms/step - loss: 0.2745 - val_loss: -0.1441\n",
            "Epoch 2/1000\n",
            "32/32 [==============================] - 0s 5ms/step - loss: -0.0840 - val_loss: -0.3023\n",
            "Epoch 3/1000\n",
            "32/32 [==============================] - 0s 6ms/step - loss: -0.1917 - val_loss: -0.0376\n",
            "Epoch 4/1000\n",
            "32/32 [==============================] - 0s 6ms/step - loss: -0.1843 - val_loss: -0.0136\n",
            "Epoch 5/1000\n",
            "32/32 [==============================] - 0s 5ms/step - loss: -0.1914 - val_loss: -0.3300\n",
            "Epoch 6/1000\n",
            "32/32 [==============================] - 0s 5ms/step - loss: -0.2988 - val_loss: -0.3579\n",
            "Epoch 7/1000\n",
            "32/32 [==============================] - 0s 6ms/step - loss: -0.2437 - val_loss: -0.3736\n",
            "Epoch 8/1000\n",
            "32/32 [==============================] - 0s 5ms/step - loss: -0.3866 - val_loss: -0.2158\n",
            "Epoch 9/1000\n",
            "32/32 [==============================] - 0s 6ms/step - loss: -0.4447 - val_loss: -0.7021\n",
            "Epoch 10/1000\n",
            "32/32 [==============================] - 0s 5ms/step - loss: -0.4618 - val_loss: -0.6978\n",
            "Epoch 11/1000\n",
            "32/32 [==============================] - 0s 5ms/step - loss: -0.5961 - val_loss: -0.4198\n",
            "Epoch 12/1000\n",
            "32/32 [==============================] - 0s 5ms/step - loss: -0.5050 - val_loss: -0.6454\n",
            "Epoch 13/1000\n",
            "32/32 [==============================] - 0s 5ms/step - loss: -0.5636 - val_loss: -0.5529\n",
            "Epoch 14/1000\n",
            "32/32 [==============================] - 0s 5ms/step - loss: -0.5092 - val_loss: -0.6024\n",
            "Epoch 15/1000\n",
            "32/32 [==============================] - 0s 6ms/step - loss: -0.5202 - val_loss: -0.8523\n",
            "Epoch 16/1000\n",
            "32/32 [==============================] - 0s 5ms/step - loss: -0.6964 - val_loss: -0.8986\n",
            "Epoch 17/1000\n",
            "32/32 [==============================] - 0s 5ms/step - loss: -0.6953 - val_loss: -0.7464\n",
            "Epoch 18/1000\n",
            "32/32 [==============================] - 0s 5ms/step - loss: -0.6642 - val_loss: -0.5461\n",
            "Epoch 19/1000\n",
            "32/32 [==============================] - 0s 5ms/step - loss: -0.6851 - val_loss: -0.8081\n",
            "Epoch 20/1000\n",
            "32/32 [==============================] - 0s 5ms/step - loss: -0.7757 - val_loss: -0.8034\n",
            "Epoch 21/1000\n",
            "32/32 [==============================] - 0s 5ms/step - loss: -0.7343 - val_loss: -0.9638\n",
            "Epoch 22/1000\n",
            "32/32 [==============================] - 0s 5ms/step - loss: -0.7476 - val_loss: -0.9291\n",
            "Epoch 23/1000\n",
            "32/32 [==============================] - 0s 5ms/step - loss: -0.7481 - val_loss: -0.7337\n",
            "Epoch 24/1000\n",
            "32/32 [==============================] - 0s 5ms/step - loss: -0.6844 - val_loss: -0.7989\n",
            "Epoch 25/1000\n",
            "32/32 [==============================] - 0s 5ms/step - loss: -0.7333 - val_loss: -0.8252\n",
            "Epoch 26/1000\n",
            "32/32 [==============================] - 0s 6ms/step - loss: -0.7052 - val_loss: -0.9082\n",
            "Epoch 27/1000\n",
            "32/32 [==============================] - 0s 5ms/step - loss: -0.8371 - val_loss: -0.9942\n",
            "Epoch 28/1000\n",
            "32/32 [==============================] - 0s 5ms/step - loss: -0.8058 - val_loss: -0.8361\n",
            "Epoch 29/1000\n",
            "32/32 [==============================] - 0s 6ms/step - loss: -0.7156 - val_loss: -0.9623\n",
            "Epoch 30/1000\n",
            "32/32 [==============================] - 0s 5ms/step - loss: -0.7960 - val_loss: -0.8946\n",
            "Epoch 31/1000\n",
            "32/32 [==============================] - 0s 6ms/step - loss: -0.7596 - val_loss: -0.2339\n",
            "Epoch 32/1000\n",
            "32/32 [==============================] - 0s 5ms/step - loss: -0.5281 - val_loss: -0.7887\n",
            "Epoch 33/1000\n",
            "32/32 [==============================] - 0s 5ms/step - loss: -0.8830 - val_loss: -0.9843\n",
            "Epoch 34/1000\n",
            "32/32 [==============================] - 0s 6ms/step - loss: -0.4848 - val_loss: -0.4659\n",
            "Epoch 35/1000\n",
            "32/32 [==============================] - 0s 5ms/step - loss: -0.6735 - val_loss: -0.8602\n",
            "Epoch 36/1000\n",
            "32/32 [==============================] - 0s 6ms/step - loss: -0.8471 - val_loss: -0.6750\n",
            "Epoch 37/1000\n",
            "32/32 [==============================] - 0s 5ms/step - loss: -0.7676 - val_loss: -0.9813\n",
            "Epoch 38/1000\n",
            "32/32 [==============================] - 0s 6ms/step - loss: -0.8696 - val_loss: -1.0335\n",
            "Epoch 39/1000\n",
            "32/32 [==============================] - 0s 6ms/step - loss: -0.8009 - val_loss: -0.7854\n",
            "Epoch 40/1000\n",
            "32/32 [==============================] - 0s 6ms/step - loss: -0.8563 - val_loss: -0.7582\n",
            "Epoch 41/1000\n",
            "32/32 [==============================] - 0s 5ms/step - loss: -0.7576 - val_loss: -0.2367\n",
            "Epoch 42/1000\n",
            "32/32 [==============================] - 0s 6ms/step - loss: -0.6122 - val_loss: -0.8088\n",
            "Epoch 43/1000\n",
            "32/32 [==============================] - 0s 5ms/step - loss: -0.7314 - val_loss: -0.6989\n",
            "Epoch 44/1000\n",
            "32/32 [==============================] - 0s 5ms/step - loss: -0.7314 - val_loss: -0.8965\n",
            "Epoch 45/1000\n",
            "32/32 [==============================] - 0s 5ms/step - loss: -0.8840 - val_loss: -0.6406\n",
            "Epoch 46/1000\n",
            "32/32 [==============================] - 0s 5ms/step - loss: -0.8345 - val_loss: -0.7276\n",
            "Epoch 47/1000\n",
            "32/32 [==============================] - 0s 6ms/step - loss: -0.8067 - val_loss: -0.9686\n",
            "Epoch 48/1000\n",
            "32/32 [==============================] - 0s 5ms/step - loss: -0.9006 - val_loss: -1.1029\n",
            "Epoch 49/1000\n",
            "32/32 [==============================] - 0s 5ms/step - loss: -0.7510 - val_loss: -0.8339\n",
            "Epoch 50/1000\n",
            "32/32 [==============================] - 0s 5ms/step - loss: -0.8673 - val_loss: -0.8430\n",
            "Epoch 51/1000\n",
            "32/32 [==============================] - 0s 5ms/step - loss: -0.7987 - val_loss: -0.9330\n",
            "Epoch 52/1000\n",
            "32/32 [==============================] - 0s 6ms/step - loss: -0.8410 - val_loss: -0.9512\n",
            "Epoch 53/1000\n",
            "32/32 [==============================] - 0s 5ms/step - loss: -0.8880 - val_loss: -1.0510\n",
            "Epoch 54/1000\n",
            "32/32 [==============================] - 0s 5ms/step - loss: -0.9787 - val_loss: -0.9345\n",
            "Epoch 55/1000\n",
            "32/32 [==============================] - 0s 6ms/step - loss: -0.9138 - val_loss: -0.9756\n",
            "Epoch 56/1000\n",
            "32/32 [==============================] - 0s 5ms/step - loss: -0.8537 - val_loss: -1.0034\n",
            "Epoch 57/1000\n",
            "32/32 [==============================] - 0s 7ms/step - loss: -0.8978 - val_loss: -1.0313\n",
            "Epoch 58/1000\n",
            "32/32 [==============================] - 0s 6ms/step - loss: -0.8781 - val_loss: -1.0771\n",
            "Epoch 59/1000\n",
            "32/32 [==============================] - 0s 5ms/step - loss: -0.8759 - val_loss: -0.8057\n",
            "Epoch 60/1000\n",
            "32/32 [==============================] - 0s 5ms/step - loss: -0.8174 - val_loss: -0.9549\n",
            "Epoch 61/1000\n",
            "32/32 [==============================] - 0s 6ms/step - loss: -0.8031 - val_loss: -0.5090\n",
            "Epoch 62/1000\n",
            "32/32 [==============================] - 0s 6ms/step - loss: -0.8186 - val_loss: -0.8940\n",
            "Epoch 63/1000\n",
            "32/32 [==============================] - 0s 5ms/step - loss: -0.9189 - val_loss: -0.1884\n",
            "Epoch 64/1000\n",
            "32/32 [==============================] - 0s 5ms/step - loss: -0.7465 - val_loss: -0.7844\n",
            "Epoch 65/1000\n",
            "32/32 [==============================] - 0s 5ms/step - loss: -0.8051 - val_loss: -0.9845\n",
            "Epoch 66/1000\n",
            "32/32 [==============================] - 0s 6ms/step - loss: -0.8927 - val_loss: -0.8773\n",
            "Epoch 67/1000\n",
            "32/32 [==============================] - 0s 5ms/step - loss: -0.9547 - val_loss: -0.9405\n",
            "Epoch 68/1000\n",
            "32/32 [==============================] - 0s 6ms/step - loss: -0.7911 - val_loss: -1.0269\n",
            "Epoch 69/1000\n",
            "32/32 [==============================] - 0s 6ms/step - loss: -0.9725 - val_loss: -1.0116\n",
            "Epoch 70/1000\n",
            "32/32 [==============================] - 0s 5ms/step - loss: -0.9777 - val_loss: -1.0885\n",
            "Epoch 71/1000\n",
            "32/32 [==============================] - 0s 5ms/step - loss: -0.9800 - val_loss: -1.0455\n",
            "Epoch 72/1000\n",
            "32/32 [==============================] - 0s 5ms/step - loss: -0.9049 - val_loss: -1.0080\n",
            "Epoch 73/1000\n",
            "32/32 [==============================] - 0s 5ms/step - loss: -0.9712 - val_loss: -1.1259\n",
            "Epoch 74/1000\n",
            "32/32 [==============================] - 0s 5ms/step - loss: -0.9632 - val_loss: -1.0932\n",
            "Epoch 75/1000\n",
            "32/32 [==============================] - 0s 5ms/step - loss: -0.6466 - val_loss: -0.5662\n",
            "Epoch 76/1000\n",
            "32/32 [==============================] - 0s 6ms/step - loss: -0.7833 - val_loss: -0.9444\n",
            "Epoch 77/1000\n",
            "32/32 [==============================] - 0s 5ms/step - loss: -0.9172 - val_loss: -1.0847\n",
            "Epoch 78/1000\n",
            "32/32 [==============================] - 0s 5ms/step - loss: -0.9532 - val_loss: -0.8338\n",
            "Epoch 79/1000\n",
            "32/32 [==============================] - 0s 5ms/step - loss: -0.8190 - val_loss: -0.9725\n",
            "Epoch 80/1000\n",
            "32/32 [==============================] - 0s 5ms/step - loss: -0.7696 - val_loss: -0.8950\n",
            "Epoch 81/1000\n",
            "32/32 [==============================] - 0s 5ms/step - loss: -0.9256 - val_loss: -1.0828\n",
            "Epoch 82/1000\n",
            "32/32 [==============================] - 0s 5ms/step - loss: -0.9729 - val_loss: -1.1185\n",
            "Epoch 83/1000\n",
            "32/32 [==============================] - 0s 5ms/step - loss: -1.0053 - val_loss: -0.5712\n",
            "Epoch 84/1000\n",
            "32/32 [==============================] - 0s 6ms/step - loss: -0.9285 - val_loss: -0.9801\n",
            "Epoch 85/1000\n",
            "32/32 [==============================] - 0s 6ms/step - loss: -0.9843 - val_loss: -0.9964\n",
            "Epoch 86/1000\n",
            "32/32 [==============================] - 0s 6ms/step - loss: -0.8711 - val_loss: -1.1002\n",
            "Epoch 87/1000\n",
            "32/32 [==============================] - 0s 5ms/step - loss: -0.9026 - val_loss: -0.7672\n",
            "Epoch 88/1000\n",
            "32/32 [==============================] - 0s 5ms/step - loss: -0.8448 - val_loss: -0.9220\n",
            "Epoch 89/1000\n",
            "32/32 [==============================] - 0s 6ms/step - loss: -0.9517 - val_loss: -0.9495\n",
            "Epoch 90/1000\n",
            "32/32 [==============================] - 0s 6ms/step - loss: -0.9884 - val_loss: -1.0469\n",
            "Epoch 91/1000\n",
            "32/32 [==============================] - 0s 5ms/step - loss: -0.9714 - val_loss: -1.0524\n",
            "Epoch 92/1000\n",
            "32/32 [==============================] - 0s 5ms/step - loss: -0.9522 - val_loss: -1.0344\n",
            "Epoch 93/1000\n",
            "32/32 [==============================] - 0s 6ms/step - loss: -0.9560 - val_loss: -1.1295\n",
            "Epoch 94/1000\n",
            "32/32 [==============================] - 0s 6ms/step - loss: -0.9875 - val_loss: -1.0759\n",
            "Epoch 95/1000\n",
            "32/32 [==============================] - 0s 6ms/step - loss: -0.9743 - val_loss: -0.8626\n",
            "Epoch 96/1000\n",
            "32/32 [==============================] - 0s 5ms/step - loss: -0.9649 - val_loss: -1.0229\n",
            "Epoch 97/1000\n",
            "32/32 [==============================] - 0s 5ms/step - loss: -0.9394 - val_loss: -1.0535\n",
            "Epoch 98/1000\n",
            "32/32 [==============================] - 0s 6ms/step - loss: -0.9749 - val_loss: -0.6631\n",
            "Epoch 99/1000\n",
            "32/32 [==============================] - 0s 6ms/step - loss: -0.9397 - val_loss: -1.1573\n",
            "Epoch 100/1000\n",
            "32/32 [==============================] - 0s 5ms/step - loss: -0.9519 - val_loss: -1.1119\n",
            "Epoch 101/1000\n",
            "32/32 [==============================] - 0s 6ms/step - loss: -0.9709 - val_loss: -0.7981\n",
            "Epoch 102/1000\n",
            "32/32 [==============================] - 0s 5ms/step - loss: -0.9211 - val_loss: -1.1393\n",
            "Epoch 103/1000\n",
            "32/32 [==============================] - 0s 5ms/step - loss: -0.8984 - val_loss: -1.0571\n",
            "Epoch 104/1000\n",
            "32/32 [==============================] - 0s 5ms/step - loss: -1.0206 - val_loss: -0.9212\n",
            "Epoch 105/1000\n",
            "32/32 [==============================] - 0s 5ms/step - loss: -0.7719 - val_loss: -0.8771\n",
            "Epoch 106/1000\n",
            "32/32 [==============================] - 0s 5ms/step - loss: -0.9098 - val_loss: -1.0626\n",
            "Epoch 107/1000\n",
            "32/32 [==============================] - 0s 5ms/step - loss: -1.0008 - val_loss: -0.8098\n",
            "Epoch 108/1000\n",
            "32/32 [==============================] - 0s 5ms/step - loss: -0.7933 - val_loss: -0.9189\n",
            "Epoch 109/1000\n",
            "32/32 [==============================] - 0s 5ms/step - loss: -0.9686 - val_loss: -1.0727\n",
            "Epoch 110/1000\n",
            "32/32 [==============================] - 0s 5ms/step - loss: -0.9693 - val_loss: -1.1126\n",
            "Epoch 111/1000\n",
            "32/32 [==============================] - 0s 6ms/step - loss: -0.9978 - val_loss: -1.1312\n",
            "Epoch 112/1000\n",
            "32/32 [==============================] - 0s 6ms/step - loss: -0.9669 - val_loss: -1.1812\n",
            "Epoch 113/1000\n",
            "32/32 [==============================] - 0s 5ms/step - loss: -0.9712 - val_loss: -1.1595\n",
            "Epoch 114/1000\n",
            "32/32 [==============================] - 0s 5ms/step - loss: -0.9750 - val_loss: -0.9754\n",
            "Epoch 115/1000\n",
            "32/32 [==============================] - 0s 5ms/step - loss: -1.0169 - val_loss: -1.1718\n",
            "Epoch 116/1000\n",
            "32/32 [==============================] - 0s 5ms/step - loss: -0.8476 - val_loss: -0.9894\n",
            "Epoch 117/1000\n",
            "32/32 [==============================] - 0s 5ms/step - loss: -0.9768 - val_loss: -1.1288\n",
            "Epoch 118/1000\n",
            "32/32 [==============================] - 0s 5ms/step - loss: -1.0379 - val_loss: -1.1871\n",
            "Epoch 119/1000\n",
            "32/32 [==============================] - 0s 5ms/step - loss: -1.0443 - val_loss: -1.0549\n",
            "Epoch 120/1000\n",
            "32/32 [==============================] - 0s 5ms/step - loss: -0.9772 - val_loss: -1.1899\n",
            "Epoch 121/1000\n",
            "32/32 [==============================] - 0s 6ms/step - loss: -1.0343 - val_loss: -1.1081\n",
            "Epoch 122/1000\n",
            "32/32 [==============================] - 0s 5ms/step - loss: -0.9762 - val_loss: -1.1215\n",
            "Epoch 123/1000\n",
            "32/32 [==============================] - 0s 6ms/step - loss: -0.9872 - val_loss: -0.6173\n",
            "Epoch 124/1000\n",
            "32/32 [==============================] - 0s 5ms/step - loss: -0.8992 - val_loss: -1.1447\n",
            "Epoch 125/1000\n",
            "32/32 [==============================] - 0s 5ms/step - loss: -0.9532 - val_loss: -0.8194\n",
            "Epoch 126/1000\n",
            "32/32 [==============================] - 0s 6ms/step - loss: -0.9405 - val_loss: -1.1572\n",
            "Epoch 127/1000\n",
            "32/32 [==============================] - 0s 6ms/step - loss: -1.0075 - val_loss: -1.1973\n",
            "Epoch 128/1000\n",
            "32/32 [==============================] - 0s 6ms/step - loss: -1.0171 - val_loss: -1.0791\n",
            "Epoch 129/1000\n",
            "32/32 [==============================] - 0s 6ms/step - loss: -1.0187 - val_loss: -1.0322\n",
            "Epoch 130/1000\n",
            "32/32 [==============================] - 0s 5ms/step - loss: -0.9184 - val_loss: -0.8239\n",
            "Epoch 131/1000\n",
            "32/32 [==============================] - 0s 6ms/step - loss: -0.9406 - val_loss: -1.0132\n",
            "Epoch 132/1000\n",
            "32/32 [==============================] - 0s 5ms/step - loss: -0.9749 - val_loss: -1.0786\n",
            "Epoch 133/1000\n",
            "32/32 [==============================] - 0s 6ms/step - loss: -1.0100 - val_loss: -1.1901\n",
            "Epoch 134/1000\n",
            "32/32 [==============================] - 0s 6ms/step - loss: -0.9950 - val_loss: -1.2120\n",
            "Epoch 135/1000\n",
            "32/32 [==============================] - 0s 5ms/step - loss: -1.0349 - val_loss: -1.2019\n",
            "Epoch 136/1000\n",
            "32/32 [==============================] - 0s 6ms/step - loss: -0.9552 - val_loss: -1.1141\n",
            "Epoch 137/1000\n",
            "32/32 [==============================] - 0s 5ms/step - loss: -0.9027 - val_loss: -1.0474\n",
            "Epoch 138/1000\n",
            "32/32 [==============================] - 0s 5ms/step - loss: -0.9728 - val_loss: -1.0863\n",
            "Epoch 139/1000\n",
            "32/32 [==============================] - 0s 5ms/step - loss: -0.9184 - val_loss: -1.0425\n",
            "Epoch 140/1000\n",
            "32/32 [==============================] - 0s 5ms/step - loss: -1.0017 - val_loss: -1.1741\n",
            "Epoch 141/1000\n",
            "32/32 [==============================] - 0s 6ms/step - loss: -1.0117 - val_loss: -1.1949\n",
            "Epoch 142/1000\n",
            "32/32 [==============================] - 0s 6ms/step - loss: -0.9965 - val_loss: -1.1391\n",
            "Epoch 143/1000\n",
            "32/32 [==============================] - 0s 5ms/step - loss: -1.0160 - val_loss: -1.1420\n",
            "Epoch 144/1000\n",
            "32/32 [==============================] - 0s 6ms/step - loss: -1.0284 - val_loss: -1.1245\n",
            "Epoch 145/1000\n",
            "32/32 [==============================] - 0s 6ms/step - loss: -0.8874 - val_loss: -0.8247\n",
            "Epoch 146/1000\n",
            "32/32 [==============================] - 0s 5ms/step - loss: -0.8395 - val_loss: -0.9055\n",
            "Epoch 147/1000\n",
            "32/32 [==============================] - 0s 5ms/step - loss: -0.9466 - val_loss: -1.0259\n",
            "Epoch 148/1000\n",
            "32/32 [==============================] - 0s 5ms/step - loss: -0.9778 - val_loss: -1.1698\n",
            "Epoch 149/1000\n",
            "32/32 [==============================] - 0s 6ms/step - loss: -0.9121 - val_loss: -1.1023\n",
            "Epoch 150/1000\n",
            "32/32 [==============================] - 0s 5ms/step - loss: -0.9820 - val_loss: -1.0711\n",
            "Epoch 151/1000\n",
            "32/32 [==============================] - 0s 6ms/step - loss: -0.9799 - val_loss: -1.1947\n",
            "Epoch 152/1000\n",
            "32/32 [==============================] - 0s 5ms/step - loss: -0.9768 - val_loss: -1.1837\n",
            "Epoch 153/1000\n",
            "32/32 [==============================] - 0s 5ms/step - loss: -0.8671 - val_loss: -1.0516\n",
            "Epoch 154/1000\n",
            "32/32 [==============================] - 0s 5ms/step - loss: -1.0205 - val_loss: -1.1922\n",
            "Epoch 155/1000\n",
            "32/32 [==============================] - 0s 5ms/step - loss: -1.0432 - val_loss: -1.1350\n",
            "Epoch 156/1000\n",
            "32/32 [==============================] - 0s 5ms/step - loss: -0.8299 - val_loss: -0.9455\n",
            "Epoch 157/1000\n",
            "32/32 [==============================] - 0s 5ms/step - loss: -0.9476 - val_loss: -1.1815\n",
            "Epoch 158/1000\n",
            "32/32 [==============================] - 0s 5ms/step - loss: -1.0068 - val_loss: -1.1012\n",
            "Epoch 159/1000\n",
            "32/32 [==============================] - 0s 5ms/step - loss: -1.0206 - val_loss: -1.1252\n",
            "Epoch 160/1000\n",
            "32/32 [==============================] - 0s 5ms/step - loss: -0.9759 - val_loss: -1.2048\n",
            "Epoch 161/1000\n",
            "32/32 [==============================] - 0s 6ms/step - loss: -0.9947 - val_loss: -1.0698\n",
            "Epoch 162/1000\n",
            "32/32 [==============================] - 0s 5ms/step - loss: -0.9718 - val_loss: -1.1805\n",
            "Epoch 163/1000\n",
            "32/32 [==============================] - 0s 5ms/step - loss: -1.0350 - val_loss: -1.0949\n",
            "Epoch 164/1000\n",
            "32/32 [==============================] - 0s 5ms/step - loss: -0.9839 - val_loss: -1.0429\n",
            "Epoch 165/1000\n",
            "32/32 [==============================] - 0s 5ms/step - loss: -1.0283 - val_loss: -1.1465\n",
            "Epoch 166/1000\n",
            "32/32 [==============================] - 0s 6ms/step - loss: -1.0327 - val_loss: -1.1130\n",
            "Epoch 167/1000\n",
            "32/32 [==============================] - 0s 5ms/step - loss: -0.9579 - val_loss: -1.1879\n",
            "Epoch 168/1000\n",
            "32/32 [==============================] - 0s 5ms/step - loss: -0.9945 - val_loss: -0.9756\n",
            "Epoch 169/1000\n",
            "32/32 [==============================] - 0s 5ms/step - loss: -0.9625 - val_loss: -1.1577\n",
            "Epoch 170/1000\n",
            "32/32 [==============================] - 0s 6ms/step - loss: -0.9944 - val_loss: -1.1581\n",
            "Epoch 171/1000\n",
            "32/32 [==============================] - 0s 6ms/step - loss: -1.0284 - val_loss: -1.1150\n",
            "Epoch 172/1000\n",
            "32/32 [==============================] - 0s 6ms/step - loss: -0.9885 - val_loss: -1.1917\n",
            "Epoch 173/1000\n",
            "32/32 [==============================] - 0s 6ms/step - loss: -1.0179 - val_loss: -1.1886\n",
            "Epoch 174/1000\n",
            "32/32 [==============================] - 0s 6ms/step - loss: -0.9963 - val_loss: -1.1438\n",
            "Epoch 175/1000\n",
            "32/32 [==============================] - 0s 6ms/step - loss: -0.9454 - val_loss: -1.1240\n",
            "Epoch 176/1000\n",
            "32/32 [==============================] - 0s 6ms/step - loss: -1.0375 - val_loss: -1.0803\n",
            "Epoch 177/1000\n",
            "32/32 [==============================] - 0s 5ms/step - loss: -1.0061 - val_loss: -1.1035\n",
            "Epoch 178/1000\n",
            "32/32 [==============================] - 0s 6ms/step - loss: -1.0070 - val_loss: -1.1788\n",
            "Epoch 179/1000\n",
            "32/32 [==============================] - 0s 5ms/step - loss: -1.0354 - val_loss: -1.2045\n",
            "Epoch 180/1000\n",
            "32/32 [==============================] - 0s 5ms/step - loss: -0.9666 - val_loss: -1.0116\n",
            "Epoch 181/1000\n",
            "32/32 [==============================] - 0s 6ms/step - loss: -0.9952 - val_loss: -1.1178\n",
            "Epoch 182/1000\n",
            "32/32 [==============================] - 0s 5ms/step - loss: -1.0225 - val_loss: -1.0924\n",
            "Epoch 183/1000\n",
            "32/32 [==============================] - 0s 5ms/step - loss: -1.0049 - val_loss: -0.6265\n",
            "Epoch 184/1000\n",
            "32/32 [==============================] - 0s 5ms/step - loss: -0.9369 - val_loss: -1.1061\n"
          ],
          "name": "stdout"
        }
      ]
    },
    {
      "cell_type": "code",
      "metadata": {
        "id": "cA8mVU2GPAwr",
        "colab_type": "code",
        "colab": {
          "base_uri": "https://localhost:8080/",
          "height": 282
        },
        "outputId": "3b095cda-827b-4f8e-8e57-21a424b45814"
      },
      "source": [
        "pd.DataFrame(historyNEW.history).plot()"
      ],
      "execution_count": 273,
      "outputs": [
        {
          "output_type": "execute_result",
          "data": {
            "text/plain": [
              "<matplotlib.axes._subplots.AxesSubplot at 0x7f1057c96278>"
            ]
          },
          "metadata": {
            "tags": []
          },
          "execution_count": 273
        },
        {
          "output_type": "display_data",
          "data": {
            "image/png": "[encoded data removed]",
            "text/plain": [
              "<Figure size 432x288 with 1 Axes>"
            ]
          },
          "metadata": {
            "tags": [],
            "needs_background": "light"
          }
        }
      ]
    },
    {
      "cell_type": "code",
      "metadata": {
        "id": "WZOzOOs0Mqme",
        "colab_type": "code",
        "colab": {
          "base_uri": "https://localhost:8080/",
          "height": 379
        },
        "outputId": "7a4c0d67-682b-4dc7-89ef-2dd35ffc795c"
      },
      "source": [
        "fig = plt.figure(figsize=(16, 6))\n",
        "ax = fig.add_subplot(141)\n",
        "ax2 = fig.add_subplot(142)\n",
        "ax3 = fig.add_subplot(143)\n",
        "ax4 = fig.add_subplot(144)\n",
        "\n",
        "ax.plot(t_train, X_train, '.k')\n",
        "\n",
        "xx = np.linspace(0, 1, 1000)\n",
        "#ax.plot(xx, modelMDN.predict(xx), '-r')\n",
        "\n",
        "ax.set_xlabel('nuevo X')\n",
        "ax.set_ylabel('nuevo T')\n",
        "\n",
        "pars = modelMDN.predict(xx)\n",
        "pi, mu, sigma = slice_parameter_vectors(pars)\n",
        "\n",
        "# Plot mean of function\n",
        "tmean = np.sum(pi * mu, axis=1)\n",
        "ax.plot(xx, tmean, ',')\n",
        "\n",
        "ax2.plot(xx, pi)\n",
        "ax2.set_title('Mixing coefficient')\n",
        "ax3.plot(xx, mu)\n",
        "ax3.set_title('Valor medio')\n",
        "ax4.plot(xx, sigma)\n",
        "ax4.set_title('Varianza')"
      ],
      "execution_count": 274,
      "outputs": [
        {
          "output_type": "execute_result",
          "data": {
            "text/plain": [
              "Text(0.5, 1.0, 'Varianza')"
            ]
          },
          "metadata": {
            "tags": []
          },
          "execution_count": 274
        },
        {
          "output_type": "display_data",
          "data": {
            "image/png": "[encoded data removed]",
            "text/plain": [
              "<Figure size 1152x432 with 4 Axes>"
            ]
          },
          "metadata": {
            "tags": [],
            "needs_background": "light"
          }
        }
      ]
    },
    {
      "cell_type": "code",
      "metadata": {
        "id": "S_XhneRFMqmg",
        "colab_type": "code",
        "colab": {}
      },
      "source": [
        "import scipy.stats as st\n",
        "\n",
        "# Primero construyo una grilla de valores\n",
        "x, y = np.meshgrid(xx, xx)\n",
        "\n",
        "# Calcula distribución para cada componente\n",
        "a = np.array([pi[:, i] * st.norm.pdf(y, loc=mu[:, i], scale=sigma[:, i]) for \n",
        "              i in range(pi.shape[1])])\n",
        "# \n",
        "pdf = np.sum(a, axis=0)"
      ],
      "execution_count": 0,
      "outputs": []
    },
    {
      "cell_type": "code",
      "metadata": {
        "id": "sjBGIfWJYoII",
        "colab_type": "code",
        "colab": {
          "base_uri": "https://localhost:8080/",
          "height": 286
        },
        "outputId": "ff0073cc-2317-4d8c-a8eb-6a84065fca90"
      },
      "source": [
        "xont = plt.contourf(x, y, pdf, 30, cmap='jet')\n",
        "xont = plt.contour(x, y, pdf, 15, colors=['w',], alpha=0.7)\n",
        "plt.colorbar(xont)\n",
        "# plt.plot(t_train, X_train, '.w', mfc='None', alpha=0.4)"
      ],
      "execution_count": 307,
      "outputs": [
        {
          "output_type": "execute_result",
          "data": {
            "text/plain": [
              "<matplotlib.colorbar.Colorbar at 0x7f1066b62208>"
            ]
          },
          "metadata": {
            "tags": []
          },
          "execution_count": 307
        },
        {
          "output_type": "display_data",
          "data": {
            "image/png": "[encoded data removed]",
            "text/plain": [
              "<Figure size 432x288 with 2 Axes>"
            ]
          },
          "metadata": {
            "tags": [],
            "needs_background": "light"
          }
        }
      ]
    },
    {
      "cell_type": "code",
      "metadata": {
        "id": "APaNqed6YxrF",
        "colab_type": "code",
        "colab": {
          "base_uri": "https://localhost:8080/",
          "height": 34
        },
        "outputId": "585d3137-9052-4356-beff-6f2e446dca1b"
      },
      "source": [
        "modelMDN.save('MDN_ok.h')"
      ],
      "execution_count": 159,
      "outputs": [
        {
          "output_type": "stream",
          "text": [
            "INFO:tensorflow:Assets written to: MDN_ok.h/assets\n"
          ],
          "name": "stdout"
        }
      ]
    },
    {
      "cell_type": "code",
      "metadata": {
        "id": "JycA6D9_Y08_",
        "colab_type": "code",
        "colab": {}
      },
      "source": [
        ""
      ],
      "execution_count": 0,
      "outputs": []
    },
    {
      "cell_type": "code",
      "metadata": {
        "id": "8SNULnZ9ZSn7",
        "colab_type": "code",
        "colab": {
          "base_uri": "https://localhost:8080/",
          "height": 122
        },
        "outputId": "fd1a37bf-e8a8-41bc-aea8-e3d16cb290db"
      },
      "source": [
        "from google.colab import drive\n",
        "drive.mount('/content/drive')"
      ],
      "execution_count": 104,
      "outputs": [
        {
          "output_type": "stream",
          "text": [
            "Go to this URL in a browser: https://accounts.google.com/o/oauth2/auth?client_id=947318989803-6bn6qk8qdgf4n4g3pfee6491hc0brc4i.apps.googleusercontent.com&redirect_uri=urn%3aietf%3awg%3aoauth%3a2.0%3aoob&response_type=code&scope=email%20https%3a%2f%2fwww.googleapis.com%2fauth%2fdocs.test%20https%3a%2f%2fwww.googleapis.com%2fauth%2fdrive%20https%3a%2f%2fwww.googleapis.com%2fauth%2fdrive.photos.readonly%20https%3a%2f%2fwww.googleapis.com%2fauth%2fpeopleapi.readonly\n",
            "\n",
            "Enter your authorization code:\n",
            "··········\n",
            "Mounted at /content/drive\n"
          ],
          "name": "stdout"
        }
      ]
    },
    {
      "cell_type": "code",
      "metadata": {
        "id": "MZpgAMsVZUot",
        "colab_type": "code",
        "colab": {}
      },
      "source": [
        ""
      ],
      "execution_count": 0,
      "outputs": []
    }
  ]
}