{
  "nbformat": 4,
  "nbformat_minor": 0,
  "metadata": {
    "kernelspec": {
      "display_name": "Python 3",
      "language": "python",
      "name": "python3"
    },
    "language_info": {
      "codemirror_mode": {
        "name": "ipython",
        "version": 3
      },
      "file_extension": ".py",
      "mimetype": "text/x-python",
      "name": "python",
      "nbconvert_exporter": "python",
      "pygments_lexer": "ipython3",
      "version": "3.8.3"
    },
    "colab": {
      "name": "12_MDN.ipynb",
      "provenance": [],
      "collapsed_sections": []
    }
  },
  "cells": [
    {
      "cell_type": "code",
      "metadata": {
        "id": "zUMi0V-eMqld",
        "colab_type": "code",
        "colab": {}
      },
      "source": [
        "# Por si alguien corre en python2\n",
        "from __future__ import division\n",
        "\n",
        "# Preparamos todo para correr\n",
        "import numpy as np\n",
        "from math import *\n",
        "from matplotlib import pylab as plt\n",
        "\n",
        "from tensorflow import keras\n",
        "%matplotlib inline\n",
        "%load_ext tensorboard"
      ],
      "execution_count": 0,
      "outputs": []
    },
    {
      "cell_type": "markdown",
      "metadata": {
        "id": "CRu_u7pQMqli",
        "colab_type": "text"
      },
      "source": [
        "## Mixture Density Networks (MDN)\n",
        "<a id='mixtures'></a>\n",
        "\n",
        "Cuando estudiamos regresión lineal, vimos que el error cuadrático aparecía naturalmente al suponer que la distribución condicional de los labels era normal:\n",
        "\n",
        "$$\n",
        "p(t|x, \\mathbf{w}, \\beta) = \\mathcal{N}(t|y(x,\\mathbf{w}), \\beta^{-1})\\;\\;.\n",
        "$$\n",
        "\n",
        "En ese caso, teníamos que el logaritmo de la versosimilitud de una serie de mediciones, $\\mathbf{X} = \\{\\mathbf{x}_1, \\ldots, \\mathbf{x}_N\\}$, con labels / outputs, $\\mathbf{t} = \\{t_1, \\ldots, t_N\\}$ era:\n",
        "\n",
        "$$\n",
        "\\begin{array}\n",
        "\\ln p(\\mathbf{t}|\\mathbf{w}, \\beta) &=& \\sum_{n=1}^N \\ln\\mathcal{N}(t_n|y(\\mathbf{x},\\mathbf{w}), \\beta^{-1})\\\\\n",
        "&=& \\frac{N}{2}\\ln\\beta - \\frac{N}{2}\\ln(2\\pi) - \\beta E_D(\\mathbf{w})\\;\\;,\n",
        "\\end{array}\n",
        "$$\n",
        "donde \n",
        "$$\n",
        "E_D(\\mathbf{w}) = \\frac{1}{2}\\sum_{n=1}^N\\left\\{t_n - \\mathbf{w}^T\\phi(\\mathbf{x}_n)\\right\\}^2 \\;\\;.\n",
        "$$\n",
        "\n",
        "En el marco de los modelos de redes neuronales, las funciones de base $\\phi$ se parametrizan para darle mayor flexibilidad al modelo, como estuvimos viendo estas semanas. "
      ]
    },
    {
      "cell_type": "markdown",
      "metadata": {
        "id": "n3o3qJ1AMqli",
        "colab_type": "text"
      },
      "source": [
        "Muy bien, veamos entonces que pueden hacer las redes neuronales frente a un problema sencillo de regresión, con un output y un input.\n",
        "\n",
        "Seguimos de cerca a Bishop"
      ]
    },
    {
      "cell_type": "code",
      "metadata": {
        "id": "8K23pR8vMqlj",
        "colab_type": "code",
        "colab": {
          "base_uri": "https://localhost:8080/",
          "height": 282
        },
        "outputId": "8c7c4e5a-3236-4b64-939f-b40037011627"
      },
      "source": [
        "# Fix seed\n",
        "np.random.seed(20200616)\n",
        "\n",
        "# Create dataset\n",
        "x = np.random.rand(600).reshape(-1, 1)\n",
        "t = x + 0.3 * np.sin(2 * np.pi * x)\n",
        "noise = (np.random.rand(x.shape[0]) * 0.2 - 0.1).reshape(-1, 1)\n",
        "\n",
        "t += noise\n",
        "# Separemos en train, test, y validation\n",
        "X_train, X_validation, X_test = x[:500], x[500: 550], x[550:]\n",
        "t_train, t_validation, t_test = t[:500], t[500: 550], t[550:]\n",
        "\n",
        "# Veamos los datos\n",
        "plt.plot(X_train, t_train, '.')"
      ],
      "execution_count": 267,
      "outputs": [
        {
          "output_type": "execute_result",
          "data": {
            "text/plain": [
              "[<matplotlib.lines.Line2D at 0x7f105e4c9da0>]"
            ]
          },
          "metadata": {
            "tags": []
          },
          "execution_count": 267
        },
        {
          "output_type": "display_data",
          "data": {
            "image/png": "[encoded data removed]",
            "text/plain": [
              "<Figure size 432x288 with 1 Axes>"
            ]
          },
          "metadata": {
            "tags": [],
            "needs_background": "light"
          }
        }
      ]
    },
    {
      "cell_type": "code",
      "metadata": {
        "id": "y8OXSm6uMqlm",
        "colab_type": "code",
        "colab": {}
      },
      "source": [
        "#\n",
        "from tensorflow import keras\n",
        "\n",
        "# Build simple DNN\n",
        "modelo = keras.Sequential()\n",
        "\n",
        "# Agreguemos dos capas ocultas de 10 y 8 neuronas cada una\n",
        "# ...\n",
        "\n",
        "# Agregemos una capa de output que sirva para este problema\n",
        "# ...\n",
        "\n",
        "\n",
        "keras.utils.plot_model(modelo, show_shapes=True)"
      ],
      "execution_count": 0,
      "outputs": []
    },
    {
      "cell_type": "code",
      "metadata": {
        "id": "AzVIJTNEMqlp",
        "colab_type": "code",
        "colab": {}
      },
      "source": [
        "# Compilemos el modelo. \n",
        "# En este punto se elije la función de périda y el optimizador.\n",
        "# ¿Qué función de pérdida deberíamos usar?\n",
        "modelo.compile(loss=..., optimizer=keras.optimizers.Adam(learning_rate=0.001))"
      ],
      "execution_count": 0,
      "outputs": []
    },
    {
      "cell_type": "code",
      "metadata": {
        "id": "R3KzEoIQMqls",
        "colab_type": "code",
        "colab": {}
      },
      "source": [
        "# Es hora de entrenar el modelo. Corramos 500 épocas, y vayamos mirando también\n",
        "# la validación.\n",
        "\n",
        "# Usemos EarlyStopping para no pasar tiempo de más entrenando\n",
        "from tensorflow.keras.callbacks import EarlyStopping\n",
        "\n",
        "# Set up early stopping\n",
        "early = EarlyStopping(monitor='val_loss', min_delta=0.0, patience=50, verbose=0, \n",
        "                      mode='auto')\n",
        "\n",
        "history = modelo.fit(X_train, t_train, epochs=500, \n",
        "                     validation_data=(X_validation, t_validation),\n",
        "                     callbacks=[early,])"
      ],
      "execution_count": 0,
      "outputs": []
    },
    {
      "cell_type": "code",
      "metadata": {
        "id": "EOgz6qVdMqlv",
        "colab_type": "code",
        "colab": {}
      },
      "source": [
        "# Veamos el resultado del ajuste\n",
        "import pandas as pd\n",
        "\n",
        "df = pd.DataFrame(history.history)\n",
        "df.plot()"
      ],
      "execution_count": 0,
      "outputs": []
    },
    {
      "cell_type": "code",
      "metadata": {
        "id": "pXMDx8w5Mqlz",
        "colab_type": "code",
        "colab": {}
      },
      "source": [
        "# Veamos los datos\n",
        "plt.plot(X_train, t_train, '.')\n",
        "\n",
        "# Graficamos la predicción del modelo \n",
        "xx = np.linspace(0, 1, 1000)\n",
        "plt.plot(xx, modelo.predict(xx), '-r')"
      ],
      "execution_count": 0,
      "outputs": []
    },
    {
      "cell_type": "markdown",
      "metadata": {
        "id": "xh9PtNSKMql3",
        "colab_type": "text"
      },
      "source": [
        "Vemos que el modelo funciona bastante bien (después de tweakearlo un poco).\n",
        "\n",
        "Ahora veamos qué pasa si invertimos el rol de las variables, de manera que los datos que queremos ajustar son diferentes."
      ]
    },
    {
      "cell_type": "code",
      "metadata": {
        "id": "GDjnNDglMql4",
        "colab_type": "code",
        "colab": {}
      },
      "source": [
        "# Veamos los datos\n",
        "plt.plot(t_train, X_train, '.')"
      ],
      "execution_count": 0,
      "outputs": []
    },
    {
      "cell_type": "code",
      "metadata": {
        "id": "fVRkb5amMql6",
        "colab_type": "code",
        "colab": {}
      },
      "source": [
        "# Escribamos un modelo similar al anterior (¿podemos usar el mismo modelo?)\n",
        "# ..."
      ],
      "execution_count": 0,
      "outputs": []
    },
    {
      "cell_type": "code",
      "metadata": {
        "id": "TEag19y3Mql8",
        "colab_type": "code",
        "colab": {}
      },
      "source": [
        "# Compilemos, ajustemos, miremos el resultado y grafiquemos la predicción.\n",
        "# ¿Qué pasó?"
      ],
      "execution_count": 0,
      "outputs": []
    },
    {
      "cell_type": "markdown",
      "metadata": {
        "id": "dAOD09xl2Lly",
        "colab_type": "text"
      },
      "source": [
        "\n",
        "\n",
        "---\n",
        "\n",
        "\n"
      ]
    },
    {
      "cell_type": "markdown",
      "metadata": {
        "id": "yD7vjuW5MqmH",
        "colab_type": "text"
      },
      "source": [
        "Por más que intentemos, la red no va a poder ajustar los datos. \n",
        "\n",
        "El uso del error cuadrático implica, como vimos arriba que la distribución condicionada de las variables target $p(t | x)$ es una normal. Sin embargo, para valores como $x=0.6$ la distribución es bien multimodal, y por lo tanto no puede ser representada por una normal."
      ]
    },
    {
      "cell_type": "code",
      "metadata": {
        "id": "H_KD_bAkMqmI",
        "colab_type": "code",
        "colab": {},
        "outputId": "df5addc3-8030-4f77-af7d-dce40f87aab5"
      },
      "source": [
        "# Veamos un entorno de x = 0.6\n",
        "epsilon = 0.05\n",
        "cond = np.abs(t_train - 0.6) < epsilon\n",
        "\n",
        "fig = plt.figure(figsize=(16, 6))\n",
        "ax = fig.add_subplot(121)\n",
        "ax2 = fig.add_subplot(122)\n",
        "ax.plot(t_train, X_train, '.k')\n",
        "ax.axvline(0.6, color='r', ls='-')\n",
        "for sign in (-1, 1):\n",
        "    ax.axvline(0.6 + sign * epsilon, color='r', ls=':')\n",
        "ax2.hist(X_train[cond], 25)\n",
        "\n",
        "ax.set_xlabel('nuevo X')\n",
        "ax.set_ylabel('nuevo T')\n",
        "ax2.set_xlabel('nuevo X')\n"
      ],
      "execution_count": 0,
      "outputs": [
        {
          "output_type": "execute_result",
          "data": {
            "text/plain": [
              "Text(0.5, 0, 'nuevo X')"
            ]
          },
          "metadata": {
            "tags": []
          },
          "execution_count": 243
        },
        {
          "output_type": "display_data",
          "data": {
            "image/png": "[encoded data removed]",
            "text/plain": [
              "<Figure size 1152x432 with 2 Axes>"
            ]
          },
          "metadata": {
            "tags": [],
            "needs_background": "light"
          }
        }
      ]
    },
    {
      "cell_type": "markdown",
      "metadata": {
        "id": "wOofYLeKMqmK",
        "colab_type": "text"
      },
      "source": [
        "Claramente, no podremos ajustar esto con una normal. ¿Alguna idea?\n",
        "\n",
        "...\n",
        "\n",
        "...\n",
        "\n",
        "...\n",
        "\n",
        "¡Sí! ¡Mixturas de Gaussianas! El favorito de todxs.\n",
        "\n",
        "Repasemos..."
      ]
    },
    {
      "cell_type": "markdown",
      "metadata": {
        "id": "OKbTKTlBMqmK",
        "colab_type": "text"
      },
      "source": [
        "***\n",
        "### Presentación del modelo\n",
        "\n",
        "Este ejemplo muestra una de las limitaciones de un modelo normal: solo puede captar distribuciones con un único modo. Una forma de sobreponerse a este problema es usar un modelo que consista en una superposición de $K$ distribuciones normales.\n",
        "\n",
        "$$\n",
        "p(\\mathbf{x}) = \\sum_{k=1}^K \\pi_k{\\mathcal{N}(\\mathbf{x} \\:|\\: \\boldsymbol{\\mu}_k, \\boldsymbol{\\Sigma}_k)}\\;\\;,\n",
        "$$\n",
        "donde cada densidad $\\mathcal{N}(\\mathbf{x} \\:|\\: \\boldsymbol{\\mu}_k, \\boldsymbol{\\Sigma}_k)$ se conoce como una *componente* de la mixtura, y tiene su propio valor medio y matriz de covarianza. Los $\\pi_k$ son los *coeficientes* de mezcla."
      ]
    },
    {
      "cell_type": "markdown",
      "metadata": {
        "id": "HOjgEu2PMqmL",
        "colab_type": "text"
      },
      "source": [
        "__Los coeficientes como probabilidades__\n",
        "\n",
        "Integrando a ambos lados de la igualdad sobre todos los valore de $\\mathbf{x}$ y viendo que tanto $p(\\mathbf{x})$ como las componentes normales son funciones de distribución de probabilidad, llegamos a que\n",
        "\n",
        "$$\n",
        "\\sum_{k=1}^K \\pi_k = 1\\;\\;.\n",
        "$$\n",
        "\n",
        "Además, como $p(\\mathbf{x})$ tienen que ser positiva, encontramos que una forma de garantizar eso de manera general es definir que los coeficientes sean positivos. Por lo tanto, $0 \\leq \\pi_k \\leq 1$, y los coeficientes satisfacen los requerimientos para ser probabilidades.\n",
        "\n",
        "Podemos, entonces, asignar una función de distribución de masa, $p(k)$, que describe la probabilidad (prior) de que se elija la compoenente $k$, y $p(k) = \\pi_k$. Entonces, distribución sobre $\\mathbf{x}$ queda:\n",
        "\n",
        "$$\n",
        "p(\\mathbf{x}) = \\sum_{k=1}^K p(\\mathbf{x}, k) = \\sum_{k=1}^K p(k) p(\\mathbf{x} | k)\\;\\;,\n",
        "$$\n",
        "\n",
        "donde la probabilidad condicionada $p(\\mathbf{x} | k) = \\mathcal{N}(\\mathbf{x} \\:|\\: \\boldsymbol{\\mu}_k, \\boldsymbol{\\Sigma}_k)$."
      ]
    },
    {
      "cell_type": "code",
      "metadata": {
        "id": "z-H2CjfRMqmL",
        "colab_type": "code",
        "colab": {},
        "outputId": "a05e5369-8483-439a-9cd3-7befe26e445e"
      },
      "source": [
        "import scipy.stats as st\n",
        "\n",
        "# Supongamos una distribución unidimensional de dos modos, con los siguientes parámetros\n",
        "mu1 = [0.0,]\n",
        "sigma1 = [2.0,]\n",
        "mu2 = [5.0,]\n",
        "sigma2 = [1.5,]\n",
        "\n",
        "# Generemos las dos distris\n",
        "n1 = st.norm(mu1, sigma1)\n",
        "n2 = st.norm(mu2, sigma2)\n",
        "\n",
        "# Ahora pensemos que tenemos una distribución prior p(k) con las siguientes elementos\n",
        "p1 = 0.65\n",
        "p2 = 0.35\n",
        "\n",
        "# Veamos como podemos generar, fácilmente, muestras de la mixtura:\n",
        "# p1 * N1 + p2 * N2\n",
        "# Primero muestreo p(k)\n",
        "N = 5000\n",
        "k = np.where(np.random.rand(N) < p1, 1, 2)\n",
        "\n",
        "# Y ahora lo combino con las mixturas\n",
        "\n",
        "# Modo 1 (estricto)\n",
        "# x1 = n1.rvs(sum(k==1), 1)\n",
        "# x2 = n2.rvs(sum(k==2), 1)\n",
        "\n",
        "# x = np.hstack([x1, x2])\n",
        "\n",
        "# Modo 2 (generando de más)\n",
        "x1 = n1.rvs(N, 1)\n",
        "x2 = n2.rvs(N, 1)\n",
        "\n",
        "x = np.where(k==1, x1, x2).reshape((-1, 1))\n",
        "\n",
        "h = plt.hist(x, 50, histtype='step', density=True)\n",
        "\n",
        "# Combinemos esto con la pdf del modelo\n",
        "xx = np.linspace(x.min(), x.max(), 400)\n",
        "plt.plot(xx, p1 * n1.pdf(xx) + p2 * n2.pdf(xx), 'r-')"
      ],
      "execution_count": 0,
      "outputs": [
        {
          "output_type": "execute_result",
          "data": {
            "text/plain": [
              "[<matplotlib.lines.Line2D at 0x14bb2a640>]"
            ]
          },
          "metadata": {
            "tags": []
          },
          "execution_count": 246
        },
        {
          "output_type": "display_data",
          "data": {
            "image/png": "[encoded data removed]",
            "text/plain": [
              "<Figure size 432x288 with 1 Axes>"
            ]
          },
          "metadata": {
            "tags": [],
            "needs_background": "light"
          }
        }
      ]
    },
    {
      "cell_type": "markdown",
      "metadata": {
        "id": "qOtk3DTyMqmN",
        "colab_type": "text"
      },
      "source": [
        "__Responsabilidades__\n",
        "\n",
        "Un rol crucial lo van a jugar las posteriores de la probabilidad de cada modo $p(k \\:|\\: \\mathbf{x})$, que se conocen como *responsabilidades* (¡cuánta seriedad!)\n",
        "\n",
        "$$\n",
        "\\gamma_k(\\mathbf{x}) \\equiv p(k \\:|\\: \\mathbf{x})\\;\\;.\n",
        "$$\n",
        "\n",
        "Como es de esperar, podemos calcular la punta que tienen las responsabilidades a partir del teorema de Bayes:\n",
        "\n",
        "$$\n",
        "\\begin{eqnarray}\n",
        "\\gamma_k(\\mathbf{x}) &=& \\frac{p(k) p(\\mathbf{x}\\:|\\:k)}{\\sum_i p(i) p(\\mathbf{x}\\:|\\:i)}\\\\\n",
        "   &=&\\frac{\\pi_k{\\mathcal{N}(\\mathbf{x} \\:|\\: \\boldsymbol{\\mu}_k, \\boldsymbol{\\Sigma}_k)}}{\\sum_i{\\pi_i{\\mathcal{N}(\\mathbf{x} \\:|\\: \\boldsymbol{\\mu}_i, \\boldsymbol{\\Sigma}_i)}}}\\;\\;,\n",
        "\\end{eqnarray}\n",
        "$$\n",
        "donde usamos la definición de arriba\n",
        "$$\n",
        "p(\\mathbf{x}) = \\sum_{k=1}^K \\pi_k{\\mathcal{N}(\\mathbf{x} \\:|\\: \\boldsymbol{\\mu}_k, \\boldsymbol{\\Sigma}_k)}\\;\\;.\n",
        "$$"
      ]
    },
    {
      "cell_type": "markdown",
      "metadata": {
        "id": "r7a3vUQiMqmO",
        "colab_type": "text"
      },
      "source": [
        "__Verosimilitud__ (o Donde arrancan los líos)\n",
        "\n",
        "Naturalmente, necesitaremos poder escribir la verosimilitud para un modelo de este tipo. Como vimos arriba, el problema con las exponenciales de la normal, es que muchas veces generan problemas numéricos.\n",
        "\n",
        "Vamos entonces a escribir el logaritmo de la verosimilitud, como ya hicimos un montón de veces.\n",
        "\n",
        "$$\n",
        "\\ln p(\\mathbf{X} \\:|\\: \\boldsymbol{\\mu}, \\boldsymbol{\\Sigma}, \\boldsymbol{\\pi}) = \\sum_{n=1}^N \\ln \\left\\{\\sum_{k=1}^K \\pi_k{\\mathcal{N}(\\mathbf{x}_n \\:|\\: \\boldsymbol{\\mu}_k, \\boldsymbol{\\Sigma}_k)}\\right\\}\\;\\;,\n",
        "$$\n",
        "donde estamos usando esta notación: $\\boldsymbol{\\mu} \\equiv \\left\\{\\boldsymbol{\\mu}_1, \\ldots, \\boldsymbol{\\mu}_K\\right\\}$, y lo mismo para $\\boldsymbol{\\Sigma}$ y para $\\boldsymbol{\\pi}$. Y como siempre $\\mathbf{X} = \\left\\{\\mathbf{x}_1, \\ldots, \\mathbf{x}_N\\right\\}$.\n",
        "\n",
        "Vemos que el logaritmo actúa sobre la sumatoria y no sobre cada normal de manera individual. Esto hace que sea complicado obtener una forma cerrada para los parámetros que maximizan la verosimilitud. Tenemos que usar un procedimiento iterativo, conocido como el algoritmo de maximización de la expectación, o *expectation maximisation* (EM).\n"
      ]
    },
    {
      "cell_type": "markdown",
      "metadata": {
        "id": "BmU4U_KiMqmO",
        "colab_type": "text"
      },
      "source": [
        "__Un paso más__\n",
        "\n",
        "En el contexto de las redes neuronales, vamos a dar un paso más y permitir a los parámetros de cada componente que cambien con la variable del input, $\\mathbf{x}$.\n",
        "\n",
        "Así, tanto los coeficientes de mezcla, como los vectores $\\boldsymbol{\\mu}$, como la varianza de cada normal (que consideraremos isotrópica para cada $\\mathbf{x}$, se convierten en funciones del input.\n",
        "\n",
        "El modelo pasa de ser una normal con covarianza general:\n",
        "\n",
        "$$\n",
        "p(t|\\mathbf{x}) = \\mathcal{N}(t|y(\\mathbf{x},\\mathbf{w}), \\beta^{-1})\\;\\;.\n",
        "$$\n",
        "\n",
        "a ser una mixtura de normales isotrópicas (si bien la extensión a covarianzas generales es posible):\n",
        "\n",
        "$$\n",
        "p(t | \\mathbf{x}) = \\sum_{k=1}^K \\pi_k(\\mathbf{x}){\\mathcal{N}(t \\:|\\: \\boldsymbol{\\mu}_k(\\mathbf{x}), \\sigma^2_k(\\mathbf{x}))}\\;\\;.\n",
        "$$\n",
        "\n",
        "Esta formulación es un ejemplo de un modelo heterocedastico (wow!); es decir, que la varianza cambia con la variable $x$. "
      ]
    },
    {
      "cell_type": "markdown",
      "metadata": {
        "id": "tR7kjDWnMqmP",
        "colab_type": "text"
      },
      "source": [
        "### Implementación\n",
        "\n",
        "Todo esto es muy lindo, pero ¿cómo se implementa en un modelo de redes neuronales?\n",
        "\n",
        "La idea es generar una red cuyos outputs sean las parámetros del modelo. Para eso, tenemos que usar la API funcional de `Keras`\n",
        "\n",
        "(VER DIAPOS!)\n",
        "\n",
        "**Nota**: Nos inspiramos en el código de https://github.com/oborchers/Medium_Repo\n",
        "\n",
        "[](https://drive.google.com/uc?export=view&id=1-a9oAqcGYPgBoSkg9yTXfzxsu5MBjdA5)\n"
      ]
    },
    {
      "cell_type": "code",
      "metadata": {
        "id": "lfkG2zljMqmQ",
        "colab_type": "code",
        "colab": {}
      },
      "source": [
        "from tensorflow.keras.layers import Input, Dense, Concatenate\n",
        "\n",
        "neurons = 500     # Neurons of the DNN hidden layers\n",
        "components = 3    # Number of components in the mixture\n",
        "no_parameters = 3 # Paramters of the mixture (pi, mu, sigma)\n",
        "\n",
        "input_ = Input(shape=(t_train.shape[1],))\n",
        "\n",
        "# Escribir una o dos capas ocultas\n",
        "h1 = ...\n",
        "h2 = ...\n",
        "\n",
        "# Ahora escribir una capa para cada una de las variables del problema\n",
        "# Coeficientes de mezcla (que tienen que sumar 1)\n",
        "# Valores medios\n",
        "# Anchos de la distribución (que tiene que ser positivos)\n",
        "mixcoeff =  \n",
        "means = \n",
        "sigmas = \n",
        "\n",
        "# Concatenemos las tres capas para dar la capa de salida\n",
        "pvector = Concatenate(name=\"output\")([mixcoeff, means, sigmas])\n",
        "\n",
        "# Y finalmente, generemos el modelo de Keras con todo esto\n",
        "modelMDN = keras.Model(inputs=[input_], outputs=[pvector])"
      ],
      "execution_count": 0,
      "outputs": []
    },
    {
      "cell_type": "code",
      "metadata": {
        "id": "xazyWLQXMqmT",
        "colab_type": "code",
        "colab": {}
      },
      "source": [
        "# Si quisieramos, podemos hacer un subclase de los modelos de Keras\n",
        "class MDN(keras.Model):\n",
        "\n",
        "    def __init__(self, neurons=100, components = 2):\n",
        "        super(MDN, self).__init__(name=\"MDN\")\n",
        "        self.neurons = neurons\n",
        "        self.components = components\n",
        "        \n",
        "        self.h1 = Dense(neurons, activation=\"relu\", name=\"h1\")\n",
        "        self.h2 = Dense(neurons, activation=\"relu\", name=\"h2\")\n",
        "        \n",
        "        self.mixcoeff = Dense(components, activation=\"softmax\", name=\"mix\")\n",
        "        self.means = Dense(components, name=\"means\")\n",
        "        self.sigmas = Dense(components, activation=\"exponential\", name=\"sigmas\")\n",
        "        self.pvec = Concatenate(name=\"pvec\")\n",
        "        \n",
        "    def call(self, inputs):\n",
        "        x = self.h1(inputs)\n",
        "        x = self.h2(x)\n",
        "        \n",
        "        mix_v = self.mixcoeff(x)\n",
        "        mean_v = self.means(x)\n",
        "        sigma_v = self.sigmas(x)\n",
        "        \n",
        "        return self.pvec([alpha_v, mu_v, sigma_v])"
      ],
      "execution_count": 0,
      "outputs": []
    },
    {
      "cell_type": "markdown",
      "metadata": {
        "id": "qBvqs-Gw3m7V",
        "colab_type": "text"
      },
      "source": [
        "¡Bien! Ya tenemos el modelo. Pero eso es solo una parte del problema.\n",
        "\n",
        "¿Qué más falta?\n",
        "\n",
        "---"
      ]
    },
    {
      "cell_type": "code",
      "metadata": {
        "id": "yE78wKwTMqmW",
        "colab_type": "code",
        "colab": {}
      },
      "source": [
        "import tensorflow as tf\n",
        "from tensorflow_probability import distributions as tfd\n",
        "\n",
        "def slice_parameter_vectors(parameter_vector):\n",
        "    \"\"\" Returns an unpacked list of paramter vectors.\n",
        "    \"\"\"\n",
        "    return [parameter_vector[:,i*components:(i+1)*components] for i in range(no_parameters)]\n",
        "\n",
        "def gnll_loss(y, parameter_vector):\n",
        "    \"\"\" Computes the mean negative log-likelihood loss of y given the mixture parameters.\n",
        "    \"\"\"\n",
        "    pi, mu, sigma = slice_parameter_vectors(parameter_vector)  # Unpack parameter vectors\n",
        "    \n",
        "    gm = tfd.MixtureSameFamily(\n",
        "        mixture_distribution=tfd.Categorical(probs=pi),\n",
        "        components_distribution=tfd.Normal(\n",
        "            loc=mu,       \n",
        "            scale=sigma))\n",
        "    \n",
        "    log_likelihood = gm.log_prob(tf.transpose(y))                 # Evaluate log-probability of y\n",
        "    \n",
        "    return -tf.reduce_mean(log_likelihood, axis=-1)"
      ],
      "execution_count": 0,
      "outputs": []
    },
    {
      "cell_type": "markdown",
      "metadata": {
        "id": "ZoV-V-hRMqmY",
        "colab_type": "text"
      },
      "source": [
        "### Compilamos y ajustamos\n",
        "\n",
        "Ahora podemos compilar el código usando esa función de pérdida."
      ]
    },
    {
      "cell_type": "code",
      "metadata": {
        "id": "8RwcyA3VMqmY",
        "colab_type": "code",
        "colab": {}
      },
      "source": [
        "modelMDN.compile(loss=gnll_loss, optimizer=keras.optimizers.Adam(lr=0.002))\n",
        "modelMDN.summary()"
      ],
      "execution_count": 0,
      "outputs": []
    },
    {
      "cell_type": "code",
      "metadata": {
        "id": "CVd18HKRMqma",
        "colab_type": "code",
        "colab": {}
      },
      "source": [
        "keras.utils.plot_model(modelMDN)"
      ],
      "execution_count": 0,
      "outputs": []
    },
    {
      "cell_type": "code",
      "metadata": {
        "id": "2IlHlGMPa0rX",
        "colab_type": "code",
        "colab": {}
      },
      "source": [
        "from tensorflow.keras.callbacks import EarlyStopping\n",
        "\n",
        "# Set up early stopping\n",
        "mon = EarlyStopping(monitor='val_loss', min_delta=0.0, patience=50, verbose=0, \n",
        "                    mode='auto')"
      ],
      "execution_count": 0,
      "outputs": []
    },
    {
      "cell_type": "code",
      "metadata": {
        "id": "iuqTmehXMqmc",
        "colab_type": "code",
        "colab": {}
      },
      "source": [
        "# Ajustemos el modelo. Volvemos a usar early stopping\n",
        "\n",
        "historyNEW = modelMDN.fit(t_train, X_train, epochs=1000, \n",
        "                          validation_data=(t_validation, X_validation), \n",
        "                          verbose=True, batch_size=16, callbacks=[mon,])"
      ],
      "execution_count": 0,
      "outputs": []
    },
    {
      "cell_type": "code",
      "metadata": {
        "id": "cA8mVU2GPAwr",
        "colab_type": "code",
        "colab": {}
      },
      "source": [
        "pd.DataFrame(historyNEW.history).plot()"
      ],
      "execution_count": 0,
      "outputs": []
    },
    {
      "cell_type": "code",
      "metadata": {
        "id": "WZOzOOs0Mqme",
        "colab_type": "code",
        "colab": {}
      },
      "source": [
        "# Veamos los parámetros del resultado\n",
        "\n",
        "fig = plt.figure(figsize=(16, 6))\n",
        "ax = fig.add_subplot(141)\n",
        "ax2 = fig.add_subplot(142)\n",
        "ax3 = fig.add_subplot(143)\n",
        "ax4 = fig.add_subplot(144)\n",
        "\n",
        "# En el primer subplot ponemos los datos.\n",
        "ax.plot(t_train, X_train, '.k')\n",
        "ax.set_xlabel('nuevo X')\n",
        "ax.set_ylabel('nuevo T')\n",
        "\n",
        "# Ahora calculamos la predicción.\n",
        "# En este caso, no tenemos una predicción directa de los datos,\n",
        "# sino los parámetros de la mixtura\n",
        "xx = np.arange(0, 1.001, 0.001)\n",
        "pars = modelMDN.predict(xx)\n",
        "pi, mu, sigma = slice_parameter_vectors(pars)\n",
        "\n",
        "# Podemos calcular el valor medio de la función y ponerla con los datos\n",
        "tmean = np.sum(pi * mu, axis=1)\n",
        "ax.plot(xx, tmean, ',')\n",
        "# ¿Sorprende el resultado?\n",
        "\n",
        "ax2.plot(xx, pi)\n",
        "ax2.set_title('Mixing coefficient')\n",
        "ax3.plot(xx, mu)\n",
        "ax3.set_title('Valor medio')\n",
        "ax4.plot(xx, sigma)\n",
        "ax4.set_title('Varianza')"
      ],
      "execution_count": 0,
      "outputs": []
    },
    {
      "cell_type": "code",
      "metadata": {
        "id": "S_XhneRFMqmg",
        "colab_type": "code",
        "colab": {}
      },
      "source": [
        "# Ahora la posta. \n",
        "# Calculemos la pdf de la distribución condicional, para una serie de valores\n",
        "# de X.\n",
        "import scipy.stats as st\n",
        "\n",
        "# Primero construyo una grilla de valores\n",
        "# uso xx para ambos en este caso porque los valores están todos en [0, 1].\n",
        "x, y = np.meshgrid(xx, xx)\n",
        "\n",
        "# Calcula distribución para cada componente\n",
        "a = np.array([pi[:, i] * st.norm.pdf(y, loc=mu[:, i], scale=sigma[:, i]) for \n",
        "              i in range(pi.shape[1])])\n",
        "\n",
        "# Sumo sobre todas las componentes\n",
        "pdf = np.sum(a, axis=0)"
      ],
      "execution_count": 0,
      "outputs": []
    },
    {
      "cell_type": "code",
      "metadata": {
        "id": "sjBGIfWJYoII",
        "colab_type": "code",
        "colab": {}
      },
      "source": [
        "# La hora de la verdad.\n",
        "xont = plt.contourf(x, y, pdf, 30, cmap='jet')\n",
        "xont = plt.contour(x, y, pdf, 15, colors=['w',], alpha=0.7)\n",
        "plt.colorbar(xont)\n",
        "# plt.plot(t_train, X_train, '.w', mfc='None', alpha=0.4)"
      ],
      "execution_count": 0,
      "outputs": []
    },
    {
      "cell_type": "code",
      "metadata": {
        "id": "APaNqed6YxrF",
        "colab_type": "code",
        "colab": {}
      },
      "source": [
        "# Quedó bueno. Salvémoslo.\n",
        "modelMDN.save('MDN_ok.h')"
      ],
      "execution_count": 0,
      "outputs": []
    },
    {
      "cell_type": "code",
      "metadata": {
        "id": "0zpDNMx45U_y",
        "colab_type": "code",
        "colab": {}
      },
      "source": [
        "import matplotlib.pyplot as plt\n",
        "# Usemos el resultado de arriba para plotear la función condicionada para algunos\n",
        "# valores de x\n",
        "xs = [0.2, 0.5, 0.7]\n",
        "\n",
        "fig = plt.figure(figsize=(16,9))\n",
        "\n",
        "for i, xi in enumerate(xs):\n",
        "  ax = fig.add_subplot(1, len(xs), i+1)\n",
        "  ax.plot(xx, pdf[xx==xi, :])\n",
        "  ax.set_title('p(t | x={}'.format(xi))\n"
      ],
      "execution_count": 0,
      "outputs": []
    },
    {
      "cell_type": "code",
      "metadata": {
        "id": "wan2y0Wv6NZc",
        "colab_type": "code",
        "colab": {}
      },
      "source": [
        ""
      ],
      "execution_count": 0,
      "outputs": []
    }
  ]
}