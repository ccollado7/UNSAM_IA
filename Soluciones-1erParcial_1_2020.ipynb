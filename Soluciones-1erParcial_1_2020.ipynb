{
 "cells": [
  {
   "cell_type": "code",
   "execution_count": 1,
   "metadata": {},
   "outputs": [],
   "source": [
    "import numpy as np\n",
    "import pandas as pd\n",
    "import matplotlib.pyplot as plt\n",
    "\n",
    "%matplotlib inline"
   ]
  },
  {
   "cell_type": "markdown",
   "metadata": {},
   "source": [
    "### Ejercicio 1\n",
    "\n",
    "Se tienen dos monedas honestas (no cargadas; es decir, que el 50% de las veces sacan cara). Además, son perfectamente indistinguibles. Ambas monedas se arrojan simultaneamente."
   ]
  },
  {
   "cell_type": "markdown",
   "metadata": {},
   "source": [
    "**a.** ¿Cuál es el espacio de muestreo del experimento de arrojar ambas monedas simultaneamente? (¡Atención! Son _perfectamente_ indistinguibles)."
   ]
  },
  {
   "cell_type": "markdown",
   "metadata": {},
   "source": [
    "Las dos cara, las dos seca, o una cara y una seca."
   ]
  },
  {
   "cell_type": "markdown",
   "metadata": {},
   "source": [
    "**b.** ¿Cuál es la probabilidad de cada una de los elementos del espacio de muestreo? Justifique."
   ]
  },
  {
   "cell_type": "markdown",
   "metadata": {},
   "source": [
    "En el mismo orden que antes: [0.25, 0.25, 0.5].\n",
    "\n",
    "Como los eventos son independientes $p(X1 \\wedge X2) = p(X1) * p(X2)$. \n",
    "\n",
    "Como son monedas fair $p(1)=p(0)=0.5$. \n",
    "\n",
    "Entonces $p(1 \\wedge 1) =  p(0\\wedge 0) = 0.5^2 = 0.25$ y $p(0 \\wedge 1) = p (1 \\wedge 0) = 0.5^2 = 0.25$. \n",
    "\n",
    "Los como las monedas  son indistinguibles, los dos ultimos casos forman parte del mismo evento: Una cara y una seca, por la regla de la suma la probabilidad de este evento será $0.25 +0.25 = 0.5$."
   ]
  },
  {
   "cell_type": "markdown",
   "metadata": {},
   "source": [
    "**c.** Considerando el resultado de los puntos anteriores, ¿qué distribución de probabilidad permite calcular el número de veces (*k*) que sale cara en ambas monedas en una serie de 10 experimentos? ¿Qué parámetros tienen en este experimento en particular?"
   ]
  },
  {
   "cell_type": "markdown",
   "metadata": {},
   "source": [
    "Una binomial, con parametros prob = 0.25 y N de tiradas =10, es decir $\\mathcal{B}(10,0.25)$"
   ]
  },
  {
   "cell_type": "markdown",
   "metadata": {},
   "source": [
    "**d.** En la misma serie de 10 experimentos, \n",
    "\n",
    "* *i.* ¿cuál es la probabilidad de obtener al menos 2 veces cara en ambas monedas? \n",
    "\n",
    "* *ii.* ¿Y la de obtener _exactamente_ 2 veces cara en ambas monedas? \n",
    "\n",
    "* *iii.* ¿Cuál es la probabilidad de obtener cara en una moneda y seca en la otra en más de 5 tiradas?\n",
    "\n",
    "Escribir el código para hacer el cálculo en la celda de abajo. Comentar como parezca necesario.\n",
    "(*Ayuda*: use la implementación en el paquete <tt>scipy.stats</tt>)."
   ]
  },
  {
   "cell_type": "code",
   "execution_count": 2,
   "metadata": {},
   "outputs": [
    {
     "name": "stdout",
     "output_type": "stream",
     "text": [
      "i) 0.7559747695922857\n",
      "ii) 0.28156757354736334\n",
      "iii) 0.37695312500000033\n"
     ]
    }
   ],
   "source": [
    "from scipy.stats import binom\n",
    "\n",
    "k=list(range(11))\n",
    "\n",
    "print(\"i) {}\".format(np.sum(binom(10,0.25).pmf(k)[2:])))\n",
    "print(\"ii) {}\".format(binom(10,0.25).pmf(k)[2]))\n",
    "print(\"iii) {}\".format(np.sum(binom(10,0.50).pmf(k)[6:])))"
   ]
  },
  {
   "cell_type": "markdown",
   "metadata": {},
   "source": [
    "**e.** Graficar la función de distribución del número de éxitos (dos caras) para la serie de 10 experimentos."
   ]
  },
  {
   "cell_type": "code",
   "execution_count": 3,
   "metadata": {},
   "outputs": [
    {
     "data": {
      "image/png": "[encoded data removed]",
      "text/plain": [
       "<Figure size 432x288 with 1 Axes>"
      ]
     },
     "metadata": {
      "needs_background": "light"
     },
     "output_type": "display_data"
    }
   ],
   "source": [
    "k=list(range(11))\n",
    "plt.plot(k,binom(10,0.25).pmf(k))\n",
    "plt.xlabel('k: Numero de éxitos (dos caras)')\n",
    "plt.ylabel('P(k)')\n",
    "plt.show()"
   ]
  },
  {
   "cell_type": "markdown",
   "metadata": {},
   "source": [
    "****\n",
    "\n",
    "### Ejercicio 2\n",
    "\n",
    "Es un dia normal del laboratorio, cuando revisando el depósito de muestras encuentras una caja de dos mil capacitores, la cual perdió su etiqueta. Preguntando a los colegas, te dicen que siempre los clasificaron según su capacitancia en tres categorías $C_1 = 50nF$ ,$C_2=80nF$ y $C_3=110nF$, con una desviación estándar característica de $\\sigma=10nF$ igual para las tres. \n",
    "\n",
    "Determinado a no desperdiciar los dos mil capacitores, medís diez de ellos en tu tiempo libre encontrando los siguientes valores:\n",
    "$$X = \\{110.6,  99.3,  82.5, 100.1, 90.1,  83.3,  99.8, 101.9, 78.4,  97.3\\}$$\n",
    "\n",
    "**a.** Modelando la distribucion de probabilidad de la capacitancia de un capacitor de la categoria $i$ como $\\mathcal{N} (\\mu=C_i, \\sigma=10nF)$, y sin dar preferencia a ninguna de las tres, encuentre a qué categoría pertenece la caja hallada. Para esto\n",
    "* *i*. Escriba la verosimilitud de obtener las mediciones $X$ dada cada categoría $i=1,2,3$, y el prior sobre las 3 categorías. Justifique su elección.\n",
    "\n",
    "* *ii*. Calcule el posterior y a partir de él diga a cual categoría infiere que la caja pertenece, y con qué confianza asegura esto."
   ]
  },
  {
   "cell_type": "code",
   "execution_count": 4,
   "metadata": {},
   "outputs": [],
   "source": [
    "X = np.array([110.6, 99.3, 82.5, 100.1, 90.1, 83.3, 99.8, 101.9, 78.4, 97.3])"
   ]
  },
  {
   "cell_type": "markdown",
   "metadata": {},
   "source": [
    "Cada categoría tiene una distribución normal de capacitancias de sus capacitores. Por lo tanto, $P(X | i) = \\mathcal{N}(X, \\mu=C_i, \\sigma=10nF)$. El prior sobre las categorías $i$ es uniforme, para no dar preferencia a ninguna, es decir $P_i = 1/3$ para las tres categorías. El teorema de bayes se escribe como \n",
    "$$ P(i| X) = \\frac{P(X|i) P_i}{P(X)} \\propto \\mathcal{N}(X, C_i, \\sigma) \\frac{1}{3} \\propto \\prod_{x\\in X}\\mathcal{N}(x, C_i, \\sigma)$$\n",
    "Como las mediciones son independientes, la normal sobre $X$ es el producto de las normales sobre cada $x\\in X$."
   ]
  },
  {
   "cell_type": "code",
   "execution_count": 5,
   "metadata": {},
   "outputs": [
    {
     "name": "stdout",
     "output_type": "stream",
     "text": [
      " P(1|X) = 0.00 %\n",
      " P(2|X) = 88.18 %\n",
      " P(3|X) = 11.82 %\n",
      "\n"
     ]
    },
    {
     "data": {
      "image/png": "[encoded data removed]",
      "text/plain": [
       "<Figure size 432x288 with 1 Axes>"
      ]
     },
     "metadata": {
      "needs_background": "light"
     },
     "output_type": "display_data"
    }
   ],
   "source": [
    "from scipy.stats import norm\n",
    "sigma=10\n",
    "C = [50,80,110]\n",
    "verosimilitud = np.array([ norm(loc=C[i], scale=sigma).pdf(X).prod() for i in range(3)])\n",
    "prior = 1/3\n",
    "evidencia = (prior*verosimilitud).sum()\n",
    "posterior = verosimilitud*prior/evidencia\n",
    "\n",
    "plt.bar(C,posterior,width=30)\n",
    "plt.xticks(C,[\"$C_1$\", \"$C_2$\", \"$C_3$\"])\n",
    "plt.ylabel('$P(i | X)$')\n",
    "print(\" P(1|X) = {:.2f} %\\n P(2|X) = {:.2f} %\\n P(3|X) = {:.2f} %\\n\".format((posterior*100)[0],(posterior*100)[1],(posterior*100)[2]))"
   ]
  },
  {
   "cell_type": "markdown",
   "metadata": {},
   "source": [
    "Concluyo que las muestras pertenecen a la segunda categoría con un 88% de confianza, mientras que tengo un 12% de confianza en que pertenezcan a la tercera."
   ]
  },
  {
   "cell_type": "markdown",
   "metadata": {},
   "source": [
    "**b.** A raíz de una discrepancia en el laboratorio sobre la existencia de una antigua cuarta categoría, ahora en desuso, de capacitancia media $C_4$ desconocida, te propones inferir a partir de tus mediciones la capacitancia  media $C_{D}$ de la categoría a la cual pertenecen (es decir, modelando la distribución de capacitancias como  $N(\\mu=C_D, \\sigma=10nF)$ te propones inferir $C_D$). \n",
    " \n",
    "\n",
    "* *i*. Calcule la distribucion posterior de capacitancias medias $C_D$ sin asumir ahora que existen unicamente las tres categorias analizadas en el item a). Para eso, utilice el hecho de que el prior conjugado sobre $C_D$ de una verosimlitud normal de media $C_D$ es también la distribución normal. Implemente como prior una normal centrada en $80.0$  con desviación estándar $40.0$. (*Puede realizar este cálculo tanto analíticamente como numéricamente*)\n",
    "\n",
    "* *ii*. Grafique el posterior y diga qué concluye a partir de este. Calcule la probabilidad de que $C_D \\in [90,100]$."
   ]
  },
  {
   "cell_type": "code",
   "execution_count": 6,
   "metadata": {},
   "outputs": [
    {
     "data": {
      "image/png": "[encoded data removed]",
      "text/plain": [
       "<Figure size 432x288 with 1 Axes>"
      ]
     },
     "metadata": {
      "needs_background": "light"
     },
     "output_type": "display_data"
    },
    {
     "name": "stdout",
     "output_type": "stream",
     "text": [
      "P(C_D \\in [90,100]) = 88.09%\n"
     ]
    }
   ],
   "source": [
    "#analiticamente\n",
    "mu0=80\n",
    "sigma0=40\n",
    "sigma=10\n",
    "\n",
    "sigmap = np.sqrt(1 / (1/sigma0**2 + len(X)/sigma**2))\n",
    "mup = (mu0/sigma0**2 + X.sum()/sigma**2) / (1/sigma0**2 + len(X)/sigma**2)\n",
    "\n",
    "mu=np.linspace(0,200,200)\n",
    "posterior=norm(mup,sigmap).pdf(mu)\n",
    "plt.plot(mu, posterior, label='posterior', c='red')\n",
    "plt.axvline(C[0],linestyle=':', label='$C_1$', c='black')\n",
    "plt.axvline(C[1],linestyle='-.', label='$C_2$', c='black')\n",
    "plt.axvline(C[2],linestyle='--' , label='$C_3$', c='black')\n",
    "plt.legend()\n",
    "plt.xlabel('$C_D$')\n",
    "plt.ylabel('$P(C_D | X)$')\n",
    "plt.show()\n",
    "\n",
    "print(\"P(C_D \\in [90,100]) = {:.2f}%\".format(posterior[(mu >=90)*(mu<=100)].sum()*100*(mu[1]-mu[0])))"
   ]
  },
  {
   "cell_type": "code",
   "execution_count": 7,
   "metadata": {
    "scrolled": true
   },
   "outputs": [
    {
     "data": {
      "image/png": "[encoded data removed]",
      "text/plain": [
       "<Figure size 432x288 with 1 Axes>"
      ]
     },
     "metadata": {
      "needs_background": "light"
     },
     "output_type": "display_data"
    },
    {
     "name": "stdout",
     "output_type": "stream",
     "text": [
      "P(C_D \\in [90,100]) = 88.09%\n"
     ]
    }
   ],
   "source": [
    "#numericamente\n",
    "mu=np.linspace(0,200,200)\n",
    "sigma=10\n",
    "posteriors=[]\n",
    "posteriors.append( norm(80,40).pdf(mu) )\n",
    "\n",
    "for x in X:\n",
    "    prior = posteriors[-1]\n",
    "    verosimilitud = norm(mu,sigma).pdf(x)\n",
    "    posterior = prior*verosimilitud\n",
    "    evidencia = posterior.sum()*(mu[1]-mu[0])\n",
    "    posterior/=evidencia\n",
    "    posteriors.append(posterior)\n",
    "\n",
    "plt.plot(mu, posterior, label='posterior', c='red')\n",
    "plt.axvline(C[0],linestyle=':', label='$C_1$', c='black')\n",
    "plt.axvline(C[1],linestyle='-.', label='$C_2$', c='black')\n",
    "plt.axvline(C[2],linestyle='--' , label='$C_3$', c='black')\n",
    "plt.legend()\n",
    "plt.xlabel('$C_D$')\n",
    "plt.ylabel('$P(C_D | X)$')\n",
    "plt.show()\n",
    "\n",
    "print(\"P(C_D \\in [90,100]) = {:.2f}%\".format(posterior[(mu >=90)*(mu<=100)].sum()*100*(mu[1]-mu[0])))"
   ]
  },
  {
   "cell_type": "markdown",
   "metadata": {},
   "source": [
    "Concluimos, por la simetría que tiene entre las categorías 2 y 3, que probablemente sea una nueva categoría con $C_D= 95nF$, o sino una mezcla entre las categorías 2 y 3. "
   ]
  },
  {
   "cell_type": "markdown",
   "metadata": {},
   "source": [
    "****\n",
    "\n",
    "### Ejercicio 3\n",
    "\n",
    "Se tiene una serie de datos sobre la relación entre el precio de un commodity y la estupidez de algún lider internacional. Esto último, se mide con un \"índice de estupidez\" que va entre cero y uno.\n",
    "Un grupo de expertxs decide modelar esta relación para adelantarse ante un posible aumento inesperado de la estupidez del líder.\n",
    "\n",
    "Después de cuatro horas de deliberación, lxs expertxs deciden utilizar un *modelo lineal con funciones de base polinomiales* para ajustar los datos. Pero no logran decidirse sobre el orden del polinomio a utilizar. Ud. puede ayudarlxs."
   ]
  },
  {
   "cell_type": "code",
   "execution_count": null,
   "metadata": {},
   "outputs": [],
   "source": [
    "# Corran esta celda solo si están en Colab y no subieron los datos a mano\n",
    "!wget https://raw.githubusercontent.com/exord/UNSAM_IA/master/datasets/price_vs_stupidity.csv"
   ]
  },
  {
   "cell_type": "code",
   "execution_count": 8,
   "metadata": {},
   "outputs": [
    {
     "data": {
      "text/html": [
       "<div>\n",
       "<style scoped>\n",
       "    .dataframe tbody tr th:only-of-type {\n",
       "        vertical-align: middle;\n",
       "    }\n",
       "\n",
       "    .dataframe tbody tr th {\n",
       "        vertical-align: top;\n",
       "    }\n",
       "\n",
       "    .dataframe thead th {\n",
       "        text-align: right;\n",
       "    }\n",
       "</style>\n",
       "<table border=\"1\" class=\"dataframe\">\n",
       "  <thead>\n",
       "    <tr style=\"text-align: right;\">\n",
       "      <th></th>\n",
       "      <th>stupidity_index</th>\n",
       "      <th>commodity_price</th>\n",
       "    </tr>\n",
       "  </thead>\n",
       "  <tbody>\n",
       "    <tr>\n",
       "      <th>0</th>\n",
       "      <td>0.588476</td>\n",
       "      <td>4.803550</td>\n",
       "    </tr>\n",
       "    <tr>\n",
       "      <th>1</th>\n",
       "      <td>0.290299</td>\n",
       "      <td>5.635355</td>\n",
       "    </tr>\n",
       "    <tr>\n",
       "      <th>2</th>\n",
       "      <td>0.654555</td>\n",
       "      <td>4.285732</td>\n",
       "    </tr>\n",
       "    <tr>\n",
       "      <th>3</th>\n",
       "      <td>0.489105</td>\n",
       "      <td>5.244887</td>\n",
       "    </tr>\n",
       "    <tr>\n",
       "      <th>4</th>\n",
       "      <td>0.783530</td>\n",
       "      <td>3.215176</td>\n",
       "    </tr>\n",
       "  </tbody>\n",
       "</table>\n",
       "</div>"
      ],
      "text/plain": [
       "   stupidity_index  commodity_price\n",
       "0         0.588476         4.803550\n",
       "1         0.290299         5.635355\n",
       "2         0.654555         4.285732\n",
       "3         0.489105         5.244887\n",
       "4         0.783530         3.215176"
      ]
     },
     "execution_count": 8,
     "metadata": {},
     "output_type": "execute_result"
    }
   ],
   "source": [
    "# Corran esta celda para leer los datos.\n",
    "df = pd.read_csv('price_vs_stupidity.csv')\n",
    "df.head()"
   ]
  },
  {
   "cell_type": "markdown",
   "metadata": {},
   "source": [
    "**a.** Grafique los datos. (*Ayuda*: use las clases de <tt>matplotlib.pyplot</tt> o los métodos del <tt>DataFrame</tt> de <tt>pandas</tt>)."
   ]
  },
  {
   "cell_type": "code",
   "execution_count": 9,
   "metadata": {},
   "outputs": [
    {
     "data": {
      "image/png": "[encoded data removed]",
      "text/plain": [
       "<Figure size 432x288 with 1 Axes>"
      ]
     },
     "metadata": {
      "needs_background": "light"
     },
     "output_type": "display_data"
    }
   ],
   "source": [
    "df.plot(x='stupidity_index', y='commodity_price',kind='scatter')\n",
    "plt.show()"
   ]
  },
  {
   "cell_type": "markdown",
   "metadata": {},
   "source": [
    "**b.** Separe 20% de los datos para usar como conjunto de testeo. Los datos están repartidos de forma aleatoria.\n",
    "A partir de este punto, trabaje solamente con el conjunto de entrenamiento."
   ]
  },
  {
   "cell_type": "code",
   "execution_count": 10,
   "metadata": {},
   "outputs": [],
   "source": [
    "datos = df.to_numpy()\n",
    "n = int(0.8*len(datos))\n",
    "X_train= datos[:int(n),0]\n",
    "Y_train= datos[:int(n),1]\n",
    "\n",
    "X_test= datos[int(n):,0]\n",
    "Y_test= datos[int(n):,1]"
   ]
  },
  {
   "cell_type": "markdown",
   "metadata": {},
   "source": [
    "**c.** El jefe del grupo de los expertos cree que el mejor modelo es un polinomio de grado dos. Dele el gusto:\n",
    "\n",
    "* *i.* Encuentre los parámetros de este modelo. Calcule el error cuadrático medio.\n",
    "\n",
    "* *ii.* Grafique sobre los datos la predicción del modelo."
   ]
  },
  {
   "cell_type": "code",
   "execution_count": 11,
   "metadata": {},
   "outputs": [
    {
     "name": "stdout",
     "output_type": "stream",
     "text": [
      "Modelo del Jefe:\n",
      "---------------\n",
      "Parámetros:\n",
      "w0 = 5.654385176430463\n",
      "w1 = 2.830150192425207\n",
      "w2 = -8.02528117657531\n",
      "RMSQ esperado: 0.30429\n"
     ]
    },
    {
     "data": {
      "image/png": "[encoded data removed]",
      "text/plain": [
       "<Figure size 432x288 with 1 Axes>"
      ]
     },
     "metadata": {
      "needs_background": "light"
     },
     "output_type": "display_data"
    }
   ],
   "source": [
    "from sklearn.linear_model import LinearRegression\n",
    "import sklearn.preprocessing as pp\n",
    "from sklearn.pipeline import Pipeline\n",
    "from sklearn.model_selection import cross_val_score\n",
    "\n",
    "print(\"Modelo del Jefe:\\n\"+15*'-')\n",
    "\n",
    "model_jefe = Pipeline([\n",
    "    ('poly', pp.PolynomialFeatures(degree=2)),\n",
    "    ('regresion', LinearRegression())\n",
    "])\n",
    "\n",
    "\n",
    "model_jefe.fit(X_train.reshape(-1,1), Y_train)\n",
    "pred = model_jefe.predict(X_train.reshape(-1,1))\n",
    "\n",
    "intercept = model_jefe.named_steps['regresion'].intercept_\n",
    "weights = model_jefe.named_steps['regresion'].coef_\n",
    "print(\"Parámetros:\\nw0 = {}\\nw1 = {}\\nw2 = {}\".format(intercept,weights[1], weights[2]))\n",
    "print(\"RMSQ esperado: {:.5f}\".format(-np.mean(cross_val_score(model_jefe,X_train.reshape(-1,1),Y_train, scoring='neg_root_mean_squared_error'))))\n",
    "\n",
    "plt.scatter(X_train,Y_train, label='true')\n",
    "plt.scatter(X_train,pred, label='predicted')\n",
    "plt.xlabel('Stupidity')\n",
    "plt.ylabel('Commodity Price')\n",
    "plt.legend()\n",
    "plt.show()"
   ]
  },
  {
   "cell_type": "markdown",
   "metadata": {},
   "source": [
    "**d.** ¿Qué método usaría para encontrar el órden óptimo del ajuste polinomial? Justifique. "
   ]
  },
  {
   "cell_type": "markdown",
   "metadata": {},
   "source": [
    "Validación cruzada en el training set, usando k-folding, para calcular la performance esperada de cada modelo. Con ello comparar y elegir la que de mejor score."
   ]
  },
  {
   "cell_type": "markdown",
   "metadata": {},
   "source": [
    "**e.** Use el método descripto arriba para encontrar el mejor orden polinomial. Haga un gráfico que justifique su elección (RMSE vs. orden del polinomio, por ejemplo). Grafique la predicción del modelo óptimo sobre los datos. (*Ayuda (obvia)*: use las funciones del paquete <tt>sklearn.model_selection</tt>). "
   ]
  },
  {
   "cell_type": "code",
   "execution_count": 12,
   "metadata": {},
   "outputs": [
    {
     "data": {
      "image/png": "[encoded data removed]",
      "text/plain": [
       "<Figure size 432x288 with 1 Axes>"
      ]
     },
     "metadata": {
      "needs_background": "light"
     },
     "output_type": "display_data"
    },
    {
     "data": {
      "image/png": "[encoded data removed]",
      "text/plain": [
       "<Figure size 432x288 with 1 Axes>"
      ]
     },
     "metadata": {
      "needs_background": "light"
     },
     "output_type": "display_data"
    },
    {
     "name": "stdout",
     "output_type": "stream",
     "text": [
      "El mejor modelo es el polinomio de grado: 3\n",
      "Con RMSQ esperado: 0.26034\n"
     ]
    }
   ],
   "source": [
    "mean_score=[]\n",
    "std_score=[]\n",
    "for M in range(1,10):\n",
    "    model_poly = Pipeline([\n",
    "        ('poly', pp.PolynomialFeatures(degree=M)),\n",
    "        ('regresion', LinearRegression())\n",
    "    ])\n",
    "    score=cross_val_score(model_poly, X_train.reshape(-1,1), Y_train, scoring='neg_root_mean_squared_error')\n",
    "    mean_score.append(-score.mean())\n",
    "    std_score.append(score.std())\n",
    "\n",
    "plt.errorbar(range(1,10),mean_score,std_score)\n",
    "plt.xlabel('Grado del polinomio')\n",
    "plt.ylabel('RMSE esperado')\n",
    "plt.show()\n",
    "#Sin errores quizas se ve mejor\n",
    "plt.plot(range(1,10),mean_score)\n",
    "plt.xlabel('Grado del polinomio')\n",
    "plt.ylabel('RMSE esperado')\n",
    "plt.show()\n",
    "print(\"El mejor modelo es el polinomio de grado: {}\".format(np.argmin(mean_score)+1))\n",
    "print(\"Con RMSQ esperado: {:.5f}\".format(np.min(mean_score)))\n"
   ]
  },
  {
   "cell_type": "code",
   "execution_count": 14,
   "metadata": {},
   "outputs": [
    {
     "name": "stdout",
     "output_type": "stream",
     "text": [
      "mínimo RMSQ esperado: 0.26034\n",
      "Para hiperparámetros {'poly__degree': 3}\n"
     ]
    },
    {
     "data": {
      "image/png": "[encoded data removed]",
      "text/plain": [
       "<Figure size 432x288 with 1 Axes>"
      ]
     },
     "metadata": {
      "needs_background": "light"
     },
     "output_type": "display_data"
    }
   ],
   "source": [
    "#Aca va lo mismo, usando GridSearchCV para que lo miren\n",
    "from sklearn.model_selection import GridSearchCV\n",
    "\n",
    "model_poly = Pipeline([\n",
    "    ('poly', pp.PolynomialFeatures()),\n",
    "    ('regresion', LinearRegression())\n",
    "])\n",
    "\n",
    "param_grid = {\n",
    "    'poly__degree': [1,2,3,4,5,6,7,8,9,10],\n",
    "}\n",
    "\n",
    "search = GridSearchCV(model_poly, param_grid, scoring='neg_root_mean_squared_error')\n",
    "search.fit(X_train.reshape(-1,1), Y_train)\n",
    "\n",
    "\n",
    "print(\"mínimo RMSQ esperado: {:.5f}\".format(-search.best_score_))\n",
    "print(\"Para hiperparámetros {}\".format(search.best_params_))\n",
    "\n",
    "pred = search.predict(X_train.reshape(-1,1))\n",
    "plt.scatter(X_train,Y_train, label='true')\n",
    "plt.scatter(X_train,pred, label='predicted')\n",
    "plt.xlabel('Stupidity')\n",
    "plt.ylabel('Commodity Price')\n",
    "plt.legend()\n",
    "plt.show()"
   ]
  },
  {
   "cell_type": "markdown",
   "metadata": {},
   "source": [
    "**f.** Implemente un modelo más complejo y use alguna técnica de regularización. Use validación cruzada para encontrar el valor del parámetro de regularización. Grafique la predicción del modelo sobre los datos."
   ]
  },
  {
   "cell_type": "code",
   "execution_count": 15,
   "metadata": {},
   "outputs": [
    {
     "name": "stdout",
     "output_type": "stream",
     "text": [
      "mínimo RMSQ esperado: 0.23744\n",
      "Para hiperparámetros {'poly__degree': 10, 'regresion__alpha': 0.016681005372000592}\n"
     ]
    },
    {
     "data": {
      "image/png": "[encoded data removed]",
      "text/plain": [
       "<Figure size 432x288 with 1 Axes>"
      ]
     },
     "metadata": {
      "needs_background": "light"
     },
     "output_type": "display_data"
    }
   ],
   "source": [
    "from sklearn.linear_model import Ridge\n",
    "\n",
    "model_poly = Pipeline([\n",
    "    ('poly', pp.PolynomialFeatures()),\n",
    "    ('regresion', Ridge())\n",
    "])\n",
    "\n",
    "param_grid = {\n",
    "    'poly__degree': range(20),\n",
    "    'regresion__alpha': np.logspace(-2,0,10),\n",
    "}\n",
    "\n",
    "search = GridSearchCV(model_poly, param_grid, scoring='neg_root_mean_squared_error')\n",
    "search.fit(X_train.reshape(-1,1), Y_train)\n",
    "\n",
    "\n",
    "print(\"mínimo RMSQ esperado: {:.5f}\".format(-search.best_score_))\n",
    "print(\"Para hiperparámetros {}\".format(search.best_params_))\n",
    "\n",
    "pred = search.predict(X_train.reshape(-1,1))\n",
    "plt.scatter(X_train,Y_train, label='true')\n",
    "plt.scatter(X_train,pred, label='predicted')\n",
    "plt.xlabel('Stupidity')\n",
    "plt.ylabel('Commodity Price')\n",
    "plt.legend()\n",
    "plt.show()"
   ]
  },
  {
   "cell_type": "markdown",
   "metadata": {},
   "source": [
    "**g.** Calcule la performance sobre el conjunto de test. Calcule la predicción para el modelo óptimo para un índice de estupidez 1.1."
   ]
  },
  {
   "cell_type": "code",
   "execution_count": 16,
   "metadata": {},
   "outputs": [
    {
     "data": {
      "image/png": "[encoded data removed]",
      "text/plain": [
       "<Figure size 432x288 with 1 Axes>"
      ]
     },
     "metadata": {
      "needs_background": "light"
     },
     "output_type": "display_data"
    },
    {
     "name": "stdout",
     "output_type": "stream",
     "text": [
      "RMSQ en el Test set: 0.08335\n",
      "\n",
      "Predicción para stupidity = 1.1 : [-0.65869484]\n"
     ]
    }
   ],
   "source": [
    "#El modelo polinomico de grado 10 con regularizacion calculado recien fue el mejor modelo\n",
    "#con un RMSE esperado de 0.24 (en comparacion a 0.26 para una cubica o 0.30 para la cuadratica)\n",
    "from sklearn.metrics import mean_squared_error\n",
    "\n",
    "best_model = Pipeline([\n",
    "    ('poly', pp.PolynomialFeatures(degree=10)),\n",
    "    ('regresion', Ridge(alpha=0.016681005372000592))\n",
    "])\n",
    "best_model.fit(X_train.reshape(-1,1),Y_train)\n",
    "pred = best_model.predict(X_test.reshape(-1,1))\n",
    "\n",
    "plt.scatter(X_test,Y_test, label='true')\n",
    "plt.scatter(X_test,pred, label='predicted')\n",
    "plt.xlabel('Stupidity')\n",
    "plt.ylabel('Commodity Price')\n",
    "plt.legend()\n",
    "plt.show()\n",
    "print(\"RMSQ en el Test set: {:.5f}\".format(mean_squared_error(Y_test,pred)))\n",
    "\n",
    "print(\"\\nPredicción para stupidity = 1.1 : {}\".format(best_model.predict([[1.1]])))"
   ]
  }
 ],
 "metadata": {
  "kernelspec": {
   "display_name": "Python 3",
   "language": "python",
   "name": "python3"
  },
  "language_info": {
   "codemirror_mode": {
    "name": "ipython",
    "version": 3
   },
   "file_extension": ".py",
   "mimetype": "text/x-python",
   "name": "python",
   "nbconvert_exporter": "python",
   "pygments_lexer": "ipython3",
   "version": "3.7.6"
  }
 },
 "nbformat": 4,
 "nbformat_minor": 2
}
