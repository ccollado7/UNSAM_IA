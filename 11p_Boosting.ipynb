{
  "nbformat": 4,
  "nbformat_minor": 0,
  "metadata": {
    "colab": {
      "name": "11p_Boosting",
      "provenance": [],
      "collapsed_sections": []
    },
    "kernelspec": {
      "name": "python3",
      "display_name": "Python 3"
    }
  },
  "cells": [
    {
      "cell_type": "code",
      "metadata": {
        "id": "MGs9_54T5oeh",
        "colab_type": "code",
        "colab": {}
      },
      "source": [
        "import matplotlib\n",
        "import matplotlib.pyplot as plt\n",
        "from matplotlib.colors import ListedColormap\n",
        "cmap = matplotlib.cm.get_cmap('Spectral')\n",
        "\n",
        "import numpy as np\n",
        "\n",
        "from sklearn.pipeline import Pipeline\n",
        "from sklearn.preprocessing import StandardScaler\n",
        "\n",
        "from sklearn.tree import DecisionTreeClassifier, DecisionTreeRegressor\n",
        "from sklearn.svm import SVC\n",
        "from sklearn.ensemble import BaggingClassifier, RandomForestClassifier, AdaBoostClassifier,AdaBoostRegressor"
      ],
      "execution_count": 0,
      "outputs": []
    },
    {
      "cell_type": "markdown",
      "metadata": {
        "id": "NR_k-irK5_D1",
        "colab_type": "text"
      },
      "source": [
        "# Ejemplo de Boosting y Feature Selection\n",
        "\n",
        "Vamos a tratar de ver alguna aplicacion de lo visto la clase pasada. Para eso, implementaremos un algoritmo de Boosting. En particular, voy a aprovechar para bucear un poco en otras cosas."
      ]
    },
    {
      "cell_type": "markdown",
      "metadata": {
        "id": "U1vpGO_w_Ul1",
        "colab_type": "text"
      },
      "source": [
        "# El problema:\n",
        "\n",
        "En esta cuarentena, yo estoy con abstinencia de deportes. En particular, me cortaron la temporada de NBA. Con mi grupo de adictos, empezamos a charlar para matar el tiempo y me surgio una pregunta. ~Puedo hablar de basquet en vez de trabajar?~ Puedo mentir con seguridad sobre las estadisticas que leo en los articulos?\n",
        "\n",
        "Para eso, me puse a explorar un poco. En primer lugar, necesito datos. Para eso, recurro a una pagina llamada basketballreference.com donde se almacenan todos los datos posibles. Para hacer las cosas mas simples, me voy a limitar a una unica temporada, en la que los roles posicionales son mas o menos los mismos en la liga (salvo en Houston) y no tengo jugadores repetidos (salvo los que fueron transferidos, pero ahora mismo no me interesa ser demasiado cauto en el procesado)."
      ]
    },
    {
      "cell_type": "code",
      "metadata": {
        "id": "qbPWuJSJ6hnV",
        "colab_type": "code",
        "colab": {}
      },
      "source": [
        "from urllib.request import urlopen\n",
        "from bs4 import BeautifulSoup\n",
        "import pandas as pd\n",
        "import numpy as np"
      ],
      "execution_count": 0,
      "outputs": []
    },
    {
      "cell_type": "code",
      "metadata": {
        "id": "-xyf7cjI9m_q",
        "colab_type": "code",
        "colab": {}
      },
      "source": [
        "BeautifulSoup?"
      ],
      "execution_count": 0,
      "outputs": []
    },
    {
      "cell_type": "code",
      "metadata": {
        "id": "jg115KYe6yxo",
        "colab_type": "code",
        "colab": {}
      },
      "source": [
        "url = \"https://www.basketball-reference.com/leagues/NBA_{}_advanced.html\".format(2016)# this is the HTML from the given URL\n",
        "html = urlopen(url)\n",
        "soup = BeautifulSoup(html)"
      ],
      "execution_count": 0,
      "outputs": []
    },
    {
      "cell_type": "code",
      "metadata": {
        "id": "UOnwq08d9Zae",
        "colab_type": "code",
        "colab": {}
      },
      "source": [
        "soup.findAll('tr', limit=2)# use getText()to extract the text we need into a list\n",
        "headers = [th.getText() for th in soup.findAll('tr', limit=2)[0].findAll('th')]# exclude the first column as we will not need the ranking order from Basketball Reference for the analysis"
      ],
      "execution_count": 0,
      "outputs": []
    },
    {
      "cell_type": "code",
      "metadata": {
        "id": "TMDLxLDW9grs",
        "colab_type": "code",
        "colab": {}
      },
      "source": [
        "headers = headers[1:]\n",
        "rows = soup.findAll('tr')[1:]\n",
        "player_stats = [[td.getText() for td in rows[i].findAll('td')] for i in range(len(rows))]\n",
        "stats = pd.DataFrame(player_stats, columns = headers)\n",
        "stats=stats.drop('\\xa0',axis=1)"
      ],
      "execution_count": 0,
      "outputs": []
    },
    {
      "cell_type": "code",
      "metadata": {
        "id": "1m4oZ9yM958c",
        "colab_type": "code",
        "outputId": "159569ac-2a2b-47e4-f943-8e1da6767071",
        "colab": {
          "base_uri": "https://localhost:8080/",
          "height": 204
        }
      },
      "source": [
        "stats.head()"
      ],
      "execution_count": 8,
      "outputs": [
        {
          "output_type": "execute_result",
          "data": {
            "text/html": [
              "<div>\n",
              "<style scoped>\n",
              "    .dataframe tbody tr th:only-of-type {\n",
              "        vertical-align: middle;\n",
              "    }\n",
              "\n",
              "    .dataframe tbody tr th {\n",
              "        vertical-align: top;\n",
              "    }\n",
              "\n",
              "    .dataframe thead th {\n",
              "        text-align: right;\n",
              "    }\n",
              "</style>\n",
              "<table border=\"1\" class=\"dataframe\">\n",
              "  <thead>\n",
              "    <tr style=\"text-align: right;\">\n",
              "      <th></th>\n",
              "      <th>Player</th>\n",
              "      <th>Pos</th>\n",
              "      <th>Age</th>\n",
              "      <th>Tm</th>\n",
              "      <th>G</th>\n",
              "      <th>MP</th>\n",
              "      <th>PER</th>\n",
              "      <th>TS%</th>\n",
              "      <th>3PAr</th>\n",
              "      <th>FTr</th>\n",
              "      <th>ORB%</th>\n",
              "      <th>DRB%</th>\n",
              "      <th>TRB%</th>\n",
              "      <th>AST%</th>\n",
              "      <th>STL%</th>\n",
              "      <th>BLK%</th>\n",
              "      <th>TOV%</th>\n",
              "      <th>USG%</th>\n",
              "      <th>OWS</th>\n",
              "      <th>DWS</th>\n",
              "      <th>WS</th>\n",
              "      <th>WS/48</th>\n",
              "      <th>OBPM</th>\n",
              "      <th>DBPM</th>\n",
              "      <th>BPM</th>\n",
              "      <th>VORP</th>\n",
              "    </tr>\n",
              "  </thead>\n",
              "  <tbody>\n",
              "    <tr>\n",
              "      <th>0</th>\n",
              "      <td>Quincy Acy</td>\n",
              "      <td>PF</td>\n",
              "      <td>25</td>\n",
              "      <td>SAC</td>\n",
              "      <td>59</td>\n",
              "      <td>876</td>\n",
              "      <td>14.7</td>\n",
              "      <td>.629</td>\n",
              "      <td>.229</td>\n",
              "      <td>.318</td>\n",
              "      <td>8.1</td>\n",
              "      <td>15.1</td>\n",
              "      <td>11.6</td>\n",
              "      <td>4.4</td>\n",
              "      <td>1.6</td>\n",
              "      <td>2.2</td>\n",
              "      <td>10.0</td>\n",
              "      <td>13.1</td>\n",
              "      <td>1.8</td>\n",
              "      <td>0.7</td>\n",
              "      <td>2.5</td>\n",
              "      <td>.137</td>\n",
              "      <td>-0.2</td>\n",
              "      <td>0.2</td>\n",
              "      <td>-0.1</td>\n",
              "      <td>0.4</td>\n",
              "    </tr>\n",
              "    <tr>\n",
              "      <th>1</th>\n",
              "      <td>Jordan Adams</td>\n",
              "      <td>SG</td>\n",
              "      <td>21</td>\n",
              "      <td>MEM</td>\n",
              "      <td>2</td>\n",
              "      <td>15</td>\n",
              "      <td>17.3</td>\n",
              "      <td>.427</td>\n",
              "      <td>.167</td>\n",
              "      <td>.833</td>\n",
              "      <td>0.0</td>\n",
              "      <td>15.9</td>\n",
              "      <td>7.6</td>\n",
              "      <td>31.9</td>\n",
              "      <td>10.3</td>\n",
              "      <td>0.0</td>\n",
              "      <td>19.6</td>\n",
              "      <td>30.5</td>\n",
              "      <td>0.0</td>\n",
              "      <td>0.0</td>\n",
              "      <td>0.0</td>\n",
              "      <td>.015</td>\n",
              "      <td>-2.5</td>\n",
              "      <td>9.4</td>\n",
              "      <td>6.9</td>\n",
              "      <td>0.0</td>\n",
              "    </tr>\n",
              "    <tr>\n",
              "      <th>2</th>\n",
              "      <td>Steven Adams</td>\n",
              "      <td>C</td>\n",
              "      <td>22</td>\n",
              "      <td>OKC</td>\n",
              "      <td>80</td>\n",
              "      <td>2014</td>\n",
              "      <td>15.5</td>\n",
              "      <td>.621</td>\n",
              "      <td>.000</td>\n",
              "      <td>.460</td>\n",
              "      <td>12.5</td>\n",
              "      <td>16.1</td>\n",
              "      <td>14.4</td>\n",
              "      <td>4.3</td>\n",
              "      <td>1.0</td>\n",
              "      <td>3.3</td>\n",
              "      <td>14.1</td>\n",
              "      <td>12.6</td>\n",
              "      <td>4.2</td>\n",
              "      <td>2.3</td>\n",
              "      <td>6.5</td>\n",
              "      <td>.155</td>\n",
              "      <td>0.0</td>\n",
              "      <td>0.2</td>\n",
              "      <td>0.2</td>\n",
              "      <td>1.1</td>\n",
              "    </tr>\n",
              "    <tr>\n",
              "      <th>3</th>\n",
              "      <td>Arron Afflalo</td>\n",
              "      <td>SG</td>\n",
              "      <td>30</td>\n",
              "      <td>NYK</td>\n",
              "      <td>71</td>\n",
              "      <td>2371</td>\n",
              "      <td>10.9</td>\n",
              "      <td>.531</td>\n",
              "      <td>.298</td>\n",
              "      <td>.164</td>\n",
              "      <td>1.1</td>\n",
              "      <td>11.0</td>\n",
              "      <td>6.1</td>\n",
              "      <td>9.9</td>\n",
              "      <td>0.5</td>\n",
              "      <td>0.3</td>\n",
              "      <td>8.7</td>\n",
              "      <td>17.9</td>\n",
              "      <td>1.8</td>\n",
              "      <td>0.9</td>\n",
              "      <td>2.7</td>\n",
              "      <td>.055</td>\n",
              "      <td>-1.3</td>\n",
              "      <td>-1.6</td>\n",
              "      <td>-2.9</td>\n",
              "      <td>-0.5</td>\n",
              "    </tr>\n",
              "    <tr>\n",
              "      <th>4</th>\n",
              "      <td>Alexis Ajinça</td>\n",
              "      <td>C</td>\n",
              "      <td>27</td>\n",
              "      <td>NOP</td>\n",
              "      <td>59</td>\n",
              "      <td>861</td>\n",
              "      <td>13.8</td>\n",
              "      <td>.514</td>\n",
              "      <td>.003</td>\n",
              "      <td>.197</td>\n",
              "      <td>9.3</td>\n",
              "      <td>25.9</td>\n",
              "      <td>17.3</td>\n",
              "      <td>5.8</td>\n",
              "      <td>1.1</td>\n",
              "      <td>3.4</td>\n",
              "      <td>13.6</td>\n",
              "      <td>20.4</td>\n",
              "      <td>0.2</td>\n",
              "      <td>0.9</td>\n",
              "      <td>1.0</td>\n",
              "      <td>.058</td>\n",
              "      <td>-3.4</td>\n",
              "      <td>-0.6</td>\n",
              "      <td>-4.0</td>\n",
              "      <td>-0.4</td>\n",
              "    </tr>\n",
              "  </tbody>\n",
              "</table>\n",
              "</div>"
            ],
            "text/plain": [
              "          Player Pos Age   Tm   G    MP  ...   WS WS/48  OBPM  DBPM   BPM  VORP\n",
              "0     Quincy Acy  PF  25  SAC  59   876  ...  2.5  .137  -0.2   0.2  -0.1   0.4\n",
              "1   Jordan Adams  SG  21  MEM   2    15  ...  0.0  .015  -2.5   9.4   6.9   0.0\n",
              "2   Steven Adams   C  22  OKC  80  2014  ...  6.5  .155   0.0   0.2   0.2   1.1\n",
              "3  Arron Afflalo  SG  30  NYK  71  2371  ...  2.7  .055  -1.3  -1.6  -2.9  -0.5\n",
              "4  Alexis Ajinça   C  27  NOP  59   861  ...  1.0  .058  -3.4  -0.6  -4.0  -0.4\n",
              "\n",
              "[5 rows x 26 columns]"
            ]
          },
          "metadata": {
            "tags": []
          },
          "execution_count": 8
        }
      ]
    },
    {
      "cell_type": "markdown",
      "metadata": {
        "id": "7dQPVsTuiWPf",
        "colab_type": "text"
      },
      "source": [
        "En particular, todo a partir de OWS son estadisticas que me hablan de \"cuan bueno es un jugador\", por lo que quiero ver si puedo estimar alguna en funcion de todas las previas. En particular, me voy a concentrar en WS. El objetivo que me voy a plantear es saber cuales son las estadisticas mas importantes para saber cuan bueno es un jugador."
      ]
    },
    {
      "cell_type": "code",
      "metadata": {
        "id": "zVqHfn2oAb8a",
        "colab_type": "code",
        "outputId": "e3a778c1-25b2-4c4b-c964-09d8d2aee98f",
        "colab": {
          "base_uri": "https://localhost:8080/",
          "height": 153
        }
      },
      "source": [
        "stats['Pos'].value_counts()"
      ],
      "execution_count": 0,
      "outputs": [
        {
          "output_type": "execute_result",
          "data": {
            "text/plain": [
              "PG       129\n",
              "PF       122\n",
              "SG       116\n",
              "SF       105\n",
              "C        104\n",
              "SG-SF      1\n",
              "PF-C       1\n",
              "Name: Pos, dtype: int64"
            ]
          },
          "metadata": {
            "tags": []
          },
          "execution_count": 7
        }
      ]
    },
    {
      "cell_type": "markdown",
      "metadata": {
        "id": "Jxee2t6hAC89",
        "colab_type": "text"
      },
      "source": [
        "# El procesado\n",
        "\n",
        "En principio, yo tengo mi dataframe y ahora lo unico que voy a hacer es separar en Train y Test y luego elegir mi target variable ('WS/48'). En particular, voy considerar jugadores que jugaron cierta cantidad de los partidos, para asegurarme de tener algo de estadistica, siempre tratando de tener una muestra suficientemente grande."
      ]
    },
    {
      "cell_type": "code",
      "metadata": {
        "id": "ruTCss2k-37Y",
        "colab_type": "code",
        "colab": {}
      },
      "source": [
        "stats_now=stats.copy()\n",
        "stats_now=stats_now[stats_now['Pos'].isin(['SG','PF','PG','C','SF'])]\n",
        "stats_now[\"G\"]=pd.to_numeric(stats_now[\"G\"])\n",
        "stats_now=stats_now[stats_now[\"G\"]>=40]\n",
        "stats_now[\"WS\"]=pd.to_numeric(stats_now[\"WS\"])"
      ],
      "execution_count": 0,
      "outputs": []
    },
    {
      "cell_type": "code",
      "metadata": {
        "id": "ufdCtqwAlLIH",
        "colab_type": "code",
        "outputId": "3e85efe7-116f-46f1-d212-e6574d44155b",
        "colab": {
          "base_uri": "https://localhost:8080/",
          "height": 285
        }
      },
      "source": [
        "stats_now[\"WS\"].hist()"
      ],
      "execution_count": 85,
      "outputs": [
        {
          "output_type": "execute_result",
          "data": {
            "text/plain": [
              "<matplotlib.axes._subplots.AxesSubplot at 0x7fbc57797da0>"
            ]
          },
          "metadata": {
            "tags": []
          },
          "execution_count": 85
        },
        {
          "output_type": "display_data",
          "data": {
            "image/png": "[encoded data removed]",
            "text/plain": [
              "<Figure size 432x288 with 1 Axes>"
            ]
          },
          "metadata": {
            "tags": [],
            "needs_background": "light"
          }
        }
      ]
    },
    {
      "cell_type": "markdown",
      "metadata": {
        "id": "gKQTVHYm63jA",
        "colab_type": "text"
      },
      "source": [
        "Viendo WS tengo un par de opciones. En particular, aca voy a implementar asignar clases dependiendo del cuartil de WS al que pertenece el jugador o a un sistema de binnes. "
      ]
    },
    {
      "cell_type": "code",
      "metadata": {
        "id": "QbjgmMxG6_8s",
        "colab_type": "code",
        "colab": {
          "base_uri": "https://localhost:8080/",
          "height": 102
        },
        "outputId": "7e12b22f-7fa6-4cd8-c874-aadf258b7937"
      },
      "source": [
        "#stats_now[\"WS/48_q\"]=pd.qcut(stats_now['WS/48'], 4)\n",
        "#stats_now[\"X_q\"]=pd.qcut(stats_now['WS'].values, 4).codes\n",
        "stats_now[\"X_q\"]=pd.cut(stats_now['WS'].values, bins=[-2.5,0.0,3.0,8.0,19]).codes\n",
        "print(stats_now[\"X_q\"].value_counts())"
      ],
      "execution_count": 86,
      "outputs": [
        {
          "output_type": "stream",
          "text": [
            "1    180\n",
            "2    139\n",
            "3     25\n",
            "0     14\n",
            "Name: X_q, dtype: int64\n"
          ],
          "name": "stdout"
        }
      ]
    },
    {
      "cell_type": "code",
      "metadata": {
        "id": "ldI41Gzeqfl2",
        "colab_type": "code",
        "outputId": "ae48ab9a-55b1-480d-d50a-11f2055b3e3c",
        "colab": {
          "base_uri": "https://localhost:8080/",
          "height": 85
        }
      },
      "source": [
        "print(stats_now.iloc[np.where(stats_now[\"Player\"]==\"LeBron James\")])"
      ],
      "execution_count": 87,
      "outputs": [
        {
          "output_type": "stream",
          "text": [
            "           Player Pos Age   Tm   G    MP  ... WS/48 OBPM DBPM  BPM VORP X_q\n",
            "275  LeBron James  SF  31  CLE  76  2709  ...  .242  7.0  2.0  9.0  7.5   3\n",
            "\n",
            "[1 rows x 27 columns]\n"
          ],
          "name": "stdout"
        }
      ]
    },
    {
      "cell_type": "code",
      "metadata": {
        "id": "USICzbaRAqPV",
        "colab_type": "code",
        "outputId": "0e45950c-c003-41c8-ae1b-03e235faa4ac",
        "colab": {
          "base_uri": "https://localhost:8080/",
          "height": 520
        }
      },
      "source": [
        "print(stats_now['Player'].value_counts())\n",
        "plt.hist(stats_now['Player'].value_counts())"
      ],
      "execution_count": 88,
      "outputs": [
        {
          "output_type": "stream",
          "text": [
            "Courtney Lee        2\n",
            "Jared Cunningham    2\n",
            "P.J. Hairston       2\n",
            "Ty Lawson           2\n",
            "Marcus Thornton     2\n",
            "                   ..\n",
            "Jimmy Butler        1\n",
            "Cameron Payne       1\n",
            "Anthony Davis       1\n",
            "Festus Ezeli        1\n",
            "Pau Gasol           1\n",
            "Name: Player, Length: 343, dtype: int64\n"
          ],
          "name": "stdout"
        },
        {
          "output_type": "execute_result",
          "data": {
            "text/plain": [
              "(array([328.,   0.,   0.,   0.,   0.,   0.,   0.,   0.,   0.,  15.]),\n",
              " array([1. , 1.1, 1.2, 1.3, 1.4, 1.5, 1.6, 1.7, 1.8, 1.9, 2. ]),\n",
              " <a list of 10 Patch objects>)"
            ]
          },
          "metadata": {
            "tags": []
          },
          "execution_count": 88
        },
        {
          "output_type": "display_data",
          "data": {
            "image/png": "[encoded data removed]",
            "text/plain": [
              "<Figure size 432x288 with 1 Axes>"
            ]
          },
          "metadata": {
            "tags": [],
            "needs_background": "light"
          }
        }
      ]
    },
    {
      "cell_type": "code",
      "metadata": {
        "id": "GBu5O4nGEyVP",
        "colab_type": "code",
        "outputId": "435a3edc-2f2a-46a2-e8ca-84af7587738f",
        "colab": {
          "base_uri": "https://localhost:8080/",
          "height": 119
        }
      },
      "source": [
        "stats_now=stats_now.replace(['PG','SG','SF','PF','C'],[1,2,3,4,5])\n",
        "stats_now['Pos'].value_counts()"
      ],
      "execution_count": 92,
      "outputs": [
        {
          "output_type": "execute_result",
          "data": {
            "text/plain": [
              "2    77\n",
              "4    75\n",
              "1    73\n",
              "3    71\n",
              "5    62\n",
              "Name: Pos, dtype: int64"
            ]
          },
          "metadata": {
            "tags": []
          },
          "execution_count": 92
        }
      ]
    },
    {
      "cell_type": "code",
      "metadata": {
        "id": "VoUHjE6uzNJi",
        "colab_type": "code",
        "colab": {
          "base_uri": "https://localhost:8080/",
          "height": 34
        },
        "outputId": "39c6ea8f-dbe1-42a2-e6d1-fc96c7fd4f0c"
      },
      "source": [
        "np.where(stats_now.applymap(lambda x: x == ''))"
      ],
      "execution_count": 93,
      "outputs": [
        {
          "output_type": "execute_result",
          "data": {
            "text/plain": [
              "(array([], dtype=int64), array([], dtype=int64))"
            ]
          },
          "metadata": {
            "tags": []
          },
          "execution_count": 93
        }
      ]
    },
    {
      "cell_type": "markdown",
      "metadata": {
        "id": "8XZ4SKpalD2r",
        "colab_type": "text"
      },
      "source": [
        "En particular, voy a estratificar (esto no se hace falta si hice cuartiles pero si de utilizar bines fijos)\n",
        "\n"
      ]
    },
    {
      "cell_type": "code",
      "metadata": {
        "id": "K2128Xh5BViN",
        "colab_type": "code",
        "colab": {}
      },
      "source": [
        "from sklearn.model_selection import StratifiedShuffleSplit\n",
        "split = StratifiedShuffleSplit(n_splits=1, test_size=0.2, random_state=445543)\n",
        "for train_index, test_index in split.split(stats_now, stats_now[\"X_q\"]):\n",
        "    strat_train_set = stats_now.iloc[train_index]\n",
        "    strat_test_set = stats_now.iloc[test_index]"
      ],
      "execution_count": 0,
      "outputs": []
    },
    {
      "cell_type": "markdown",
      "metadata": {
        "id": "j8j2Z8nxC3gV",
        "colab_type": "text"
      },
      "source": [
        "Veamos si puedo implementar un regresor."
      ]
    },
    {
      "cell_type": "code",
      "metadata": {
        "id": "Db0ehNgVC0JI",
        "colab_type": "code",
        "colab": {}
      },
      "source": [
        "stats_train = strat_train_set.drop([\"Player\",\"Tm\",\"X_q\",\"OWS\",\"DWS\",\"WS\",\"WS/48\",\"OBPM\",\"DBPM\",\"BPM\",\"VORP\"], axis=1) # drop labels for training set\n",
        "stats_train_labels = strat_train_set[\"X_q\"].copy()\n",
        "stats_test = strat_test_set.drop([\"Player\",\"Tm\",\"X_q\",\"OWS\",\"DWS\",\"WS\",\"WS/48\",\"OBPM\",\"DBPM\",\"BPM\",\"VORP\"], axis=1) # drop labels for training set\n",
        "stats_test_labels = strat_test_set[\"X_q\"].copy()\n"
      ],
      "execution_count": 0,
      "outputs": []
    },
    {
      "cell_type": "code",
      "metadata": {
        "id": "foDLdYGnDjSA",
        "colab_type": "code",
        "outputId": "684a7bc4-f9b6-4f62-a658-7a89611c56e4",
        "colab": {
          "base_uri": "https://localhost:8080/",
          "height": 442
        }
      },
      "source": [
        "from sklearn.model_selection import GridSearchCV\n",
        "\n",
        "clf = AdaBoostClassifier(base_estimator=DecisionTreeClassifier())\n",
        "\n",
        "param_grid = {#\"base_estimator__criterion\" : [\"gini\", \"entropy\"],\n",
        "              \"base_estimator__splitter\" :   [\"best\"],\n",
        "              \"n_estimators\": [500],\n",
        "              \"base_estimator__max_depth\": [3],\n",
        "              \"base_estimator__max_features\": [5],\n",
        "              \"base_estimator__min_samples_leaf\": [5]\n",
        "             }\n",
        "\n",
        "# run grid search\n",
        "grid_search = GridSearchCV(clf, cv=10, param_grid=param_grid)\n",
        "grid_search.fit(stats_train, stats_train_labels)"
      ],
      "execution_count": 96,
      "outputs": [
        {
          "output_type": "execute_result",
          "data": {
            "text/plain": [
              "GridSearchCV(cv=10, error_score=nan,\n",
              "             estimator=AdaBoostClassifier(algorithm='SAMME.R',\n",
              "                                          base_estimator=DecisionTreeClassifier(ccp_alpha=0.0,\n",
              "                                                                                class_weight=None,\n",
              "                                                                                criterion='gini',\n",
              "                                                                                max_depth=None,\n",
              "                                                                                max_features=None,\n",
              "                                                                                max_leaf_nodes=None,\n",
              "                                                                                min_impurity_decrease=0.0,\n",
              "                                                                                min_impurity_split=None,\n",
              "                                                                                min_samples_leaf=1,\n",
              "                                                                                min_samples_split=2,\n",
              "                                                                                min_weight_fraction_leaf=0.0,\n",
              "                                                                                presort=...\n",
              "                                                                                splitter='best'),\n",
              "                                          learning_rate=1.0, n_estimators=50,\n",
              "                                          random_state=None),\n",
              "             iid='deprecated', n_jobs=None,\n",
              "             param_grid={'base_estimator__max_depth': [3],\n",
              "                         'base_estimator__max_features': [5],\n",
              "                         'base_estimator__min_samples_leaf': [5],\n",
              "                         'base_estimator__splitter': ['best'],\n",
              "                         'n_estimators': [500]},\n",
              "             pre_dispatch='2*n_jobs', refit=True, return_train_score=False,\n",
              "             scoring=None, verbose=0)"
            ]
          },
          "metadata": {
            "tags": []
          },
          "execution_count": 96
        }
      ]
    },
    {
      "cell_type": "code",
      "metadata": {
        "id": "zET3eVkmNJOZ",
        "colab_type": "code",
        "outputId": "11755fdf-281a-4c9c-b962-bf7d01fdcde0",
        "colab": {
          "base_uri": "https://localhost:8080/",
          "height": 340
        }
      },
      "source": [
        "print(grid_search.best_estimator_)\n",
        "print(grid_search.best_score_)\n",
        "print(grid_search.cv_results_['mean_test_score'])\n",
        "print(grid_search.cv_results_['std_test_score'])"
      ],
      "execution_count": 97,
      "outputs": [
        {
          "output_type": "stream",
          "text": [
            "AdaBoostClassifier(algorithm='SAMME.R',\n",
            "                   base_estimator=DecisionTreeClassifier(ccp_alpha=0.0,\n",
            "                                                         class_weight=None,\n",
            "                                                         criterion='gini',\n",
            "                                                         max_depth=3,\n",
            "                                                         max_features=5,\n",
            "                                                         max_leaf_nodes=None,\n",
            "                                                         min_impurity_decrease=0.0,\n",
            "                                                         min_impurity_split=None,\n",
            "                                                         min_samples_leaf=5,\n",
            "                                                         min_samples_split=2,\n",
            "                                                         min_weight_fraction_leaf=0.0,\n",
            "                                                         presort='deprecated',\n",
            "                                                         random_state=None,\n",
            "                                                         splitter='best'),\n",
            "                   learning_rate=1.0, n_estimators=500, random_state=None)\n",
            "0.7657635467980295\n",
            "[0.76576355]\n",
            "[0.05366633]\n"
          ],
          "name": "stdout"
        }
      ]
    },
    {
      "cell_type": "markdown",
      "metadata": {
        "id": "B39h3e8P2b3M",
        "colab_type": "text"
      },
      "source": [
        "Hola overfitting!"
      ]
    },
    {
      "cell_type": "code",
      "metadata": {
        "id": "XnKijgM1BrtF",
        "colab_type": "code",
        "colab": {
          "base_uri": "https://localhost:8080/",
          "height": 34
        },
        "outputId": "383725be-f53d-4974-a2bd-d6747f52e86d"
      },
      "source": [
        "mejor_estimador=grid_search.best_estimator_\n",
        "mejor_estimador.fit(stats_train, stats_train_labels)\n",
        "print(\"Results is: \", mejor_estimador.score(stats_train, stats_train_labels))"
      ],
      "execution_count": 98,
      "outputs": [
        {
          "output_type": "stream",
          "text": [
            "Results is:  1.0\n"
          ],
          "name": "stdout"
        }
      ]
    },
    {
      "cell_type": "code",
      "metadata": {
        "id": "cBS431ttEFN3",
        "colab_type": "code",
        "outputId": "96e25c01-08d8-4ae8-8e52-da1aa6001a73",
        "colab": {
          "base_uri": "https://localhost:8080/",
          "height": 289
        }
      },
      "source": [
        "features=np.asarray(list(stats_train.columns.values))\n",
        "for i in range(len(features)):\n",
        "  print((features[i],mejor_estimador.feature_importances_[i]))"
      ],
      "execution_count": 99,
      "outputs": [
        {
          "output_type": "stream",
          "text": [
            "('Pos', 0.010681168052786084)\n",
            "('Age', 0.06360944807091905)\n",
            "('G', 0.04652151588107184)\n",
            "('MP', 0.10641510717043819)\n",
            "('PER', 0.10766057295348527)\n",
            "('TS%', 0.14156938026996202)\n",
            "('3PAr', 0.0400357045472484)\n",
            "('FTr', 0.06712385234424299)\n",
            "('ORB%', 0.0432334133888809)\n",
            "('DRB%', 0.052838033438643066)\n",
            "('TRB%', 0.03612790915235326)\n",
            "('AST%', 0.06874029903757804)\n",
            "('STL%', 0.043093646607744306)\n",
            "('BLK%', 0.043473884017024816)\n",
            "('TOV%', 0.05922897349130475)\n",
            "('USG%', 0.0696470915763171)\n"
          ],
          "name": "stdout"
        }
      ]
    },
    {
      "cell_type": "code",
      "metadata": {
        "id": "fexy-Io7GNA-",
        "colab_type": "code",
        "outputId": "afe9b6ee-3a4a-4bf7-9adc-0f4e9bf822e3",
        "colab": {
          "base_uri": "https://localhost:8080/",
          "height": 34
        }
      },
      "source": [
        "mejor_estimador.predict(stats_train.iloc[np.where(strat_train_set[\"Player\"]==\"James Harden\")])"
      ],
      "execution_count": 100,
      "outputs": [
        {
          "output_type": "execute_result",
          "data": {
            "text/plain": [
              "array([3], dtype=int8)"
            ]
          },
          "metadata": {
            "tags": []
          },
          "execution_count": 100
        }
      ]
    },
    {
      "cell_type": "markdown",
      "metadata": {
        "id": "uIZw9yg9-Sxz",
        "colab_type": "text"
      },
      "source": [
        "Podemos sacar mas informacion viendo la matriz de confusion"
      ]
    },
    {
      "cell_type": "code",
      "metadata": {
        "id": "ENB4CAH29xvp",
        "colab_type": "code",
        "colab": {
          "base_uri": "https://localhost:8080/",
          "height": 85
        },
        "outputId": "3e79e65a-87a2-4e83-e4c2-2568e09d0f2d"
      },
      "source": [
        "from sklearn.metrics import confusion_matrix\n",
        "confusion_matrix(stats_train_labels,mejor_estimador.predict(stats_train))"
      ],
      "execution_count": 101,
      "outputs": [
        {
          "output_type": "execute_result",
          "data": {
            "text/plain": [
              "array([[ 11,   0,   0,   0],\n",
              "       [  0, 144,   0,   0],\n",
              "       [  0,   0, 111,   0],\n",
              "       [  0,   0,   0,  20]])"
            ]
          },
          "metadata": {
            "tags": []
          },
          "execution_count": 101
        }
      ]
    },
    {
      "cell_type": "markdown",
      "metadata": {
        "id": "5glfoO1P-U60",
        "colab_type": "text"
      },
      "source": [
        "En efecto, algo que esta muy bien es que solo puedo mal interpretar de un cuartil a sus vecinos. Es decir, no voy a asignar a un jugador con muy bajo WS al cuartil con mas alto WS."
      ]
    },
    {
      "cell_type": "markdown",
      "metadata": {
        "id": "aRsAU5Hmgz_f",
        "colab_type": "text"
      },
      "source": [
        "En particular, vamos a ver en que jugadores le pifio:"
      ]
    },
    {
      "cell_type": "code",
      "metadata": {
        "id": "EIxtBYr5cWA7",
        "colab_type": "code",
        "outputId": "20302125-eaf2-43d1-fb38-097927e930c0",
        "colab": {
          "base_uri": "https://localhost:8080/",
          "height": 282
        }
      },
      "source": [
        "strat_train_set.iloc[np.where(mejor_estimador.predict(stats_train)!=stats_train_labels)][\"X_q\"].hist()"
      ],
      "execution_count": 102,
      "outputs": [
        {
          "output_type": "execute_result",
          "data": {
            "text/plain": [
              "<matplotlib.axes._subplots.AxesSubplot at 0x7fbc576567b8>"
            ]
          },
          "metadata": {
            "tags": []
          },
          "execution_count": 102
        },
        {
          "output_type": "display_data",
          "data": {
            "image/png": "[encoded data removed]",
            "text/plain": [
              "<Figure size 432x288 with 1 Axes>"
            ]
          },
          "metadata": {
            "tags": [],
            "needs_background": "light"
          }
        }
      ]
    },
    {
      "cell_type": "markdown",
      "metadata": {
        "id": "ynXa2zSc4kJK",
        "colab_type": "text"
      },
      "source": [
        "En particular, que jugadores \"de elite\" estoy pifiando?"
      ]
    },
    {
      "cell_type": "code",
      "metadata": {
        "id": "t9Pi8rqMg7CC",
        "colab_type": "code",
        "colab": {
          "base_uri": "https://localhost:8080/",
          "height": 49
        },
        "outputId": "9c03cc89-b251-473b-dda3-fb29ba45a64f"
      },
      "source": [
        "strat_train_set.iloc[np.where(mejor_estimador.predict(stats_train)!=stats_train_labels)][[\"Player\",\"X_q\"]]"
      ],
      "execution_count": 103,
      "outputs": [
        {
          "output_type": "execute_result",
          "data": {
            "text/html": [
              "<div>\n",
              "<style scoped>\n",
              "    .dataframe tbody tr th:only-of-type {\n",
              "        vertical-align: middle;\n",
              "    }\n",
              "\n",
              "    .dataframe tbody tr th {\n",
              "        vertical-align: top;\n",
              "    }\n",
              "\n",
              "    .dataframe thead th {\n",
              "        text-align: right;\n",
              "    }\n",
              "</style>\n",
              "<table border=\"1\" class=\"dataframe\">\n",
              "  <thead>\n",
              "    <tr style=\"text-align: right;\">\n",
              "      <th></th>\n",
              "      <th>Player</th>\n",
              "      <th>X_q</th>\n",
              "    </tr>\n",
              "  </thead>\n",
              "  <tbody>\n",
              "  </tbody>\n",
              "</table>\n",
              "</div>"
            ],
            "text/plain": [
              "Empty DataFrame\n",
              "Columns: [Player, X_q]\n",
              "Index: []"
            ]
          },
          "metadata": {
            "tags": []
          },
          "execution_count": 103
        }
      ]
    },
    {
      "cell_type": "markdown",
      "metadata": {
        "id": "xKdymENw-q0s",
        "colab_type": "text"
      },
      "source": [
        "Veamos el test"
      ]
    },
    {
      "cell_type": "code",
      "metadata": {
        "id": "IOo0BkEMcR8W",
        "colab_type": "code",
        "outputId": "3f9beec3-e1c4-4dfe-b11a-76bcf765beb2",
        "colab": {
          "base_uri": "https://localhost:8080/",
          "height": 102
        }
      },
      "source": [
        "print(mejor_estimador.score(stats_test, stats_test_labels))\n",
        "print(confusion_matrix(stats_test_labels,mejor_estimador.predict(stats_test)))"
      ],
      "execution_count": 104,
      "outputs": [
        {
          "output_type": "stream",
          "text": [
            "0.8194444444444444\n",
            "[[ 0  3  0  0]\n",
            " [ 0 30  6  0]\n",
            " [ 0  2 26  0]\n",
            " [ 0  0  2  3]]\n"
          ],
          "name": "stdout"
        }
      ]
    },
    {
      "cell_type": "markdown",
      "metadata": {
        "id": "8ZeZNK86Cj-H",
        "colab_type": "text"
      },
      "source": [
        "Muchisimo overfitting pro igual compro. Me habian quedado demasiados pocos de elite en el test pero se ve que le puedo pifiar."
      ]
    },
    {
      "cell_type": "code",
      "metadata": {
        "id": "Xnsvv6394sV4",
        "colab_type": "code",
        "colab": {}
      },
      "source": [
        ""
      ],
      "execution_count": 0,
      "outputs": []
    }
  ]
}