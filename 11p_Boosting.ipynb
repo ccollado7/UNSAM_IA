{
  "nbformat": 4,
  "nbformat_minor": 0,
  "metadata": {
    "colab": {
      "name": "11p_Boosting.ipynb",
      "provenance": [],
      "collapsed_sections": []
    },
    "kernelspec": {
      "name": "python3",
      "display_name": "Python 3"
    }
  },
  "cells": [
    {
      "cell_type": "code",
      "metadata": {
        "id": "MGs9_54T5oeh",
        "colab_type": "code",
        "colab": {}
      },
      "source": [
        "import matplotlib\n",
        "import matplotlib.pyplot as plt\n",
        "from matplotlib.colors import ListedColormap\n",
        "cmap = matplotlib.cm.get_cmap('Spectral')\n",
        "\n",
        "import numpy as np\n",
        "\n",
        "from sklearn.pipeline import Pipeline\n",
        "from sklearn.preprocessing import StandardScaler\n",
        "\n",
        "from sklearn.tree import DecisionTreeClassifier, DecisionTreeRegressor\n",
        "from sklearn.svm import SVC\n",
        "from sklearn.ensemble import BaggingClassifier, RandomForestClassifier, AdaBoostClassifier,AdaBoostRegressor"
      ],
      "execution_count": 0,
      "outputs": []
    },
    {
      "cell_type": "markdown",
      "metadata": {
        "id": "NR_k-irK5_D1",
        "colab_type": "text"
      },
      "source": [
        "# Ejemplo de Boosting y Feature Selection\n",
        "\n",
        "Vamos a tratar de ver alguna aplicacion de lo visto la clase pasada. Para eso, implementaremos un algoritmo de Boosting. En particular, voy a aprovechar para bucear un poco en otras cosas."
      ]
    },
    {
      "cell_type": "markdown",
      "metadata": {
        "id": "U1vpGO_w_Ul1",
        "colab_type": "text"
      },
      "source": [
        "# El problema:\n",
        "\n",
        "En esta cuarentena, yo estoy con abstinencia de deportes. En particular, me cortaron la temporada de NBA. Con mi grupo de adictos, empezamos a charlar para matar el tiempo y me surgio una pregunta. ~Puedo hablar de basquet en vez de trabajar?~ Puedo mentir con seguridad sobre las estadisticas que leo en los articulos?\n",
        "\n",
        "Para eso, me puse a explorar un poco. En primer lugar, necesito datos. Para eso, recurro a una pagina llamada basketballreference.com donde se almacenan todos los datos posibles. Para hacer las cosas mas simples, me voy a limitar a una unica temporada, en la que los roles posicionales son mas o menos los mismos en la liga (salvo en Houston) y no tengo jugadores repetidos (salvo los que fueron transferidos, pero ahora mismo no me interesa ser demasiado cauto en el procesado)."
      ]
    },
    {
      "cell_type": "code",
      "metadata": {
        "id": "qbPWuJSJ6hnV",
        "colab_type": "code",
        "colab": {}
      },
      "source": [
        "from urllib.request import urlopen\n",
        "from bs4 import BeautifulSoup\n",
        "import pandas as pd\n",
        "import numpy as np"
      ],
      "execution_count": 0,
      "outputs": []
    },
    {
      "cell_type": "code",
      "metadata": {
        "id": "-xyf7cjI9m_q",
        "colab_type": "code",
        "colab": {}
      },
      "source": [
        "BeautifulSoup?"
      ],
      "execution_count": 0,
      "outputs": []
    },
    {
      "cell_type": "code",
      "metadata": {
        "id": "jg115KYe6yxo",
        "colab_type": "code",
        "colab": {}
      },
      "source": [
        "url = \"https://www.basketball-reference.com/leagues/NBA_{}_advanced.html\".format(2016)# this is the HTML from the given URL\n",
        "html = urlopen(url)\n",
        "soup = BeautifulSoup(html)"
      ],
      "execution_count": 0,
      "outputs": []
    },
    {
      "cell_type": "code",
      "metadata": {
        "id": "UOnwq08d9Zae",
        "colab_type": "code",
        "colab": {}
      },
      "source": [
        "soup.findAll('tr', limit=2)# use getText()to extract the text we need into a list\n",
        "headers = [th.getText() for th in soup.findAll('tr', limit=2)[0].findAll('th')]# exclude the first column as we will not need the ranking order from Basketball Reference for the analysis"
      ],
      "execution_count": 0,
      "outputs": []
    },
    {
      "cell_type": "code",
      "metadata": {
        "id": "TMDLxLDW9grs",
        "colab_type": "code",
        "colab": {}
      },
      "source": [
        "headers = headers[1:]\n",
        "rows = soup.findAll('tr')[1:]\n",
        "player_stats = [[td.getText() for td in rows[i].findAll('td')] for i in range(len(rows))]\n",
        "stats = pd.DataFrame(player_stats, columns = headers)\n",
        "stats=stats.drop('\\xa0',axis=1)"
      ],
      "execution_count": 0,
      "outputs": []
    },
    {
      "cell_type": "code",
      "metadata": {
        "id": "1m4oZ9yM958c",
        "colab_type": "code",
        "outputId": "5bc018fa-47aa-43bb-b7ba-31dc431dfc23",
        "colab": {
          "base_uri": "https://localhost:8080/",
          "height": 204
        }
      },
      "source": [
        "stats.head()"
      ],
      "execution_count": 0,
      "outputs": [
        {
          "output_type": "execute_result",
          "data": {
            "text/html": [
              "<div>\n",
              "<style scoped>\n",
              "    .dataframe tbody tr th:only-of-type {\n",
              "        vertical-align: middle;\n",
              "    }\n",
              "\n",
              "    .dataframe tbody tr th {\n",
              "        vertical-align: top;\n",
              "    }\n",
              "\n",
              "    .dataframe thead th {\n",
              "        text-align: right;\n",
              "    }\n",
              "</style>\n",
              "<table border=\"1\" class=\"dataframe\">\n",
              "  <thead>\n",
              "    <tr style=\"text-align: right;\">\n",
              "      <th></th>\n",
              "      <th>Player</th>\n",
              "      <th>Pos</th>\n",
              "      <th>Age</th>\n",
              "      <th>Tm</th>\n",
              "      <th>G</th>\n",
              "      <th>MP</th>\n",
              "      <th>PER</th>\n",
              "      <th>TS%</th>\n",
              "      <th>3PAr</th>\n",
              "      <th>FTr</th>\n",
              "      <th>ORB%</th>\n",
              "      <th>DRB%</th>\n",
              "      <th>TRB%</th>\n",
              "      <th>AST%</th>\n",
              "      <th>STL%</th>\n",
              "      <th>BLK%</th>\n",
              "      <th>TOV%</th>\n",
              "      <th>USG%</th>\n",
              "      <th>OWS</th>\n",
              "      <th>DWS</th>\n",
              "      <th>WS</th>\n",
              "      <th>WS/48</th>\n",
              "      <th>OBPM</th>\n",
              "      <th>DBPM</th>\n",
              "      <th>BPM</th>\n",
              "      <th>VORP</th>\n",
              "    </tr>\n",
              "  </thead>\n",
              "  <tbody>\n",
              "    <tr>\n",
              "      <th>0</th>\n",
              "      <td>Quincy Acy</td>\n",
              "      <td>PF</td>\n",
              "      <td>25</td>\n",
              "      <td>SAC</td>\n",
              "      <td>59</td>\n",
              "      <td>876</td>\n",
              "      <td>14.7</td>\n",
              "      <td>.629</td>\n",
              "      <td>.229</td>\n",
              "      <td>.318</td>\n",
              "      <td>8.1</td>\n",
              "      <td>15.1</td>\n",
              "      <td>11.6</td>\n",
              "      <td>4.4</td>\n",
              "      <td>1.6</td>\n",
              "      <td>2.2</td>\n",
              "      <td>10.0</td>\n",
              "      <td>13.1</td>\n",
              "      <td>1.8</td>\n",
              "      <td>0.7</td>\n",
              "      <td>2.5</td>\n",
              "      <td>.137</td>\n",
              "      <td>-0.2</td>\n",
              "      <td>0.2</td>\n",
              "      <td>-0.1</td>\n",
              "      <td>0.4</td>\n",
              "    </tr>\n",
              "    <tr>\n",
              "      <th>1</th>\n",
              "      <td>Jordan Adams</td>\n",
              "      <td>SG</td>\n",
              "      <td>21</td>\n",
              "      <td>MEM</td>\n",
              "      <td>2</td>\n",
              "      <td>15</td>\n",
              "      <td>17.3</td>\n",
              "      <td>.427</td>\n",
              "      <td>.167</td>\n",
              "      <td>.833</td>\n",
              "      <td>0.0</td>\n",
              "      <td>15.9</td>\n",
              "      <td>7.6</td>\n",
              "      <td>31.9</td>\n",
              "      <td>10.3</td>\n",
              "      <td>0.0</td>\n",
              "      <td>19.6</td>\n",
              "      <td>30.5</td>\n",
              "      <td>0.0</td>\n",
              "      <td>0.0</td>\n",
              "      <td>0.0</td>\n",
              "      <td>.015</td>\n",
              "      <td>-2.5</td>\n",
              "      <td>9.4</td>\n",
              "      <td>6.9</td>\n",
              "      <td>0.0</td>\n",
              "    </tr>\n",
              "    <tr>\n",
              "      <th>2</th>\n",
              "      <td>Steven Adams</td>\n",
              "      <td>C</td>\n",
              "      <td>22</td>\n",
              "      <td>OKC</td>\n",
              "      <td>80</td>\n",
              "      <td>2014</td>\n",
              "      <td>15.5</td>\n",
              "      <td>.621</td>\n",
              "      <td>.000</td>\n",
              "      <td>.460</td>\n",
              "      <td>12.5</td>\n",
              "      <td>16.1</td>\n",
              "      <td>14.4</td>\n",
              "      <td>4.3</td>\n",
              "      <td>1.0</td>\n",
              "      <td>3.3</td>\n",
              "      <td>14.1</td>\n",
              "      <td>12.6</td>\n",
              "      <td>4.2</td>\n",
              "      <td>2.3</td>\n",
              "      <td>6.5</td>\n",
              "      <td>.155</td>\n",
              "      <td>0.0</td>\n",
              "      <td>0.2</td>\n",
              "      <td>0.2</td>\n",
              "      <td>1.1</td>\n",
              "    </tr>\n",
              "    <tr>\n",
              "      <th>3</th>\n",
              "      <td>Arron Afflalo</td>\n",
              "      <td>SG</td>\n",
              "      <td>30</td>\n",
              "      <td>NYK</td>\n",
              "      <td>71</td>\n",
              "      <td>2371</td>\n",
              "      <td>10.9</td>\n",
              "      <td>.531</td>\n",
              "      <td>.298</td>\n",
              "      <td>.164</td>\n",
              "      <td>1.1</td>\n",
              "      <td>11.0</td>\n",
              "      <td>6.1</td>\n",
              "      <td>9.9</td>\n",
              "      <td>0.5</td>\n",
              "      <td>0.3</td>\n",
              "      <td>8.7</td>\n",
              "      <td>17.9</td>\n",
              "      <td>1.8</td>\n",
              "      <td>0.9</td>\n",
              "      <td>2.7</td>\n",
              "      <td>.055</td>\n",
              "      <td>-1.3</td>\n",
              "      <td>-1.6</td>\n",
              "      <td>-2.9</td>\n",
              "      <td>-0.5</td>\n",
              "    </tr>\n",
              "    <tr>\n",
              "      <th>4</th>\n",
              "      <td>Alexis Ajinça</td>\n",
              "      <td>C</td>\n",
              "      <td>27</td>\n",
              "      <td>NOP</td>\n",
              "      <td>59</td>\n",
              "      <td>861</td>\n",
              "      <td>13.8</td>\n",
              "      <td>.514</td>\n",
              "      <td>.003</td>\n",
              "      <td>.197</td>\n",
              "      <td>9.3</td>\n",
              "      <td>25.9</td>\n",
              "      <td>17.3</td>\n",
              "      <td>5.8</td>\n",
              "      <td>1.1</td>\n",
              "      <td>3.4</td>\n",
              "      <td>13.6</td>\n",
              "      <td>20.4</td>\n",
              "      <td>0.2</td>\n",
              "      <td>0.9</td>\n",
              "      <td>1.0</td>\n",
              "      <td>.058</td>\n",
              "      <td>-3.4</td>\n",
              "      <td>-0.6</td>\n",
              "      <td>-4.0</td>\n",
              "      <td>-0.4</td>\n",
              "    </tr>\n",
              "  </tbody>\n",
              "</table>\n",
              "</div>"
            ],
            "text/plain": [
              "          Player Pos Age   Tm   G    MP  ...   WS WS/48  OBPM  DBPM   BPM  VORP\n",
              "0     Quincy Acy  PF  25  SAC  59   876  ...  2.5  .137  -0.2   0.2  -0.1   0.4\n",
              "1   Jordan Adams  SG  21  MEM   2    15  ...  0.0  .015  -2.5   9.4   6.9   0.0\n",
              "2   Steven Adams   C  22  OKC  80  2014  ...  6.5  .155   0.0   0.2   0.2   1.1\n",
              "3  Arron Afflalo  SG  30  NYK  71  2371  ...  2.7  .055  -1.3  -1.6  -2.9  -0.5\n",
              "4  Alexis Ajinça   C  27  NOP  59   861  ...  1.0  .058  -3.4  -0.6  -4.0  -0.4\n",
              "\n",
              "[5 rows x 26 columns]"
            ]
          },
          "metadata": {
            "tags": []
          },
          "execution_count": 7
        }
      ]
    },
    {
      "cell_type": "markdown",
      "metadata": {
        "id": "7dQPVsTuiWPf",
        "colab_type": "text"
      },
      "source": [
        "En particular, todo a partir de OWS son estadisticas que me hablan de \"cuan bueno es un jugador\", por lo que quiero ver si puedo estimar alguna en funcion de todas las previas. En particular, me voy a concentrar en WS. El objetivo que me voy a plantear es saber cuales son las estadisticas mas importantes para saber cuan bueno es un jugador."
      ]
    },
    {
      "cell_type": "code",
      "metadata": {
        "id": "zVqHfn2oAb8a",
        "colab_type": "code",
        "outputId": "f9486aa7-9e42-4d94-d4e9-0b93b1d20010",
        "colab": {
          "base_uri": "https://localhost:8080/",
          "height": 153
        }
      },
      "source": [
        "stats['Pos'].value_counts()"
      ],
      "execution_count": 0,
      "outputs": [
        {
          "output_type": "execute_result",
          "data": {
            "text/plain": [
              "PG       129\n",
              "PF       122\n",
              "SG       116\n",
              "SF       105\n",
              "C        104\n",
              "PF-C       1\n",
              "SG-SF      1\n",
              "Name: Pos, dtype: int64"
            ]
          },
          "metadata": {
            "tags": []
          },
          "execution_count": 8
        }
      ]
    },
    {
      "cell_type": "markdown",
      "metadata": {
        "id": "Jxee2t6hAC89",
        "colab_type": "text"
      },
      "source": [
        "# El procesado\n",
        "\n",
        "En principio, yo tengo mi dataframe y ahora lo unico que voy a hacer es separar en Train y Test y luego elegir mi target variable ('WS'). En particular, voy considerar jugadores que jugaron cierta cantidad de los partidos, para asegurarme de tener algo de estadistica, siempre tratando de tener una muestra suficientemente grande."
      ]
    },
    {
      "cell_type": "code",
      "metadata": {
        "id": "ruTCss2k-37Y",
        "colab_type": "code",
        "colab": {}
      },
      "source": [
        "stats_now=stats.copy()\n",
        "stats_now=stats_now[stats_now['Pos'].isin(['SG','PF','PG','C','SF'])]\n",
        "stats_now[\"G\"]=pd.to_numeric(stats_now[\"G\"])\n",
        "stats_now=stats_now[stats_now[\"G\"]>=20]\n",
        "stats_now[\"WS\"]=pd.to_numeric(stats_now[\"WS\"])"
      ],
      "execution_count": 0,
      "outputs": []
    },
    {
      "cell_type": "markdown",
      "metadata": {
        "id": "Mh8d7j-dUOFo",
        "colab_type": "text"
      },
      "source": [
        "Algo muy interesante es que la variable \"WS\" se presta mas a Regresion si uno pasa a Log(WS+2.5), donde sumo un valor minimo para evitar tener valores negativos."
      ]
    },
    {
      "cell_type": "code",
      "metadata": {
        "id": "ufdCtqwAlLIH",
        "colab_type": "code",
        "outputId": "306f6aa2-998e-435b-9f54-18d12f8acf9c",
        "colab": {
          "base_uri": "https://localhost:8080/",
          "height": 298
        }
      },
      "source": [
        "plt.hist(np.log(stats_now[\"WS\"]+2.5))\n",
        "plt.xlabel(\"WS\")\n",
        "plt.ylabel(\"# de jugadores\")"
      ],
      "execution_count": 0,
      "outputs": [
        {
          "output_type": "execute_result",
          "data": {
            "text/plain": [
              "Text(0, 0.5, '# de jugadores')"
            ]
          },
          "metadata": {
            "tags": []
          },
          "execution_count": 23
        },
        {
          "output_type": "display_data",
          "data": {
            "image/png": "[encoded data removed]",
            "text/plain": [
              "<Figure size 432x288 with 1 Axes>"
            ]
          },
          "metadata": {
            "tags": [],
            "needs_background": "light"
          }
        }
      ]
    },
    {
      "cell_type": "markdown",
      "metadata": {
        "id": "cGWbDIeKUapp",
        "colab_type": "text"
      },
      "source": [
        "Es mejor para regresion porque la distribucion esta mas concentrada y no tengo regiones subrepresentadas."
      ]
    },
    {
      "cell_type": "code",
      "metadata": {
        "id": "Pqlnb72dZwJc",
        "colab_type": "code",
        "outputId": "87d3e3aa-6214-46d6-920b-12dce80f10e0",
        "colab": {
          "base_uri": "https://localhost:8080/",
          "height": 578
        }
      },
      "source": [
        "print(stats_now.iloc[np.where(stats_now[\"WS\"]<0.0)])#el peor de todos"
      ],
      "execution_count": 0,
      "outputs": [
        {
          "output_type": "stream",
          "text": [
            "                  Player Pos Age   Tm   G  ...   WS/48  OBPM  DBPM   BPM  VORP\n",
            "11          Lou Amundson  PF  33  NYK  29  ...  -0.014  -6.7  -0.2  -6.9  -0.3\n",
            "16        James Anderson  SG  26  SAC  51  ...  -0.017  -3.9  -0.6  -4.5  -0.5\n",
            "55          DeJuan Blair   C  26  WAS  29  ...  -0.015  -8.1  -0.7  -8.9  -0.4\n",
            "69         Anthony Brown  SF  23  LAL  29  ...  -0.024  -4.5  -1.0  -5.5  -0.5\n",
            "72          Kobe Bryant*  SF  37  LAL  66  ...  -0.010   0.9  -2.4  -1.6   0.2\n",
            "101          Norris Cole  PG  27  NOP  45  ...  -0.004  -2.9  -0.9  -3.8  -0.5\n",
            "105      Pat Connaughton  SG  23  POR  34  ...  -0.076  -4.8  -3.2  -8.0  -0.2\n",
            "106       Chris Copeland  PF  31  MIL  24  ...  -0.017  -3.3  -3.1  -6.4  -0.2\n",
            "167          Tim Frazier  PG  25  POR  35  ...  -0.051  -6.3  -0.4  -6.8  -0.3\n",
            "247       Justin Holiday  SG  26  ATL  26  ...  -0.021  -6.1   0.4  -5.6  -0.2\n",
            "257      Marcelo Huertas  PG  32  LAL  53  ...  -0.006  -2.7  -2.2  -5.0  -0.7\n",
            "270        Damien Inglis  SF  20  MIL  20  ...  -0.024  -4.9  -0.6  -5.6  -0.1\n",
            "280         John Jenkins  SG  24  DAL  21  ...  -0.033  -4.3  -1.3  -5.7  -0.2\n",
            "351         Devyn Marble  SG  23  ORL  28  ...  -0.026  -6.0  -0.1  -6.2  -0.3\n",
            "353     Kendall Marshall  PG  24  PHI  30  ...  -0.064  -4.7  -2.6  -7.3  -0.5\n",
            "360            O.J. Mayo  SG  28  MIL  41  ...  -0.005  -3.8  -0.2  -4.0  -0.6\n",
            "399      Markieff Morris  PF  26  PHO  37  ...  -0.029  -3.1  -0.5  -3.7  -0.4\n",
            "404      Emmanuel Mudiay  PG  19  DEN  68  ...  -0.049  -2.3  -1.9  -4.2  -1.2\n",
            "432  Kostas Papanikolaou  SF  25  DEN  26  ...  -0.022  -4.7   0.2  -4.5  -0.2\n",
            "439        Adreian Payne  PF  24  MIN  52  ...  -0.047  -6.1  -0.2  -6.2  -0.5\n",
            "443     Kendrick Perkins   C  31  NOP  37  ...  -0.007  -5.2   0.2  -5.0  -0.4\n",
            "454         Phil Pressey  PG  24  TOT  23  ...  -0.017  -3.3   0.1  -3.2  -0.1\n",
            "477         Terry Rozier  PG  21  BOS  39  ...  -0.047  -4.7  -1.4  -6.1  -0.3\n",
            "484       JaKarr Sampson  SF  22  PHI  47  ...  -0.021  -5.4  -1.3  -6.7  -0.8\n",
            "490       Kevin Séraphin   C  26  NYK  48  ...  -0.015  -4.4   0.6  -3.8  -0.2\n",
            "507           Josh Smith  PF  30  HOU  23  ...  -0.040  -4.3  -1.6  -5.9  -0.4\n",
            "555      Greivis Vásquez  PG  29  MIL  23  ...  -0.033  -3.4  -2.9  -6.2  -0.5\n",
            "556        Rashad Vaughn  SG  19  MIL  70  ...  -0.036  -4.4  -1.3  -5.7  -0.9\n",
            "572          Sonny Weems  SG  29  PHO  36  ...  -0.043  -5.2  -1.5  -6.7  -0.5\n",
            "596            Joe Young  PG  23  IND  41  ...  -0.009  -3.9  -0.8  -4.7  -0.3\n",
            "\n",
            "[30 rows x 26 columns]\n"
          ],
          "name": "stdout"
        }
      ]
    },
    {
      "cell_type": "markdown",
      "metadata": {
        "id": "gKQTVHYm63jA",
        "colab_type": "text"
      },
      "source": [
        "Viendo WS tengo un par de opciones. En particular, aca voy a asignar clases dependiendo del cuartil de WS al que pertenece el jugador o a un sistema de binnes hecho de manera tal que el top 25 de jugadores este en su propia categoria. \n"
      ]
    },
    {
      "cell_type": "code",
      "metadata": {
        "id": "QbjgmMxG6_8s",
        "colab_type": "code",
        "outputId": "8886d875-b932-424c-cd87-e1470d99a5fa",
        "colab": {
          "base_uri": "https://localhost:8080/",
          "height": 102
        }
      },
      "source": [
        "stats_now=stats_now[stats_now[\"WS\"]>=-1.0]\n",
        "#stats_now[\"X_q\"]=pd.qcut(stats_now['WS/48'], 4)\n",
        "#stats_now[\"X_q\"]=pd.qcut(stats_now['WS'].values, 4).codes\n",
        "stats_now[\"X_q\"]=pd.cut(stats_now['WS'].values, bins=[-1.0,0.0,3.0,8.0,19]).codes\n",
        "print(stats_now[\"X_q\"].value_counts())\n",
        "stats_now[\"X\"]=np.log(stats_now[\"WS\"]+2.5)"
      ],
      "execution_count": 0,
      "outputs": [
        {
          "output_type": "stream",
          "text": [
            "1    270\n",
            "2    141\n",
            "0     35\n",
            "3     25\n",
            "Name: X_q, dtype: int64\n"
          ],
          "name": "stdout"
        }
      ]
    },
    {
      "cell_type": "code",
      "metadata": {
        "id": "ldI41Gzeqfl2",
        "colab_type": "code",
        "outputId": "06bf8984-30ea-4e00-b621-403b96de1ddb",
        "colab": {
          "base_uri": "https://localhost:8080/",
          "height": 85
        }
      },
      "source": [
        "print(stats_now.iloc[np.where(stats_now[\"Player\"]==\"LeBron James\")])"
      ],
      "execution_count": 0,
      "outputs": [
        {
          "output_type": "stream",
          "text": [
            "           Player Pos Age   Tm   G    MP  ... WS/48 OBPM DBPM  BPM VORP X_q\n",
            "275  LeBron James  SF  31  CLE  76  2709  ...  .242  7.0  2.0  9.0  7.5   3\n",
            "\n",
            "[1 rows x 27 columns]\n"
          ],
          "name": "stdout"
        }
      ]
    },
    {
      "cell_type": "markdown",
      "metadata": {
        "id": "ETnfPfXtUvZQ",
        "colab_type": "text"
      },
      "source": [
        "Veamos si hay jugadores repetidos:"
      ]
    },
    {
      "cell_type": "code",
      "metadata": {
        "id": "USICzbaRAqPV",
        "colab_type": "code",
        "outputId": "ffe4feb3-7504-457c-d498-02994ca820fa",
        "colab": {
          "base_uri": "https://localhost:8080/",
          "height": 520
        }
      },
      "source": [
        "print(stats_now['Player'].value_counts())\n",
        "plt.hist(stats_now['Player'].value_counts())"
      ],
      "execution_count": 0,
      "outputs": [
        {
          "output_type": "stream",
          "text": [
            "JaKarr Sampson      2\n",
            "Lance Stephenson    2\n",
            "Tobias Harris       2\n",
            "Ty Lawson           2\n",
            "Joe Johnson         2\n",
            "                   ..\n",
            "Brian Roberts       1\n",
            "Brandon Rush        1\n",
            "Patty Mills         1\n",
            "Kyle Korver         1\n",
            "Rajon Rondo         1\n",
            "Name: Player, Length: 343, dtype: int64\n"
          ],
          "name": "stdout"
        },
        {
          "output_type": "execute_result",
          "data": {
            "text/plain": [
              "(array([328.,   0.,   0.,   0.,   0.,   0.,   0.,   0.,   0.,  15.]),\n",
              " array([1. , 1.1, 1.2, 1.3, 1.4, 1.5, 1.6, 1.7, 1.8, 1.9, 2. ]),\n",
              " <a list of 10 Patch objects>)"
            ]
          },
          "metadata": {
            "tags": []
          },
          "execution_count": 51
        },
        {
          "output_type": "display_data",
          "data": {
            "image/png": "[encoded data removed]",
            "text/plain": [
              "<Figure size 432x288 with 1 Axes>"
            ]
          },
          "metadata": {
            "tags": [],
            "needs_background": "light"
          }
        }
      ]
    },
    {
      "cell_type": "markdown",
      "metadata": {
        "id": "lL0wBLSTUzHf",
        "colab_type": "text"
      },
      "source": [
        "Los hay pero son pocos por lo que no me voy a gastar en corregirlo.\n",
        "\n",
        "Convirtamos la posicion en un valor numerico."
      ]
    },
    {
      "cell_type": "code",
      "metadata": {
        "id": "GBu5O4nGEyVP",
        "colab_type": "code",
        "outputId": "10f3b69d-b3cf-4640-a706-b8e1e876f7a4",
        "colab": {
          "base_uri": "https://localhost:8080/",
          "height": 119
        }
      },
      "source": [
        "stats_now=stats_now.replace(['PG','SG','SF','PF','C'],[1,2,3,4,5])\n",
        "stats_now['Pos'].value_counts()"
      ],
      "execution_count": 0,
      "outputs": [
        {
          "output_type": "execute_result",
          "data": {
            "text/plain": [
              "4    99\n",
              "2    99\n",
              "1    98\n",
              "3    89\n",
              "5    86\n",
              "Name: Pos, dtype: int64"
            ]
          },
          "metadata": {
            "tags": []
          },
          "execution_count": 25
        }
      ]
    },
    {
      "cell_type": "markdown",
      "metadata": {
        "id": "6-Hc1w_RU5oF",
        "colab_type": "text"
      },
      "source": [
        "Revisemos que no hayan celdas vacias. Como es texto, utilizo el siguiente comando."
      ]
    },
    {
      "cell_type": "code",
      "metadata": {
        "id": "VoUHjE6uzNJi",
        "colab_type": "code",
        "outputId": "67d24764-ca31-41b6-aca5-4c9c406a755c",
        "colab": {
          "base_uri": "https://localhost:8080/",
          "height": 34
        }
      },
      "source": [
        "np.where(stats_now.applymap(lambda x: x == ''))"
      ],
      "execution_count": 0,
      "outputs": [
        {
          "output_type": "execute_result",
          "data": {
            "text/plain": [
              "(array([], dtype=int64), array([], dtype=int64))"
            ]
          },
          "metadata": {
            "tags": []
          },
          "execution_count": 24
        }
      ]
    },
    {
      "cell_type": "markdown",
      "metadata": {
        "id": "8XZ4SKpalD2r",
        "colab_type": "text"
      },
      "source": [
        "En particular, voy a estratificar (esto no se hace falta si hice cuartiles pero es necesario si utilice bines fijos)\n",
        "\n"
      ]
    },
    {
      "cell_type": "code",
      "metadata": {
        "id": "K2128Xh5BViN",
        "colab_type": "code",
        "colab": {}
      },
      "source": [
        "from sklearn.model_selection import StratifiedShuffleSplit\n",
        "split = StratifiedShuffleSplit(n_splits=1, test_size=0.2, random_state=445543)\n",
        "for train_index, test_index in split.split(stats_now, stats_now[\"X_q\"]):\n",
        "    strat_train_set = stats_now.iloc[train_index]\n",
        "    strat_test_set = stats_now.iloc[test_index]"
      ],
      "execution_count": 0,
      "outputs": []
    },
    {
      "cell_type": "markdown",
      "metadata": {
        "id": "j8j2Z8nxC3gV",
        "colab_type": "text"
      },
      "source": [
        "Veamos si puedo implementar un ~clasificador~ regresor."
      ]
    },
    {
      "cell_type": "code",
      "metadata": {
        "id": "Db0ehNgVC0JI",
        "colab_type": "code",
        "colab": {}
      },
      "source": [
        "stats_train = strat_train_set.drop([\"Player\",\"Tm\",\"X\",\"X_q\",\"OWS\",\"DWS\",\"WS\",\"WS/48\",\"OBPM\",\"DBPM\",\"BPM\",\"VORP\"], axis=1) # drop labels for training set\n",
        "stats_train_labels = strat_train_set[\"X\"].copy()\n",
        "stats_test = strat_test_set.drop([\"Player\",\"Tm\",\"X\",\"X_q\",\"OWS\",\"DWS\",\"WS\",\"WS/48\",\"OBPM\",\"DBPM\",\"BPM\",\"VORP\"], axis=1) # drop labels for training set\n",
        "stats_test_labels = strat_test_set[\"X\"].copy()\n"
      ],
      "execution_count": 0,
      "outputs": []
    },
    {
      "cell_type": "markdown",
      "metadata": {
        "id": "lICJfuGkVE-_",
        "colab_type": "text"
      },
      "source": [
        "Veamos cuantos datos tengo para interpolar:"
      ]
    },
    {
      "cell_type": "code",
      "metadata": {
        "id": "fTGq55HYgBkf",
        "colab_type": "code",
        "outputId": "cef0614e-a612-4d4b-9d7f-ed719b8cc9bd",
        "colab": {
          "base_uri": "https://localhost:8080/",
          "height": 34
        }
      },
      "source": [
        "print(len(stats_train))"
      ],
      "execution_count": 0,
      "outputs": [
        {
          "output_type": "stream",
          "text": [
            "376\n"
          ],
          "name": "stdout"
        }
      ]
    },
    {
      "cell_type": "markdown",
      "metadata": {
        "id": "1_z1KN2hVLoN",
        "colab_type": "text"
      },
      "source": [
        "Armo una grilla para buscar los parametros que mejor interpolen utilizando cross-validation:"
      ]
    },
    {
      "cell_type": "code",
      "metadata": {
        "id": "foDLdYGnDjSA",
        "colab_type": "code",
        "outputId": "6c56e3a4-be08-48cb-e10e-a13be546a3b8",
        "colab": {
          "base_uri": "https://localhost:8080/",
          "height": 425
        }
      },
      "source": [
        "from sklearn.model_selection import GridSearchCV\n",
        "\n",
        "clf = AdaBoostRegressor(base_estimator=DecisionTreeRegressor())\n",
        "\n",
        "param_grid = {#\"base_estimator__criterion\" : [\"gini\", \"entropy\"],\n",
        "              \"base_estimator__splitter\" :   [\"best\"],\n",
        "              \"base_estimator__max_depth\": [3,4],\n",
        "              \"base_estimator__max_features\": [5],\n",
        "              \"base_estimator__min_samples_leaf\": [5],\n",
        "              \"learning_rate\": [0.1,1.0],\n",
        "              \"n_estimators\": [10,20,30]\n",
        "             }\n",
        "\n",
        "# run grid search\n",
        "grid_search = GridSearchCV(clf, cv=10, param_grid=param_grid)\n",
        "grid_search.fit(stats_train, stats_train_labels)"
      ],
      "execution_count": 0,
      "outputs": [
        {
          "output_type": "execute_result",
          "data": {
            "text/plain": [
              "GridSearchCV(cv=10, error_score=nan,\n",
              "             estimator=AdaBoostRegressor(base_estimator=DecisionTreeRegressor(ccp_alpha=0.0,\n",
              "                                                                              criterion='mse',\n",
              "                                                                              max_depth=None,\n",
              "                                                                              max_features=None,\n",
              "                                                                              max_leaf_nodes=None,\n",
              "                                                                              min_impurity_decrease=0.0,\n",
              "                                                                              min_impurity_split=None,\n",
              "                                                                              min_samples_leaf=1,\n",
              "                                                                              min_samples_split=2,\n",
              "                                                                              min_weight_fraction_leaf=0.0,\n",
              "                                                                              presort='deprecated',\n",
              "                                                                              random_state=None,\n",
              "                                                                              splitter='...\n",
              "                                         n_estimators=50, random_state=None),\n",
              "             iid='deprecated', n_jobs=None,\n",
              "             param_grid={'base_estimator__max_depth': [3, 4],\n",
              "                         'base_estimator__max_features': [5],\n",
              "                         'base_estimator__min_samples_leaf': [5],\n",
              "                         'base_estimator__splitter': ['best'],\n",
              "                         'learning_rate': [0.1, 1.0],\n",
              "                         'n_estimators': [10, 20, 30]},\n",
              "             pre_dispatch='2*n_jobs', refit=True, return_train_score=False,\n",
              "             scoring=None, verbose=0)"
            ]
          },
          "metadata": {
            "tags": []
          },
          "execution_count": 39
        }
      ]
    },
    {
      "cell_type": "code",
      "metadata": {
        "id": "zET3eVkmNJOZ",
        "colab_type": "code",
        "outputId": "601fa194-aff7-42a5-fc54-3349c7aafc15",
        "colab": {
          "base_uri": "https://localhost:8080/",
          "height": 357
        }
      },
      "source": [
        "print(grid_search.best_estimator_)\n",
        "print(grid_search.best_score_)\n",
        "print(grid_search.cv_results_['mean_test_score'])\n",
        "print(grid_search.cv_results_['std_test_score'])"
      ],
      "execution_count": 0,
      "outputs": [
        {
          "output_type": "stream",
          "text": [
            "AdaBoostRegressor(base_estimator=DecisionTreeRegressor(ccp_alpha=0.0,\n",
            "                                                       criterion='mse',\n",
            "                                                       max_depth=4,\n",
            "                                                       max_features=5,\n",
            "                                                       max_leaf_nodes=None,\n",
            "                                                       min_impurity_decrease=0.0,\n",
            "                                                       min_impurity_split=None,\n",
            "                                                       min_samples_leaf=5,\n",
            "                                                       min_samples_split=2,\n",
            "                                                       min_weight_fraction_leaf=0.0,\n",
            "                                                       presort='deprecated',\n",
            "                                                       random_state=None,\n",
            "                                                       splitter='best'),\n",
            "                  learning_rate=1.0, loss='linear', n_estimators=30,\n",
            "                  random_state=None)\n",
            "0.8442176764759332\n",
            "[0.7501391  0.79375107 0.7948133  0.78040984 0.80122835 0.82382994\n",
            " 0.79384342 0.82507231 0.83903683 0.81893302 0.82701261 0.84421768]\n",
            "[0.08929071 0.05370873 0.04370959 0.0352077  0.03748783 0.03143558\n",
            " 0.03272621 0.04673337 0.04451407 0.04673741 0.05200609 0.03579827]\n"
          ],
          "name": "stdout"
        }
      ]
    },
    {
      "cell_type": "markdown",
      "metadata": {
        "id": "B39h3e8P2b3M",
        "colab_type": "text"
      },
      "source": [
        "Veamos cuanto overfitting hay comparando el mejor resultado con el resultado de fittear ese mejor modelo en todo el dataset de entrenamiento:"
      ]
    },
    {
      "cell_type": "code",
      "metadata": {
        "id": "XnKijgM1BrtF",
        "colab_type": "code",
        "outputId": "6ee628d1-eaf6-4601-b2cd-68f727343766",
        "colab": {
          "base_uri": "https://localhost:8080/",
          "height": 34
        }
      },
      "source": [
        "mejor_estimador=grid_search.best_estimator_\n",
        "mejor_estimador.fit(stats_train, stats_train_labels)\n",
        "print(\"Results is: \", mejor_estimador.score(stats_train, stats_train_labels))"
      ],
      "execution_count": 0,
      "outputs": [
        {
          "output_type": "stream",
          "text": [
            "Results is:  0.9323808700296812\n"
          ],
          "name": "stdout"
        }
      ]
    },
    {
      "cell_type": "markdown",
      "metadata": {
        "id": "jvOn__n9VX-6",
        "colab_type": "text"
      },
      "source": [
        "Una ventaja de utilizar DT en cantidad es poder evaluar importancia de features."
      ]
    },
    {
      "cell_type": "code",
      "metadata": {
        "id": "cBS431ttEFN3",
        "colab_type": "code",
        "outputId": "15e547d1-27e2-4af9-9663-efd8ac1f2b01",
        "colab": {
          "base_uri": "https://localhost:8080/",
          "height": 289
        }
      },
      "source": [
        "features=np.asarray(list(stats_train.columns.values))\n",
        "for i in range(len(features)):\n",
        "  print((features[i],mejor_estimador.feature_importances_[i]))"
      ],
      "execution_count": 0,
      "outputs": [
        {
          "output_type": "stream",
          "text": [
            "('Pos', 0.0054784661838256)\n",
            "('Age', 0.020475047173366352)\n",
            "('G', 0.14246031607812457)\n",
            "('MP', 0.2363089023726008)\n",
            "('PER', 0.2093044108230553)\n",
            "('TS%', 0.2602024139753787)\n",
            "('3PAr', 0.0042042527470923866)\n",
            "('FTr', 0.013928413698160372)\n",
            "('ORB%', 0.01071639325632799)\n",
            "('DRB%', 0.008863955738267306)\n",
            "('TRB%', 0.022232297288982513)\n",
            "('AST%', 0.006276238354052862)\n",
            "('STL%', 0.012876654559349028)\n",
            "('BLK%', 0.014864189811728351)\n",
            "('TOV%', 0.022311939453910596)\n",
            "('USG%', 0.009496108485777236)\n"
          ],
          "name": "stdout"
        }
      ]
    },
    {
      "cell_type": "markdown",
      "metadata": {
        "id": "czpABPIuVgYz",
        "colab_type": "text"
      },
      "source": [
        "De aqui podemos ver cuales son mas relevantes a la hora de estudiar \"WS\". Otra manera hubiese sido estudiar correlaciones, etc."
      ]
    },
    {
      "cell_type": "markdown",
      "metadata": {
        "id": "bcjH5gpGVmWQ",
        "colab_type": "text"
      },
      "source": [
        "Veamos algun caso conocido para ver la prediccion"
      ]
    },
    {
      "cell_type": "code",
      "metadata": {
        "id": "fexy-Io7GNA-",
        "colab_type": "code",
        "outputId": "761eb6a5-0a9a-411a-b96b-2aaff2c11814",
        "colab": {
          "base_uri": "https://localhost:8080/",
          "height": 34
        }
      },
      "source": [
        "mejor_estimador.predict(stats_train.iloc[np.where(strat_train_set[\"Player\"]==\"James Harden\")])"
      ],
      "execution_count": 0,
      "outputs": [
        {
          "output_type": "execute_result",
          "data": {
            "text/plain": [
              "array([2.37742055])"
            ]
          },
          "metadata": {
            "tags": []
          },
          "execution_count": 34
        }
      ]
    },
    {
      "cell_type": "markdown",
      "metadata": {
        "id": "DrIwb-z2VplS",
        "colab_type": "text"
      },
      "source": [
        "Ahora dejo algunos codigos hechos para clasificaciones y para regresion"
      ]
    },
    {
      "cell_type": "markdown",
      "metadata": {
        "id": "MWqUwnXPVsbz",
        "colab_type": "text"
      },
      "source": [
        "#Clasificacion"
      ]
    },
    {
      "cell_type": "markdown",
      "metadata": {
        "id": "uIZw9yg9-Sxz",
        "colab_type": "text"
      },
      "source": [
        "Podemos sacar mas informacion viendo la matriz de confusion"
      ]
    },
    {
      "cell_type": "code",
      "metadata": {
        "id": "ENB4CAH29xvp",
        "colab_type": "code",
        "outputId": "4d2de741-3254-41b3-c5e8-fc57988a4cb1",
        "colab": {
          "base_uri": "https://localhost:8080/",
          "height": 85
        }
      },
      "source": [
        "from sklearn.metrics import confusion_matrix\n",
        "confusion_matrix(stats_train_labels,mejor_estimador.predict(stats_train))"
      ],
      "execution_count": 0,
      "outputs": [
        {
          "output_type": "execute_result",
          "data": {
            "text/plain": [
              "array([[ 11,   0,   0,   0],\n",
              "       [  0, 144,   0,   0],\n",
              "       [  0,   0, 111,   0],\n",
              "       [  0,   0,   0,  20]])"
            ]
          },
          "metadata": {
            "tags": []
          },
          "execution_count": 32
        }
      ]
    },
    {
      "cell_type": "markdown",
      "metadata": {
        "id": "5glfoO1P-U60",
        "colab_type": "text"
      },
      "source": [
        "En efecto, algo que esta muy bien es que solo puedo mal interpretar de un cuartil a sus vecinos. Es decir, no voy a asignar a un jugador con muy bajo WS al cuartil con mas alto WS."
      ]
    },
    {
      "cell_type": "markdown",
      "metadata": {
        "id": "aRsAU5Hmgz_f",
        "colab_type": "text"
      },
      "source": [
        "En particular, vamos a ver en que jugadores le pifio:"
      ]
    },
    {
      "cell_type": "code",
      "metadata": {
        "id": "EIxtBYr5cWA7",
        "colab_type": "code",
        "outputId": "20302125-eaf2-43d1-fb38-097927e930c0",
        "colab": {
          "base_uri": "https://localhost:8080/",
          "height": 282
        }
      },
      "source": [
        "strat_train_set.iloc[np.where(mejor_estimador.predict(stats_train)!=stats_train_labels)][\"X_q\"].hist()"
      ],
      "execution_count": 0,
      "outputs": [
        {
          "output_type": "execute_result",
          "data": {
            "text/plain": [
              "<matplotlib.axes._subplots.AxesSubplot at 0x7fbc576567b8>"
            ]
          },
          "metadata": {
            "tags": []
          },
          "execution_count": 102
        },
        {
          "output_type": "display_data",
          "data": {
            "image/png": "[encoded data removed]",
            "text/plain": [
              "<Figure size 432x288 with 1 Axes>"
            ]
          },
          "metadata": {
            "tags": [],
            "needs_background": "light"
          }
        }
      ]
    },
    {
      "cell_type": "markdown",
      "metadata": {
        "id": "ynXa2zSc4kJK",
        "colab_type": "text"
      },
      "source": [
        "En particular, que jugadores \"de elite\" estoy pifiando?"
      ]
    },
    {
      "cell_type": "code",
      "metadata": {
        "id": "t9Pi8rqMg7CC",
        "colab_type": "code",
        "outputId": "9c03cc89-b251-473b-dda3-fb29ba45a64f",
        "colab": {
          "base_uri": "https://localhost:8080/",
          "height": 49
        }
      },
      "source": [
        "strat_train_set.iloc[np.where(mejor_estimador.predict(stats_train)!=stats_train_labels)][[\"Player\",\"X_q\"]]"
      ],
      "execution_count": 0,
      "outputs": [
        {
          "output_type": "execute_result",
          "data": {
            "text/html": [
              "<div>\n",
              "<style scoped>\n",
              "    .dataframe tbody tr th:only-of-type {\n",
              "        vertical-align: middle;\n",
              "    }\n",
              "\n",
              "    .dataframe tbody tr th {\n",
              "        vertical-align: top;\n",
              "    }\n",
              "\n",
              "    .dataframe thead th {\n",
              "        text-align: right;\n",
              "    }\n",
              "</style>\n",
              "<table border=\"1\" class=\"dataframe\">\n",
              "  <thead>\n",
              "    <tr style=\"text-align: right;\">\n",
              "      <th></th>\n",
              "      <th>Player</th>\n",
              "      <th>X_q</th>\n",
              "    </tr>\n",
              "  </thead>\n",
              "  <tbody>\n",
              "  </tbody>\n",
              "</table>\n",
              "</div>"
            ],
            "text/plain": [
              "Empty DataFrame\n",
              "Columns: [Player, X_q]\n",
              "Index: []"
            ]
          },
          "metadata": {
            "tags": []
          },
          "execution_count": 103
        }
      ]
    },
    {
      "cell_type": "markdown",
      "metadata": {
        "id": "JkWA3lI0ieOF",
        "colab_type": "text"
      },
      "source": [
        "#Regresion\n",
        "\n",
        "Si hice regresion, puedo ver cuan adecuada es mi interpolacion graficando prediccion vs realidad"
      ]
    },
    {
      "cell_type": "code",
      "metadata": {
        "id": "5YL8X9o-hr8P",
        "colab_type": "code",
        "outputId": "ebb1ef68-f758-4c9e-c803-18976fb0ad3e",
        "colab": {
          "base_uri": "https://localhost:8080/",
          "height": 296
        }
      },
      "source": [
        "plt.scatter(stats_train_labels,mejor_estimador.predict(stats_train))\n",
        "x=np.linspace(0.5,3,3)\n",
        "plt.plot(x,x)\n",
        "plt.xlabel(\"Log(WS+2.5) true\")\n",
        "plt.ylabel(\"Log(WS+2.5) predicted\")"
      ],
      "execution_count": 0,
      "outputs": [
        {
          "output_type": "execute_result",
          "data": {
            "text/plain": [
              "Text(0, 0.5, 'Log(WS+2.5) predicted')"
            ]
          },
          "metadata": {
            "tags": []
          },
          "execution_count": 43
        },
        {
          "output_type": "display_data",
          "data": {
            "image/png": "[encoded data removed]",
            "text/plain": [
              "<Figure size 432x288 with 1 Axes>"
            ]
          },
          "metadata": {
            "tags": [],
            "needs_background": "light"
          }
        }
      ]
    },
    {
      "cell_type": "markdown",
      "metadata": {
        "id": "D3LO-hS_V7Nr",
        "colab_type": "text"
      },
      "source": [
        "O directamente graficando ambas distribuciones"
      ]
    },
    {
      "cell_type": "code",
      "metadata": {
        "id": "IFMbRHWbhw7P",
        "colab_type": "code",
        "outputId": "faf85f85-1af5-4ffc-ebf7-ff04dd4febcf",
        "colab": {
          "base_uri": "https://localhost:8080/",
          "height": 350
        }
      },
      "source": [
        "plt.hist(stats_train_labels,label='Train',histtype='step')\n",
        "plt.hist(mejor_estimador.predict(stats_train),label='Prediccion',histtype='step')"
      ],
      "execution_count": 0,
      "outputs": [
        {
          "output_type": "execute_result",
          "data": {
            "text/plain": [
              "(array([26., 38., 78., 56., 51., 52., 32., 19., 20.,  4.]),\n",
              " array([0.75159762, 0.93906896, 1.1265403 , 1.31401164, 1.50148299,\n",
              "        1.68895433, 1.87642567, 2.06389701, 2.25136835, 2.43883969,\n",
              "        2.62631103]),\n",
              " <a list of 1 Patch objects>)"
            ]
          },
          "metadata": {
            "tags": []
          },
          "execution_count": 44
        },
        {
          "output_type": "display_data",
          "data": {
            "image/png": "[encoded data removed]",
            "text/plain": [
              "<Figure size 432x288 with 1 Axes>"
            ]
          },
          "metadata": {
            "tags": [],
            "needs_background": "light"
          }
        }
      ]
    },
    {
      "cell_type": "markdown",
      "metadata": {
        "id": "xKdymENw-q0s",
        "colab_type": "text"
      },
      "source": [
        "Veamos el test. Nuevamente divido en clasficacion y en regresion"
      ]
    },
    {
      "cell_type": "markdown",
      "metadata": {
        "id": "xWea29HBWC-Z",
        "colab_type": "text"
      },
      "source": [
        "# Clasificacion"
      ]
    },
    {
      "cell_type": "code",
      "metadata": {
        "id": "IOo0BkEMcR8W",
        "colab_type": "code",
        "outputId": "3de58dcf-6cb1-4114-e642-cfbccb0d7e21",
        "colab": {
          "base_uri": "https://localhost:8080/",
          "height": 102
        }
      },
      "source": [
        "print(mejor_estimador.score(stats_test, stats_test_labels))\n",
        "print(confusion_matrix(stats_test_labels,mejor_estimador.predict(stats_test)))"
      ],
      "execution_count": 0,
      "outputs": [
        {
          "output_type": "stream",
          "text": [
            "0.8055555555555556\n",
            "[[ 0  3  0  0]\n",
            " [ 0 33  3  0]\n",
            " [ 0  4 24  0]\n",
            " [ 0  0  4  1]]\n"
          ],
          "name": "stdout"
        }
      ]
    },
    {
      "cell_type": "markdown",
      "metadata": {
        "id": "xAZmIhB0WGJm",
        "colab_type": "text"
      },
      "source": [
        "# Regresion"
      ]
    },
    {
      "cell_type": "code",
      "metadata": {
        "id": "AXka7qkiln4W",
        "colab_type": "code",
        "outputId": "a62a42c2-e10a-4dca-8278-7cab9434cc42",
        "colab": {
          "base_uri": "https://localhost:8080/",
          "height": 296
        }
      },
      "source": [
        "plt.scatter(stats_test_labels,mejor_estimador.predict(stats_test))\n",
        "x=np.linspace(0.5,3,3)\n",
        "plt.plot(x,x)\n",
        "plt.xlabel(\"Log(WS+2.5) true\")\n",
        "plt.ylabel(\"Log(WS+2.5) predicted\")"
      ],
      "execution_count": 0,
      "outputs": [
        {
          "output_type": "execute_result",
          "data": {
            "text/plain": [
              "Text(0, 0.5, 'Log(WS+2.5) predicted')"
            ]
          },
          "metadata": {
            "tags": []
          },
          "execution_count": 45
        },
        {
          "output_type": "display_data",
          "data": {
            "image/png": "[encoded data removed]",
            "text/plain": [
              "<Figure size 432x288 with 1 Axes>"
            ]
          },
          "metadata": {
            "tags": [],
            "needs_background": "light"
          }
        }
      ]
    },
    {
      "cell_type": "code",
      "metadata": {
        "id": "Xnsvv6394sV4",
        "colab_type": "code",
        "colab": {}
      },
      "source": [
        ""
      ],
      "execution_count": 0,
      "outputs": []
    }
  ]
}