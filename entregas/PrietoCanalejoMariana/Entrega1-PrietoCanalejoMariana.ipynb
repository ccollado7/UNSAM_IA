{
 "cells": [
  {
   "cell_type": "markdown",
   "metadata": {},
   "source": [
    "## Presentación\n",
    "\n",
    "Estos ejercicios tienen el fin de poder evaluar la situación en la que se encuentra cada unx de ustedes a esta altura de la materia. No es un examen, ni llevará ningún tipo de nota.\n",
    "\n",
    "Les pedimos que respeten al pie de la letra el nombre de las funciones que les damos para completar y su \"signature\". Esto es, que respeten los argumentos de entrada y la salida. Esto es porque tenemos una forma de verificación automática que de otra manera no funciona. Cuando hayamos recibido los notebooks, haremos público el código de control.\n",
    "\n",
    "Por supuesto, si quieren agregar celdas y más código, si quieren hacer pruebas para asegurarse de que el código funciona, etc., pueden hacerlo aquí mismo.\n",
    "\n",
    "La _modalidad de entrega preferencial_ es a través de GitHub:\n",
    "1. Hacer un fork del [repositorio](https://github.com/exord/UNSAM_IA), tocando el botón de arriba a la derecha (ver figura). \n",
    "\n",
    "2. Crear un subdirectorio dentro del directorio <tt>entregas</tt> con el formato \"ApellidoNombre\"\n",
    "3. Completar este notebook y colocarlo en ese directorio. Hacer un \"commit\" y un \"push\" a su versión del repositorio.\n",
    "4. Realizar un <tt>pull request</tt> desde GitHub y seguir las instrucciones. Más información en la [página de GitHub](https://help.github.com/en/github/collaborating-with-issues-and-pull-requests/about-pull-requests).\n",
    "\n",
    "De ser necesario, en caso de sufrir de **alergia severa a GitHub**, el notebook puede enviarse por email.\n",
    "\n",
    "La **fecha límite** para la entrega es el **martes 21 de abril a las 20 horas**.\n",
    "\n",
    "<figure>\n",
    "    <img src=\"figures/fork_pullrequest.jpeg\", alt=\"Fork\", width=\"800px\", \n",
    "         style=\"float: left; margin-right: 10px;\"/>\n",
    "    \n",
    "     <figcaption>Fig.1 - Ubicación de los botones para Fork y Pull request en Github.</figcaption>\n",
    "</figure>"
   ]
  },
  {
   "cell_type": "markdown",
   "metadata": {
    "colab_type": "text",
    "id": "xQGJAaz9My8p"
   },
   "source": [
    "## 1. Probabilidad Condicional"
   ]
  },
  {
   "cell_type": "code",
   "execution_count": 1,
   "metadata": {
    "colab": {},
    "colab_type": "code",
    "id": "UV8ZHtWoMWVd"
   },
   "outputs": [
    {
     "name": "stdout",
     "output_type": "stream",
     "text": [
      "--2020-04-22 16:02:52--  https://raw.githubusercontent.com/exord/UNSAM_IA/master/datasets/student-alcohol-consumption/student-mat.csv\n",
      "Resolviendo raw.githubusercontent.com (raw.githubusercontent.com)... 151.101.216.133\n",
      "Conectando con raw.githubusercontent.com (raw.githubusercontent.com)[151.101.216.133]:443... conectado.\n",
      "Petición HTTP enviada, esperando respuesta... 200 OK\n",
      "Longitud: 41983 (41K) [text/plain]\n",
      "Guardando como: “student-mat.csv”\n",
      "\n",
      "student-mat.csv     100%[===================>]  41,00K  --.-KB/s    en 0,04s   \n",
      "\n",
      "2020-04-22 16:02:53 (1,05 MB/s) - “student-mat.csv” guardado [41983/41983]\n",
      "\n"
     ]
    }
   ],
   "source": [
    "#Si estas en Google Colab, ejecuta esta celda una unica vez:\n",
    "!mkdir datasets\n",
    "!mkdir datasets/student-alcohol-consumption\n",
    "!wget https://raw.githubusercontent.com/exord/UNSAM_IA/master/datasets/student-alcohol-consumption/student-mat.csv\n",
    "!mv student-mat.csv datasets/student-alcohol-consumption/student-mat.csv"
   ]
  },
  {
   "cell_type": "markdown",
   "metadata": {
    "colab_type": "text",
    "id": "MDyX2WNDM1fC"
   },
   "source": [
    "Similar al ***Caso: Apruebo si falto a clase?*** del [notebook de probabilidad condicional](02_Condicional.ipynb), calcule la probabilidad de que un alumno haya faltado menos de 3 veces dado que sacó más de un 60% en la materia, i.e.\n",
    "$$\n",
    "P( \\text{absences} < 3 | \\text{G3} \\geq 12).\n",
    "$$\n",
    "\n",
    "Por favor, utilice el siguiente signature. Se recomienda cambiar el código solamente entre los comentarios \"Start\" y \"Finish\". \n",
    "Si quiere probar cosas, siéntase libre de crear nuevas celdas de código, aunque estas no serán evaluadas."
   ]
  },
  {
   "cell_type": "code",
   "execution_count": 2,
   "metadata": {
    "colab": {},
    "colab_type": "code",
    "id": "kgp3Px1JNFbA"
   },
   "outputs": [],
   "source": [
    "import numpy as np\n",
    "import pandas as pd\n",
    "\n",
    "def prob_condicional(\n",
    "    df=pd.read_csv('datasets/student-alcohol-consumption/student-mat.csv')):\n",
    "    \"\"\"Calcula P(absences < 3 | G3 >= 12).\n",
    "\n",
    "    Input:\n",
    "    df -- dataset de estudiantes\n",
    "\n",
    "    Output:\n",
    "    p        -- probabilidad de que absences > 3 dado que G3 >= 12\n",
    "    \"\"\"\n",
    "    #Start\n",
    "    #P(A/B)=P(B/A)*P(A)/P(B) = P(A,B)/P(B)\n",
    "    #A = tuvo menos de 3 ausencias\n",
    "    #B = sacó más del 60%\n",
    "    \n",
    "    df['cuenta'] = 1 \n",
    "    pAB = sum(np.where(df['absences'] < 3, 1, 0)*np.where(df['G3']*5 >= 60, 1, 0))/sum(df['cuenta'])\n",
    "\n",
    "    pB = sum(np.where(df['G3']*5 >= 60, 1, 0))/sum(df['cuenta'])\n",
    "   \n",
    "    \n",
    "\n",
    "    #guarda el valor final, como un número, en esta variable\n",
    "    resultado = pAB/pB\n",
    "    #Finish\n",
    "    return resultado"
   ]
  },
  {
   "cell_type": "code",
   "execution_count": 3,
   "metadata": {},
   "outputs": [
    {
     "name": "stdout",
     "output_type": "stream",
     "text": [
      "0.5\n"
     ]
    }
   ],
   "source": [
    "#prueba función prob_condicional\n",
    "resultado = prob_condicional()\n",
    "print(resultado)"
   ]
  },
  {
   "cell_type": "markdown",
   "metadata": {
    "colab_type": "text",
    "id": "laC3JpLHOx-h"
   },
   "source": [
    "## 2. Inferencia Bayesiana"
   ]
  },
  {
   "cell_type": "markdown",
   "metadata": {
    "colab_type": "text",
    "id": "dfG9aID6_CLD"
   },
   "source": [
    "Se tira una moneda N veces, de las cuales X sale cara. La moneda sale cara con una frecuencia $\\mu$ desconocida, pero que se cree que es *fair*. \n",
    "\n",
    "Construya una función que recibe el vector con los N resultados (1: cara, 0: seca) y con él calcule tanto el posterior del parámetro $\\mu$ como la probabilidad de que $\\mu>0.7$. Use como prior una distribución normal con media 0.5 y desviación estandar 0.1 ($\\mathcal{N}(0.5,0.1)$)\n",
    "\n",
    "Por favor, utilice el siguiente signature. Se recomienda cambiar el código solamente entre los comentarios \"Start\" y \"Finish\". \n",
    "Si quiere probar cosas, siéntase libre de crear nuevas celdas de código, aunque estas no serán evaluadas.\n",
    "\n",
    "<b>Ayuda</b>: usar los métodos <tt>pdf</tt> y <tt>pmf</tt> de las clases de <tt>scipy.stats</tt> que se importan al principio de la celda. Revisar también los notebooks de [teoría](03_Inferencia.ipynb) y [práctica](03p_Inferencia_Soluciones.ipynb) que se presentaron en clase."
   ]
  },
  {
   "cell_type": "code",
   "execution_count": 4,
   "metadata": {
    "colab": {},
    "colab_type": "code",
    "id": "-NY1kRNs1GnH"
   },
   "outputs": [],
   "source": [
    "import numpy as np\n",
    "from scipy.stats import binom, norm,bernoulli\n",
    "from matplotlib import pyplot as plt\n",
    "\n",
    "def inferencia_moneda(tiradas, seed=123):\n",
    "    \"\"\"Realiza inferencia bayesiana en el parametro mu de una moneda.\n",
    "\n",
    "    Input:\n",
    "    tiradas -- Resultado de N tiradas\n",
    "    seed    -- Semilla para np.random (default=123)\n",
    "\n",
    "    Output:\n",
    "    p        -- probabilidad de que mu>0.7\n",
    "    posterior-- posterior de mu, shape=(100,)\n",
    "    \"\"\"\n",
    "    np.random.seed(seed)\n",
    "    mu, step = np.linspace(0,1,num=100, retstep=True) #step es el espacio entre puntos\n",
    "    \n",
    "    #Numero de tiradas, y de veces que salio cara\n",
    "    N=len(tiradas)\n",
    "    X=np.sum(tiradas)\n",
    "\n",
    "    #Start\n",
    "    prior = norm.pdf(mu,0.5,0.1) #Esto es el prior evaluado en el vector mu\n",
    "    verosimilitud = binom.pmf(X,N,mu) #La verosimilitud evaluada en el vector mu\n",
    "    posterior = prior*verosimilitud #el posterior no normalizado\n",
    "    evidencia = posterior.sum()/len(posterior) #evidencia o verosimilitud marginalizada\n",
    "    posterior = posterior/evidencia #normalizamos para obtener el posterior\n",
    "    \n",
    "    lala= posterior.sum()\n",
    "    print(lala)\n",
    "    \n",
    "    p = posterior[mu>0.7].sum()/len(posterior) #Probabilidad de que mu > 0.7 \n",
    "    #Finish\n",
    "    assert len(posterior) == len(mu), \"Tamaño del posterior distinto al de mu\"\n",
    "    return p, np.array(posterior)\n",
    "\n"
   ]
  },
  {
   "cell_type": "code",
   "execution_count": 5,
   "metadata": {},
   "outputs": [
    {
     "name": "stdout",
     "output_type": "stream",
     "text": [
      "100.0\n",
      "2.9101555970393894e-06\n"
     ]
    },
    {
     "data": {
      "image/png": "[encoded data removed]",
      "text/plain": [
       "<matplotlib.figure.Figure at 0x7efc1f5a3320>"
      ]
     },
     "metadata": {
      "needs_background": "light"
     },
     "output_type": "display_data"
    }
   ],
   "source": [
    "#Pruba función inferencia moneda\n",
    "#Primero genero mi experimento. Supongamos un mu verdadero (que luego querré inferir cual es):\n",
    "true_mu = 0.5\n",
    "#Genero 1000 tiradas, es un proceso de Bernoulli. Esto es el experimento.\n",
    "N_max = 100\n",
    "tiradas = bernoulli.rvs(true_mu, size=N_max)\n",
    "p, posterior = inferencia_moneda(tiradas)\n",
    "print(p)\n",
    "plt.plot(posterior)\n",
    "plt.show()"
   ]
  },
  {
   "cell_type": "markdown",
   "metadata": {
    "colab_type": "text",
    "id": "koZhGjvgO4uo"
   },
   "source": [
    "## 3. Regresión Lineal"
   ]
  },
  {
   "cell_type": "markdown",
   "metadata": {
    "colab_type": "text",
    "id": "TLYPUIQrPMgk"
   },
   "source": [
    "Construye una función que dado un input (X_train, Y_train) realice un ajuste lineal de cuadrados mínimos, y con ello devuelva las predicciones para el input X_test como un vector Y_test.\n",
    "\n",
    "Por favor, utilice el siguiente signature. Se recomienda cambiar el código solamente entre los comentarios \"Start\" y \"Finish\". \n",
    "Si quiere probar cosas, siéntase libre de crear nuevas celdas de código, aunque estas no serán evaluadas.\n",
    "\n",
    "<b>Ayuda</b>: pueden usar la implementación de las ecuaciones normales que aparece en el notebook de [modelos lineales](05_ModelosLineales.ipynb) o las clases del módulo <tt>sklearn.linear_model</tt>."
   ]
  },
  {
   "cell_type": "code",
   "execution_count": 6,
   "metadata": {
    "colab": {},
    "colab_type": "code",
    "id": "NavUqiDhPLx-"
   },
   "outputs": [],
   "source": [
    "import numpy as np\n",
    "\n",
    "def ajuste_lineal(X_train, Y_train, X_test):\n",
    "    \"\"\"Calcula un ajuste lineal.\n",
    "\n",
    "    Input:\n",
    "    X_train -- datos de entrenamiento, shape=(N,1)\n",
    "    Y_train -- etiquetas de entrenamiento, shape=(N,1)\n",
    "    X_test  -- datos de testeo, shape=(N_test,1)\n",
    "\n",
    "    Output:\n",
    "    Y_test  -- prediccion de etiquetas para X_test, shape=(N_test,1)\n",
    "    \"\"\"\n",
    "\n",
    "    N=len(X_train)\n",
    "    N_test=len(X_test)\n",
    "    #Start\n",
    "  \n",
    "    # Defino la matriz de diseño uniendo dos vectores\n",
    "    phi = np.hstack([X_train*0.0 + 1, X_train])\n",
    "    \n",
    "    # Calculo el producto de phi por su transpuesta\n",
    "    pp = np.dot(phi.T, phi)\n",
    "\n",
    "    # Calculo el producto entre phi y el vector t\n",
    "    yy = np.dot(phi.T, Y_train)\n",
    "  \n",
    "    #resuelvo la ecuación (phiT.phi).Wt = phiT.t para calcular los w\n",
    "    wt = np.linalg.solve(pp, yy)\n",
    "    print(wt)\n",
    "    \n",
    "    #ahora guardamos los resultados en esta variable\n",
    "    phi_test = np.hstack([X_test*0.0 + 1, X_test])\n",
    "    \n",
    "    Y_test = phi_test @ wt\n",
    "    #Finish\n",
    "    assert len(Y_test) == len(X_test), \"Tamaño de Y_test distinto al de X_test\"\n",
    "    return np.array(Y_test)"
   ]
  },
  {
   "cell_type": "code",
   "execution_count": 7,
   "metadata": {},
   "outputs": [
    {
     "name": "stdout",
     "output_type": "stream",
     "text": [
      "(100, 1) (100, 1)\n",
      "[[9.10828836]\n",
      " [2.88738655]]\n"
     ]
    },
    {
     "data": {
      "image/png": "[encoded data removed]",
      "text/plain": [
       "<matplotlib.figure.Figure at 0x7efc10fa1588>"
      ]
     },
     "metadata": {
      "needs_background": "light"
     },
     "output_type": "display_data"
    }
   ],
   "source": [
    "#Prueba función ajuste_lineal\n",
    "import numpy.random as rr\n",
    "import matplotlib.pyplot as plt\n",
    "\n",
    "# Parámetros de la ground truth\n",
    "b = 9\n",
    "m = 3\n",
    "\n",
    "\n",
    "# Número de datos\n",
    "n = 100\n",
    "\n",
    "# \n",
    "x_ = 2 * np.random.rand(n, 1)\n",
    "\n",
    "# El modelo real (ground truth)\n",
    "t_ = b + m * x_\n",
    "\n",
    "# Agregemos error normal a los datos\n",
    "t_ += np.random.randn(n, 1)\n",
    "\n",
    "print(x_.shape, t_.shape)\n",
    "\n",
    "# Construye array con los x y los t\n",
    "data = np.hstack([x_, t_])\n",
    "# Implementación en scikit-learn\n",
    "from sklearn.model_selection import train_test_split\n",
    "dt_train, dt_test = train_test_split(data, test_size=0.2, random_state=1234)\n",
    "\n",
    "x = dt_train[:, 0].reshape(len(dt_train), 1)\n",
    "t = dt_train[:, 1].reshape(len(dt_train), 1)\n",
    "\n",
    "x_test = dt_test[:, 0].reshape(len(dt_test), 1)\n",
    "y_test = dt_test[:, 1].reshape(len(dt_test), 1)\n",
    "\n",
    "y_pred = ajuste_lineal(x, t, x_test)\n",
    "\n",
    "plt.plot(x_test, y_pred, 'o-r', lw=0.5)\n",
    "plt.plot(x_test, y_test, 'ob', lw=0.5)\n",
    "plt.xlabel('X')\n",
    "plt.ylabel('t')\n",
    "plt.show()\n"
   ]
  },
  {
   "cell_type": "code",
   "execution_count": null,
   "metadata": {},
   "outputs": [],
   "source": []
  },
  {
   "cell_type": "code",
   "execution_count": null,
   "metadata": {},
   "outputs": [],
   "source": []
  }
 ],
 "metadata": {
  "colab": {
   "collapsed_sections": [],
   "name": "Auto-evaluación.ipynb",
   "provenance": []
  },
  "kernelspec": {
   "display_name": "Python 3",
   "language": "python",
   "name": "python3"
  },
  "language_info": {
   "codemirror_mode": {
    "name": "ipython",
    "version": 3
   },
   "file_extension": ".py",
   "mimetype": "text/x-python",
   "name": "python",
   "nbconvert_exporter": "python",
   "pygments_lexer": "ipython3",
   "version": "3.6.9"
  }
 },
 "nbformat": 4,
 "nbformat_minor": 1
}
